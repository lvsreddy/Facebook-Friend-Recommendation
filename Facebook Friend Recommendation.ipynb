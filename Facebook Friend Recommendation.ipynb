{
  "nbformat": 4,
  "nbformat_minor": 0,
  "metadata": {
    "kernelspec": {
      "name": "python3",
      "display_name": "Python 3"
    },
    "language_info": {
      "codemirror_mode": {
        "name": "ipython",
        "version": 3
      },
      "file_extension": ".py",
      "mimetype": "text/x-python",
      "name": "python",
      "nbconvert_exporter": "python",
      "pygments_lexer": "ipython3",
      "version": "3.6.5"
    },
    "colab": {
      "name": "lvsudharshanreddy001@gmail.com_23.ipynb",
      "provenance": [],
      "machine_shape": "hm"
    },
    "accelerator": "GPU"
  },
  "cells": [
    {
      "cell_type": "markdown",
      "metadata": {
        "id": "aV7CXDT1ITda",
        "colab_type": "text"
      },
      "source": [
        "<p style=\"font-size:32px;text-align:center\"> <b>Social network Graph Link Prediction - Facebook Challenge</b> </p>"
      ]
    },
    {
      "cell_type": "markdown",
      "metadata": {
        "id": "KYui9IWRITdb",
        "colab_type": "text"
      },
      "source": [
        "### Problem statement: \n",
        "Given a directed social graph, have to predict missing links to recommend users (Link Prediction in graph)"
      ]
    },
    {
      "cell_type": "markdown",
      "metadata": {
        "id": "HPWb3h_uITdc",
        "colab_type": "text"
      },
      "source": [
        "### Data Overview\n",
        "Taken data from facebook's recruting challenge on kaggle https://www.kaggle.com/c/FacebookRecruiting  \n",
        "data contains two columns source and destination eac edge in graph \n",
        "    - Data columns (total 2 columns):  \n",
        "    - source_node         int64  \n",
        "    - destination_node    int64  "
      ]
    },
    {
      "cell_type": "markdown",
      "metadata": {
        "id": "9zU_-Kg5ITdd",
        "colab_type": "text"
      },
      "source": [
        "### Mapping the problem into supervised learning problem:\n",
        "- Generated training samples of good and bad links from given directed graph and for each link got some features like no of followers, is he followed back, page rank, katz score, adar index, some svd fetures of adj matrix, some weight features etc. and trained ml model based on these features to predict link. \n",
        "- Some reference papers and videos :  \n",
        "    - https://www.cs.cornell.edu/home/kleinber/link-pred.pdf\n",
        "    - https://www3.nd.edu/~dial/publications/lichtenwalter2010new.pdf\n",
        "    - https://kaggle2.blob.core.windows.net/forum-message-attachments/2594/supervised_link_prediction.pdf\n",
        "    - https://www.youtube.com/watch?v=2M77Hgy17cg"
      ]
    },
    {
      "cell_type": "markdown",
      "metadata": {
        "id": "2RHgLu74ITdf",
        "colab_type": "text"
      },
      "source": [
        "### Business objectives and constraints:  \n",
        "- No low-latency requirement.\n",
        "- Probability of prediction is useful to recommend ighest probability links"
      ]
    },
    {
      "cell_type": "markdown",
      "metadata": {
        "id": "AC2bal9cITdg",
        "colab_type": "text"
      },
      "source": [
        "### Performance metric for supervised learning:  \n",
        "- Both precision and recall is important so F1 score is good choice\n",
        "- Confusion matrix"
      ]
    },
    {
      "cell_type": "code",
      "metadata": {
        "id": "FRgSJrC6IVWv",
        "colab_type": "code",
        "outputId": "db86dcc0-30c9-4a16-d428-d956322f8ea5",
        "colab": {
          "base_uri": "https://localhost:8080/",
          "height": 137
        }
      },
      "source": [
        "from google.colab import drive\n",
        "drive.mount('/gdrive')\n",
        "%cd /gdrive"
      ],
      "execution_count": 1,
      "outputs": [
        {
          "output_type": "stream",
          "text": [
            "Go to this URL in a browser: https://accounts.google.com/o/oauth2/auth?client_id=947318989803-6bn6qk8qdgf4n4g3pfee6491hc0brc4i.apps.googleusercontent.com&redirect_uri=urn%3Aietf%3Awg%3Aoauth%3A2.0%3Aoob&scope=email%20https%3A%2F%2Fwww.googleapis.com%2Fauth%2Fdocs.test%20https%3A%2F%2Fwww.googleapis.com%2Fauth%2Fdrive%20https%3A%2F%2Fwww.googleapis.com%2Fauth%2Fdrive.photos.readonly%20https%3A%2F%2Fwww.googleapis.com%2Fauth%2Fpeopleapi.readonly&response_type=code\n",
            "\n",
            "Enter your authorization code:\n",
            "··········\n",
            "Mounted at /gdrive\n",
            "/gdrive\n"
          ],
          "name": "stdout"
        }
      ]
    },
    {
      "cell_type": "code",
      "metadata": {
        "id": "YoSeFbg6ITdi",
        "colab_type": "code",
        "colab": {}
      },
      "source": [
        "#Importing Libraries\n",
        "# please do go through this python notebook: \n",
        "import warnings\n",
        "warnings.filterwarnings(\"ignore\")\n",
        "\n",
        "import csv\n",
        "import pandas as pd#pandas to create small dataframes \n",
        "import datetime #Convert to unix time\n",
        "import time #Convert to unix time\n",
        "# if numpy is not installed already : pip3 install numpy\n",
        "import numpy as np#Do aritmetic operations on arrays\n",
        "# matplotlib: used to plot graphs\n",
        "import matplotlib\n",
        "import matplotlib.pylab as plt\n",
        "import seaborn as sns#Plots\n",
        "from matplotlib import rcParams#Size of plots  \n",
        "from sklearn.cluster import MiniBatchKMeans, KMeans#Clustering\n",
        "import math\n",
        "import pickle\n",
        "import os\n",
        "# to install xgboost: pip3 install xgboost\n",
        "import xgboost as xgb\n",
        "\n",
        "import warnings\n",
        "import networkx as nx\n",
        "import pdb\n",
        "import pickle"
      ],
      "execution_count": 0,
      "outputs": []
    },
    {
      "cell_type": "code",
      "metadata": {
        "id": "knM5TNj9ITdn",
        "colab_type": "code",
        "outputId": "8f66be28-6b5c-435d-ab56-8beea076e566",
        "colab": {
          "base_uri": "https://localhost:8080/",
          "height": 117
        }
      },
      "source": [
        "#reading graph\n",
        "if not os.path.isfile('./My Drive/Facebook/data/after_eda/train_woheader.csv'):\n",
        "    traincsv = pd.read_csv('./My Drive/Facebook/data/train.csv')\n",
        "    print(traincsv[traincsv.isna().any(1)])\n",
        "    print(traincsv.info())\n",
        "    print(\"Number of diplicate entries: \",sum(traincsv.duplicated()))\n",
        "    traincsv.to_csv('./My Drive/Facebook/data/after_eda/train_woheader.csv',header=False,index=False)\n",
        "    print(\"saved the graph into file\")\n",
        "else:\n",
        "    g=nx.read_edgelist('./My Drive/Facebook/data/after_eda/train_woheader.csv',delimiter=',',create_using=nx.DiGraph(),nodetype=int)\n",
        "    print(nx.info(g))"
      ],
      "execution_count": 4,
      "outputs": [
        {
          "output_type": "stream",
          "text": [
            "Name: \n",
            "Type: DiGraph\n",
            "Number of nodes: 1862220\n",
            "Number of edges: 9437519\n",
            "Average in degree:   5.0679\n",
            "Average out degree:   5.0679\n"
          ],
          "name": "stdout"
        }
      ]
    },
    {
      "cell_type": "markdown",
      "metadata": {
        "id": "RiJfYm7GITeH",
        "colab_type": "text"
      },
      "source": [
        "> Displaying a sub graph"
      ]
    },
    {
      "cell_type": "code",
      "metadata": {
        "id": "yfLzBdqmPfZH",
        "colab_type": "code",
        "colab": {}
      },
      "source": [
        "if not os.path.isfile('./My Drive/Facebook/data/train_woheader_sample.csv'):\n",
        "    df = pd.read_csv('./My Drive/Facebook/data/train.csv', nrows=50)"
      ],
      "execution_count": 0,
      "outputs": []
    },
    {
      "cell_type": "code",
      "metadata": {
        "id": "gSdfTPAJnaQb",
        "colab_type": "code",
        "outputId": "ba2b5dac-3cc1-4e34-a50d-289e17f89f01",
        "colab": {
          "base_uri": "https://localhost:8080/",
          "height": 107
        }
      },
      "source": [
        "df.head(2)"
      ],
      "execution_count": 6,
      "outputs": [
        {
          "output_type": "execute_result",
          "data": {
            "text/html": [
              "<div>\n",
              "<style scoped>\n",
              "    .dataframe tbody tr th:only-of-type {\n",
              "        vertical-align: middle;\n",
              "    }\n",
              "\n",
              "    .dataframe tbody tr th {\n",
              "        vertical-align: top;\n",
              "    }\n",
              "\n",
              "    .dataframe thead th {\n",
              "        text-align: right;\n",
              "    }\n",
              "</style>\n",
              "<table border=\"1\" class=\"dataframe\">\n",
              "  <thead>\n",
              "    <tr style=\"text-align: right;\">\n",
              "      <th></th>\n",
              "      <th>source_node</th>\n",
              "      <th>destination_node</th>\n",
              "    </tr>\n",
              "  </thead>\n",
              "  <tbody>\n",
              "    <tr>\n",
              "      <th>0</th>\n",
              "      <td>1</td>\n",
              "      <td>690569</td>\n",
              "    </tr>\n",
              "    <tr>\n",
              "      <th>1</th>\n",
              "      <td>1</td>\n",
              "      <td>315892</td>\n",
              "    </tr>\n",
              "  </tbody>\n",
              "</table>\n",
              "</div>"
            ],
            "text/plain": [
              "   source_node  destination_node\n",
              "0            1            690569\n",
              "1            1            315892"
            ]
          },
          "metadata": {
            "tags": []
          },
          "execution_count": 6
        }
      ]
    },
    {
      "cell_type": "code",
      "metadata": {
        "id": "bhAt3rodITeI",
        "colab_type": "code",
        "outputId": "2debb761-87a6-4bea-c3f6-00a5b35fd4bc",
        "colab": {
          "base_uri": "https://localhost:8080/",
          "height": 419
        }
      },
      "source": [
        "if not os.path.isfile('./My Drive/Facebook1/data/train_woheader_sample.csv'):\n",
        "    pd.read_csv('./My Drive/Facebook1/data/train.csv', nrows=50).to_csv('./My Drive/Facebook1/data/train_woheader_sample.csv',header=False,index=False)\n",
        "    \n",
        "subgraph=nx.read_edgelist('./My Drive/Facebook1/data/train_woheader_sample.csv',delimiter=',',create_using=nx.DiGraph(),nodetype=int)\n",
        "# https://stackoverflow.com/questions/9402255/drawing-a-huge-graph-with-networkx-and-matplotlib\n",
        "\n",
        "pos=nx.spring_layout(subgraph)\n",
        "nx.draw(subgraph,pos,node_color='#A0CBE2',edge_color='#00bb5e',width=1,edge_cmap=plt.cm.Blues,with_labels=True)\n",
        "plt.savefig(\"./My Drive/Facebook1/data/graph_sample.pdf\")\n",
        "print(nx.info(subgraph))"
      ],
      "execution_count": 7,
      "outputs": [
        {
          "output_type": "stream",
          "text": [
            "Name: \n",
            "Type: DiGraph\n",
            "Number of nodes: 66\n",
            "Number of edges: 50\n",
            "Average in degree:   0.7576\n",
            "Average out degree:   0.7576\n"
          ],
          "name": "stdout"
        },
        {
          "output_type": "display_data",
          "data": {
            "image/png": "[encoded data removed]",
            "text/plain": [
              "<Figure size 432x288 with 1 Axes>"
            ]
          },
          "metadata": {
            "tags": []
          }
        }
      ]
    },
    {
      "cell_type": "markdown",
      "metadata": {
        "id": "3-xRSR8cITeL",
        "colab_type": "text"
      },
      "source": [
        "# 1. Exploratory Data Analysis"
      ]
    },
    {
      "cell_type": "code",
      "metadata": {
        "id": "15kX3kLVITeN",
        "colab_type": "code",
        "outputId": "3d71467a-6216-4985-b2fd-cb387c03ffbb",
        "colab": {
          "base_uri": "https://localhost:8080/",
          "height": 33
        }
      },
      "source": [
        "# No of Unique persons \n",
        "print(\"The number of unique persons\",len(g.nodes()))"
      ],
      "execution_count": 8,
      "outputs": [
        {
          "output_type": "stream",
          "text": [
            "The number of unique persons 1862220\n"
          ],
          "name": "stdout"
        }
      ]
    },
    {
      "cell_type": "markdown",
      "metadata": {
        "id": "z31qEoYaITeR",
        "colab_type": "text"
      },
      "source": [
        "## 1.1 No of followers for each person"
      ]
    },
    {
      "cell_type": "code",
      "metadata": {
        "id": "N-OpoJ5tITeS",
        "colab_type": "code",
        "outputId": "5b96e220-8668-49b2-87a4-1236e35c471f",
        "colab": {
          "base_uri": "https://localhost:8080/",
          "height": 392
        }
      },
      "source": [
        "indegree_dist = list(dict(g.in_degree()).values())\n",
        "indegree_dist.sort()\n",
        "plt.figure(figsize=(10,6))\n",
        "plt.plot(indegree_dist)\n",
        "plt.xlabel('Index No')\n",
        "plt.ylabel('No Of Followers')\n",
        "plt.show()"
      ],
      "execution_count": 9,
      "outputs": [
        {
          "output_type": "display_data",
          "data": {
            "image/png": "[encoded data removed]",
            "text/plain": [
              "<Figure size 720x432 with 1 Axes>"
            ]
          },
          "metadata": {
            "tags": []
          }
        }
      ]
    },
    {
      "cell_type": "code",
      "metadata": {
        "id": "2rm0wPnFITeZ",
        "colab_type": "code",
        "outputId": "c75ba315-4692-44f7-a7dc-65f69eae0a22",
        "colab": {
          "base_uri": "https://localhost:8080/",
          "height": 392
        }
      },
      "source": [
        "indegree_dist = list(dict(g.in_degree()).values())\n",
        "indegree_dist.sort()\n",
        "plt.figure(figsize=(10,6))\n",
        "plt.plot(indegree_dist[0:1500000])\n",
        "plt.xlabel('Index No')\n",
        "plt.ylabel('No Of Followers')\n",
        "plt.show()"
      ],
      "execution_count": 10,
      "outputs": [
        {
          "output_type": "display_data",
          "data": {
            "image/png": "[encoded data removed]",
            "text/plain": [
              "<Figure size 720x432 with 1 Axes>"
            ]
          },
          "metadata": {
            "tags": []
          }
        }
      ]
    },
    {
      "cell_type": "code",
      "metadata": {
        "id": "LwH8YzjGITee",
        "colab_type": "code",
        "outputId": "e5f4f920-edfb-4449-81c5-fd44be9afb97",
        "colab": {
          "base_uri": "https://localhost:8080/",
          "height": 269
        }
      },
      "source": [
        "plt.boxplot(indegree_dist)\n",
        "plt.ylabel('No Of Followers')\n",
        "\n",
        "plt.show()"
      ],
      "execution_count": 11,
      "outputs": [
        {
          "output_type": "display_data",
          "data": {
            "image/png": "[encoded data removed]",
            "text/plain": [
              "<Figure size 432x288 with 1 Axes>"
            ]
          },
          "metadata": {
            "tags": []
          }
        }
      ]
    },
    {
      "cell_type": "code",
      "metadata": {
        "id": "t4kWP736ITel",
        "colab_type": "code",
        "outputId": "b440412e-1619-4a22-920a-5f32c240b089",
        "colab": {
          "base_uri": "https://localhost:8080/",
          "height": 200
        }
      },
      "source": [
        "### 90-100 percentile\n",
        "for i in range(0,11):\n",
        "    print(90+i,'percentile value is',np.percentile(indegree_dist,90+i))"
      ],
      "execution_count": 12,
      "outputs": [
        {
          "output_type": "stream",
          "text": [
            "90 percentile value is 12.0\n",
            "91 percentile value is 13.0\n",
            "92 percentile value is 14.0\n",
            "93 percentile value is 15.0\n",
            "94 percentile value is 17.0\n",
            "95 percentile value is 19.0\n",
            "96 percentile value is 21.0\n",
            "97 percentile value is 24.0\n",
            "98 percentile value is 29.0\n",
            "99 percentile value is 40.0\n",
            "100 percentile value is 552.0\n"
          ],
          "name": "stdout"
        }
      ]
    },
    {
      "cell_type": "markdown",
      "metadata": {
        "id": "sS9k2ZezITep",
        "colab_type": "text"
      },
      "source": [
        "99% of data having followers of 40 only."
      ]
    },
    {
      "cell_type": "code",
      "metadata": {
        "id": "qx7pD1C5ITer",
        "colab_type": "code",
        "outputId": "428fd7d4-948a-4c57-960d-a33599ea2adb",
        "colab": {
          "base_uri": "https://localhost:8080/",
          "height": 183
        }
      },
      "source": [
        "### 99-100 percentile\n",
        "for i in range(10,110,10):\n",
        "    print(99+(i/100),'percentile value is',np.percentile(indegree_dist,99+(i/100)))"
      ],
      "execution_count": 13,
      "outputs": [
        {
          "output_type": "stream",
          "text": [
            "99.1 percentile value is 42.0\n",
            "99.2 percentile value is 44.0\n",
            "99.3 percentile value is 47.0\n",
            "99.4 percentile value is 50.0\n",
            "99.5 percentile value is 55.0\n",
            "99.6 percentile value is 61.0\n",
            "99.7 percentile value is 70.0\n",
            "99.8 percentile value is 84.0\n",
            "99.9 percentile value is 112.0\n",
            "100.0 percentile value is 552.0\n"
          ],
          "name": "stdout"
        }
      ]
    },
    {
      "cell_type": "code",
      "metadata": {
        "id": "CptlNwf-ITew",
        "colab_type": "code",
        "outputId": "edd61335-1a7d-424d-ab4c-779d4adb916d",
        "colab": {
          "base_uri": "https://localhost:8080/",
          "height": 515
        }
      },
      "source": [
        "%matplotlib inline\n",
        "sns.set_style('ticks')\n",
        "fig, ax = plt.subplots()\n",
        "fig.set_size_inches(11.7, 8.27)\n",
        "sns.distplot(indegree_dist, color='#16A085')\n",
        "plt.xlabel('PDF of Indegree')\n",
        "sns.despine()\n",
        "#plt.show()"
      ],
      "execution_count": 14,
      "outputs": [
        {
          "output_type": "display_data",
          "data": {
            "image/png": "[encoded data removed]",
            "text/plain": [
              "<Figure size 842.4x595.44 with 1 Axes>"
            ]
          },
          "metadata": {
            "tags": []
          }
        }
      ]
    },
    {
      "cell_type": "markdown",
      "metadata": {
        "id": "Z7WcNrJeITe2",
        "colab_type": "text"
      },
      "source": [
        "## 1.2 No of people each person is following"
      ]
    },
    {
      "cell_type": "code",
      "metadata": {
        "id": "y7t5nc2oITe3",
        "colab_type": "code",
        "outputId": "4ca371d7-f1f4-42a5-982a-bd8ea40f02e0",
        "colab": {
          "base_uri": "https://localhost:8080/",
          "height": 392
        }
      },
      "source": [
        "outdegree_dist = list(dict(g.out_degree()).values())\n",
        "outdegree_dist.sort()\n",
        "plt.figure(figsize=(10,6))\n",
        "plt.plot(outdegree_dist)\n",
        "plt.xlabel('Index No')\n",
        "plt.ylabel('No Of people each person is following')\n",
        "plt.show()"
      ],
      "execution_count": 15,
      "outputs": [
        {
          "output_type": "display_data",
          "data": {
            "image/png": "[encoded data removed]",
            "text/plain": [
              "<Figure size 720x432 with 1 Axes>"
            ]
          },
          "metadata": {
            "tags": []
          }
        }
      ]
    },
    {
      "cell_type": "code",
      "metadata": {
        "id": "euO1wSJvITe6",
        "colab_type": "code",
        "outputId": "66a10abd-5fb3-4388-c3a6-97a53666d0d4",
        "colab": {
          "base_uri": "https://localhost:8080/",
          "height": 392
        }
      },
      "source": [
        "indegree_dist = list(dict(g.in_degree()).values())\n",
        "indegree_dist.sort()\n",
        "plt.figure(figsize=(10,6))\n",
        "plt.plot(outdegree_dist[0:1500000])\n",
        "plt.xlabel('Index No')\n",
        "plt.ylabel('No Of people each person is following')\n",
        "plt.show()"
      ],
      "execution_count": 16,
      "outputs": [
        {
          "output_type": "display_data",
          "data": {
            "image/png": "[encoded data removed]",
            "text/plain": [
              "<Figure size 720x432 with 1 Axes>"
            ]
          },
          "metadata": {
            "tags": []
          }
        }
      ]
    },
    {
      "cell_type": "code",
      "metadata": {
        "id": "aoAODgAqITe9",
        "colab_type": "code",
        "outputId": "678db620-6678-4933-a857-c3a23d5da98b",
        "colab": {
          "base_uri": "https://localhost:8080/",
          "height": 269
        }
      },
      "source": [
        "plt.boxplot(indegree_dist)\n",
        "plt.ylabel('No Of people each person is following')\n",
        "plt.show()"
      ],
      "execution_count": 17,
      "outputs": [
        {
          "output_type": "display_data",
          "data": {
            "image/png": "[encoded data removed]",
            "text/plain": [
              "<Figure size 432x288 with 1 Axes>"
            ]
          },
          "metadata": {
            "tags": []
          }
        }
      ]
    },
    {
      "cell_type": "code",
      "metadata": {
        "id": "qzeKJVehITfC",
        "colab_type": "code",
        "outputId": "a58dd9f2-96c1-4fc3-e8dc-5806adb1521f",
        "colab": {
          "base_uri": "https://localhost:8080/",
          "height": 200
        }
      },
      "source": [
        "### 90-100 percentile\n",
        "for i in range(0,11):\n",
        "    print(90+i,'percentile value is',np.percentile(outdegree_dist,90+i))"
      ],
      "execution_count": 18,
      "outputs": [
        {
          "output_type": "stream",
          "text": [
            "90 percentile value is 12.0\n",
            "91 percentile value is 13.0\n",
            "92 percentile value is 14.0\n",
            "93 percentile value is 15.0\n",
            "94 percentile value is 17.0\n",
            "95 percentile value is 19.0\n",
            "96 percentile value is 21.0\n",
            "97 percentile value is 24.0\n",
            "98 percentile value is 29.0\n",
            "99 percentile value is 40.0\n",
            "100 percentile value is 1566.0\n"
          ],
          "name": "stdout"
        }
      ]
    },
    {
      "cell_type": "code",
      "metadata": {
        "id": "taPi6eoNITfG",
        "colab_type": "code",
        "outputId": "ef985abd-7708-4909-ebed-b67c22040508",
        "colab": {
          "base_uri": "https://localhost:8080/",
          "height": 183
        }
      },
      "source": [
        "### 99-100 percentile\n",
        "for i in range(10,110,10):\n",
        "    print(99+(i/100),'percentile value is',np.percentile(outdegree_dist,99+(i/100)))"
      ],
      "execution_count": 19,
      "outputs": [
        {
          "output_type": "stream",
          "text": [
            "99.1 percentile value is 42.0\n",
            "99.2 percentile value is 45.0\n",
            "99.3 percentile value is 48.0\n",
            "99.4 percentile value is 52.0\n",
            "99.5 percentile value is 56.0\n",
            "99.6 percentile value is 63.0\n",
            "99.7 percentile value is 73.0\n",
            "99.8 percentile value is 90.0\n",
            "99.9 percentile value is 123.0\n",
            "100.0 percentile value is 1566.0\n"
          ],
          "name": "stdout"
        }
      ]
    },
    {
      "cell_type": "code",
      "metadata": {
        "id": "zwjVrl3lITfM",
        "colab_type": "code",
        "outputId": "83ed6a8c-384a-4d0c-a9b4-44befbace7f2",
        "colab": {
          "base_uri": "https://localhost:8080/",
          "height": 515
        }
      },
      "source": [
        "sns.set_style('ticks')\n",
        "fig, ax = plt.subplots()\n",
        "fig.set_size_inches(11.7, 8.27)\n",
        "sns.distplot(outdegree_dist, color='#16A085')\n",
        "plt.xlabel('PDF of Outdegree')\n",
        "sns.despine()"
      ],
      "execution_count": 20,
      "outputs": [
        {
          "output_type": "display_data",
          "data": {
            "image/png": "[encoded data removed]",
            "text/plain": [
              "<Figure size 842.4x595.44 with 1 Axes>"
            ]
          },
          "metadata": {
            "tags": []
          }
        }
      ]
    },
    {
      "cell_type": "code",
      "metadata": {
        "id": "YhEtcVISITfV",
        "colab_type": "code",
        "outputId": "a5b405f9-f6d4-4fd8-c80c-f8a514eb2cf6",
        "colab": {
          "base_uri": "https://localhost:8080/",
          "height": 33
        }
      },
      "source": [
        "print('No of persons those are not following anyone are' ,sum(np.array(outdegree_dist)==0),'and % is',\n",
        "                                sum(np.array(outdegree_dist)==0)*100/len(outdegree_dist) )"
      ],
      "execution_count": 21,
      "outputs": [
        {
          "output_type": "stream",
          "text": [
            "No of persons those are not following anyone are 274512 and % is 14.741115442858524\n"
          ],
          "name": "stdout"
        }
      ]
    },
    {
      "cell_type": "code",
      "metadata": {
        "id": "tAhmqz9rITff",
        "colab_type": "code",
        "outputId": "6796a90c-114e-4f90-8c81-8f31b0fc7e8e",
        "colab": {
          "base_uri": "https://localhost:8080/",
          "height": 33
        }
      },
      "source": [
        "print('No of persons having zero followers are' ,sum(np.array(indegree_dist)==0),'and % is',\n",
        "                                sum(np.array(indegree_dist)==0)*100/len(indegree_dist) )"
      ],
      "execution_count": 22,
      "outputs": [
        {
          "output_type": "stream",
          "text": [
            "No of persons having zero followers are 188043 and % is 10.097786512871734\n"
          ],
          "name": "stdout"
        }
      ]
    },
    {
      "cell_type": "code",
      "metadata": {
        "id": "y-1vCQ-XITfm",
        "colab_type": "code",
        "outputId": "01c232f7-453c-47e4-af5a-db2290b51e63",
        "colab": {
          "base_uri": "https://localhost:8080/",
          "height": 33
        }
      },
      "source": [
        "count=0\n",
        "for i in g.nodes():\n",
        "    if len(list(g.predecessors(i)))==0 :\n",
        "        if len(list(g.successors(i)))==0:\n",
        "            count+=1\n",
        "print('No of persons those are not not following anyone and also not having any followers are',count)"
      ],
      "execution_count": 23,
      "outputs": [
        {
          "output_type": "stream",
          "text": [
            "No of persons those are not not following anyone and also not having any followers are 0\n"
          ],
          "name": "stdout"
        }
      ]
    },
    {
      "cell_type": "markdown",
      "metadata": {
        "id": "sfAbMjQPITfq",
        "colab_type": "text"
      },
      "source": [
        "## 1.3 both followers + following "
      ]
    },
    {
      "cell_type": "code",
      "metadata": {
        "id": "Qsj_Zn_GITfr",
        "colab_type": "code",
        "colab": {}
      },
      "source": [
        "from collections import Counter\n",
        "dict_in = dict(g.in_degree())\n",
        "dict_out = dict(g.out_degree())\n",
        "d = Counter(dict_in) + Counter(dict_out)\n",
        "in_out_degree = np.array(list(d.values()))"
      ],
      "execution_count": 0,
      "outputs": []
    },
    {
      "cell_type": "code",
      "metadata": {
        "id": "2ICOVto5ITfv",
        "colab_type": "code",
        "outputId": "459ee1bf-ec94-4599-fb1c-2a70c7a9977e",
        "colab": {
          "base_uri": "https://localhost:8080/",
          "height": 392
        }
      },
      "source": [
        "in_out_degree_sort = sorted(in_out_degree)\n",
        "plt.figure(figsize=(10,6))\n",
        "plt.plot(in_out_degree_sort)\n",
        "plt.xlabel('Index No')\n",
        "plt.ylabel('No Of people each person is following + followers')\n",
        "plt.show()"
      ],
      "execution_count": 25,
      "outputs": [
        {
          "output_type": "display_data",
          "data": {
            "image/png": "[encoded data removed]",
            "text/plain": [
              "<Figure size 720x432 with 1 Axes>"
            ]
          },
          "metadata": {
            "tags": []
          }
        }
      ]
    },
    {
      "cell_type": "code",
      "metadata": {
        "id": "Ixp-PDk_ITfz",
        "colab_type": "code",
        "outputId": "db991041-55ef-459e-fae9-35b959627703",
        "colab": {
          "base_uri": "https://localhost:8080/",
          "height": 392
        }
      },
      "source": [
        "in_out_degree_sort = sorted(in_out_degree)\n",
        "plt.figure(figsize=(10,6))\n",
        "plt.plot(in_out_degree_sort[0:1500000])\n",
        "plt.xlabel('Index No')\n",
        "plt.ylabel('No Of people each person is following + followers')\n",
        "plt.show()"
      ],
      "execution_count": 26,
      "outputs": [
        {
          "output_type": "display_data",
          "data": {
            "image/png": "[encoded data removed]",
            "text/plain": [
              "<Figure size 720x432 with 1 Axes>"
            ]
          },
          "metadata": {
            "tags": []
          }
        }
      ]
    },
    {
      "cell_type": "code",
      "metadata": {
        "id": "o3a0BLJJITf3",
        "colab_type": "code",
        "outputId": "09750da5-5252-484d-a88f-dcacc425275d",
        "colab": {
          "base_uri": "https://localhost:8080/",
          "height": 200
        }
      },
      "source": [
        "### 90-100 percentile\n",
        "for i in range(0,11):\n",
        "    print(90+i,'percentile value is',np.percentile(in_out_degree_sort,90+i))"
      ],
      "execution_count": 27,
      "outputs": [
        {
          "output_type": "stream",
          "text": [
            "90 percentile value is 24.0\n",
            "91 percentile value is 26.0\n",
            "92 percentile value is 28.0\n",
            "93 percentile value is 31.0\n",
            "94 percentile value is 33.0\n",
            "95 percentile value is 37.0\n",
            "96 percentile value is 41.0\n",
            "97 percentile value is 48.0\n",
            "98 percentile value is 58.0\n",
            "99 percentile value is 79.0\n",
            "100 percentile value is 1579.0\n"
          ],
          "name": "stdout"
        }
      ]
    },
    {
      "cell_type": "code",
      "metadata": {
        "id": "jQ6RG7pRITf5",
        "colab_type": "code",
        "outputId": "f728a996-6fcf-4ebe-89eb-9cc798652724",
        "colab": {
          "base_uri": "https://localhost:8080/",
          "height": 183
        }
      },
      "source": [
        "### 99-100 percentile\n",
        "for i in range(10,110,10):\n",
        "    print(99+(i/100),'percentile value is',np.percentile(in_out_degree_sort,99+(i/100)))"
      ],
      "execution_count": 28,
      "outputs": [
        {
          "output_type": "stream",
          "text": [
            "99.1 percentile value is 83.0\n",
            "99.2 percentile value is 87.0\n",
            "99.3 percentile value is 93.0\n",
            "99.4 percentile value is 99.0\n",
            "99.5 percentile value is 108.0\n",
            "99.6 percentile value is 120.0\n",
            "99.7 percentile value is 138.0\n",
            "99.8 percentile value is 168.0\n",
            "99.9 percentile value is 221.0\n",
            "100.0 percentile value is 1579.0\n"
          ],
          "name": "stdout"
        }
      ]
    },
    {
      "cell_type": "code",
      "metadata": {
        "id": "KCog3BCxITf7",
        "colab_type": "code",
        "outputId": "c07e446e-1c25-43f3-9f4a-60b97ba3042e",
        "colab": {
          "base_uri": "https://localhost:8080/",
          "height": 50
        }
      },
      "source": [
        "print('Min of no of followers + following is',in_out_degree.min())\n",
        "print(np.sum(in_out_degree==in_out_degree.min()),' persons having minimum no of followers + following')"
      ],
      "execution_count": 29,
      "outputs": [
        {
          "output_type": "stream",
          "text": [
            "Min of no of followers + following is 1\n",
            "334291  persons having minimum no of followers + following\n"
          ],
          "name": "stdout"
        }
      ]
    },
    {
      "cell_type": "code",
      "metadata": {
        "id": "8Nvie-sPITf_",
        "colab_type": "code",
        "outputId": "2ffd98c3-1056-454b-ebab-c615f58e5cff",
        "colab": {
          "base_uri": "https://localhost:8080/",
          "height": 50
        }
      },
      "source": [
        "print('Max of no of followers + following is',in_out_degree.max())\n",
        "print(np.sum(in_out_degree==in_out_degree.max()),' persons having maximum no of followers + following')"
      ],
      "execution_count": 30,
      "outputs": [
        {
          "output_type": "stream",
          "text": [
            "Max of no of followers + following is 1579\n",
            "1  persons having maximum no of followers + following\n"
          ],
          "name": "stdout"
        }
      ]
    },
    {
      "cell_type": "code",
      "metadata": {
        "id": "R4w-ETF1ITgC",
        "colab_type": "code",
        "outputId": "2e2ae907-0408-4291-a08c-427f34ac6e44",
        "colab": {
          "base_uri": "https://localhost:8080/",
          "height": 33
        }
      },
      "source": [
        "print('No of persons having followers + following less than 10 are',np.sum(in_out_degree<10))"
      ],
      "execution_count": 31,
      "outputs": [
        {
          "output_type": "stream",
          "text": [
            "No of persons having followers + following less than 10 are 1320326\n"
          ],
          "name": "stdout"
        }
      ]
    },
    {
      "cell_type": "code",
      "metadata": {
        "id": "3vLeXJGvITgH",
        "colab_type": "code",
        "outputId": "699d5e7a-02e7-4d66-8a68-43acdbe8e78a",
        "colab": {
          "base_uri": "https://localhost:8080/",
          "height": 50
        }
      },
      "source": [
        "print('No of weakly connected components',len(list(nx.weakly_connected_components(g))))\n",
        "count=0\n",
        "for i in list(nx.weakly_connected_components(g)):\n",
        "    if len(i)==2:\n",
        "        count+=1\n",
        "print('weakly connected components wit 2 nodes',count)"
      ],
      "execution_count": 32,
      "outputs": [
        {
          "output_type": "stream",
          "text": [
            "No of weakly connected components 45558\n",
            "weakly connected components wit 2 nodes 32195\n"
          ],
          "name": "stdout"
        }
      ]
    },
    {
      "cell_type": "markdown",
      "metadata": {
        "id": "_9hsSKOqITgJ",
        "colab_type": "text"
      },
      "source": [
        "# 2. Posing a problem as classification problem "
      ]
    },
    {
      "cell_type": "markdown",
      "metadata": {
        "id": "z55s5g2yITgK",
        "colab_type": "text"
      },
      "source": [
        "## 2.1 Generating some edges which are not present in graph for supervised learning  \n",
        "Generated Bad links from graph which are not in graph and whose shortest path is greater than 2. "
      ]
    },
    {
      "cell_type": "code",
      "metadata": {
        "id": "0R3WhkK-ITgM",
        "colab_type": "code",
        "outputId": "4a8e2194-4be4-4439-d0fd-6ff33a8fecef",
        "colab": {
          "base_uri": "https://localhost:8080/",
          "height": 50
        }
      },
      "source": [
        "%%time\n",
        "###generating bad edges from given graph\n",
        "import random\n",
        "if not os.path.isfile('./My Drive/Facebook1/data/after_eda/missing_edges_final.p'):\n",
        "    #getting all set of edges\n",
        "    r = csv.reader(open('./My Drive/Facebook1/data/after_eda/train_woheader.csv','r'))\n",
        "    edges = dict()\n",
        "    for edge in r:\n",
        "        edges[(edge[0], edge[1])] = 1\n",
        "        \n",
        "        \n",
        "    missing_edges = set([])\n",
        "    while (len(missing_edges)<9437519):\n",
        "        a=random.randint(1, 1862220)\n",
        "        b=random.randint(1, 1862220)\n",
        "        tmp = edges.get((a,b),-1)\n",
        "        if tmp == -1 and a!=b:\n",
        "            try:\n",
        "                if nx.shortest_path_length(g,source=a,target=b) > 2: \n",
        "\n",
        "                    missing_edges.add((a,b))\n",
        "                else:\n",
        "                    continue  \n",
        "            except:  \n",
        "                    missing_edges.add((a,b))              \n",
        "        else:\n",
        "            continue\n",
        "    pickle.dump(missing_edges,open('./My Drive/Facebook1/data/after_eda/missing_edges_final.p','wb'))\n",
        "else:\n",
        "    missing_edges = pickle.load(open('./My Drive/Facebook1/data/after_eda/missing_edges_final.p','rb'))"
      ],
      "execution_count": 33,
      "outputs": [
        {
          "output_type": "stream",
          "text": [
            "CPU times: user 2.13 s, sys: 809 ms, total: 2.93 s\n",
            "Wall time: 10.8 s\n"
          ],
          "name": "stdout"
        }
      ]
    },
    {
      "cell_type": "code",
      "metadata": {
        "id": "ryOsbPTWITgO",
        "colab_type": "code",
        "outputId": "993607f4-aca0-430a-e95d-4f227b80a573",
        "colab": {
          "base_uri": "https://localhost:8080/",
          "height": 33
        }
      },
      "source": [
        "len(missing_edges)"
      ],
      "execution_count": 34,
      "outputs": [
        {
          "output_type": "execute_result",
          "data": {
            "text/plain": [
              "9437519"
            ]
          },
          "metadata": {
            "tags": []
          },
          "execution_count": 34
        }
      ]
    },
    {
      "cell_type": "markdown",
      "metadata": {
        "id": "6R5z5MiVITgQ",
        "colab_type": "text"
      },
      "source": [
        "## 2.2 Training and Test data split:  \n",
        "Removed edges from Graph and used as test data and after removing used that graph for creating features for Train and test data"
      ]
    },
    {
      "cell_type": "code",
      "metadata": {
        "id": "q4nR5jtFITgR",
        "colab_type": "code",
        "colab": {}
      },
      "source": [
        "from sklearn.model_selection import train_test_split\n",
        "if (not os.path.isfile('./My Drive/Facebook1/data/after_eda/train_pos_after_eda.csv')) and (not os.path.isfile('./My Drive/Facebook1/data/after_eda/test_pos_after_eda.csv')):\n",
        "    #reading total data df\n",
        "    df_pos = pd.read_csv('data/train.csv')\n",
        "    df_neg = pd.DataFrame(list(missing_edges), columns=['source_node', 'destination_node'])\n",
        "    \n",
        "    print(\"Number of nodes in the graph with edges\", df_pos.shape[0])\n",
        "    print(\"Number of nodes in the graph without edges\", df_neg.shape[0])\n",
        "    \n",
        "    #Trian test split \n",
        "    #Spiltted data into 80-20 \n",
        "    #positive links and negative links seperatly because we need positive training data only for creating graph \n",
        "    #and for feature generation\n",
        "    X_train_pos, X_test_pos, y_train_pos, y_test_pos  = train_test_split(df_pos,np.ones(len(df_pos)),test_size=0.2, random_state=9)\n",
        "    X_train_neg, X_test_neg, y_train_neg, y_test_neg  = train_test_split(df_neg,np.zeros(len(df_neg)),test_size=0.2, random_state=9)\n",
        "    \n",
        "    print('='*60)\n",
        "    print(\"Number of nodes in the train data graph with edges\", X_train_pos.shape[0],\"=\",y_train_pos.shape[0])\n",
        "    print(\"Number of nodes in the train data graph without edges\", X_train_neg.shape[0],\"=\", y_train_neg.shape[0])\n",
        "    print('='*60)\n",
        "    print(\"Number of nodes in the test data graph with edges\", X_test_pos.shape[0],\"=\",y_test_pos.shape[0])\n",
        "    print(\"Number of nodes in the test data graph without edges\", X_test_neg.shape[0],\"=\",y_test_neg.shape[0])\n",
        "\n",
        "    #removing header and saving\n",
        "    X_train_pos.to_csv('./My Drive/Facebook1/data/after_eda/train_pos_after_eda.csv',header=False, index=False)\n",
        "    X_test_pos.to_csv('./My Drive/Facebook1/data/after_eda/test_pos_after_eda.csv',header=False, index=False)\n",
        "    X_train_neg.to_csv('./My Drive/Facebook1/data/after_eda/train_neg_after_eda.csv',header=False, index=False)\n",
        "    X_test_neg.to_csv('./My Drive/Facebook1/data/after_eda/test_neg_after_eda.csv',header=False, index=False)\n",
        "else:\n",
        "    #Graph from Traing data only \n",
        "    del missing_edges"
      ],
      "execution_count": 0,
      "outputs": []
    },
    {
      "cell_type": "code",
      "metadata": {
        "id": "U4DQJ5aTITgT",
        "colab_type": "code",
        "outputId": "a3ea5575-4608-477e-ac6d-f332679bf4f8",
        "colab": {
          "base_uri": "https://localhost:8080/",
          "height": 283
        }
      },
      "source": [
        "if (os.path.isfile('./My Drive/Facebook1/data/after_eda/train_pos_after_eda.csv')) and (os.path.isfile('./My Drive/Facebook1/data/after_eda/test_pos_after_eda.csv')):        \n",
        "    train_graph=nx.read_edgelist('./My Drive/Facebook1/data/after_eda/train_pos_after_eda.csv',delimiter=',',create_using=nx.DiGraph(),nodetype=int)\n",
        "    test_graph=nx.read_edgelist('./My Drive/Facebook1/data/after_eda/test_pos_after_eda.csv',delimiter=',',create_using=nx.DiGraph(),nodetype=int)\n",
        "    print(nx.info(train_graph))\n",
        "    print(nx.info(test_graph))\n",
        "\n",
        "    # finding the unique nodes in the both train and test graphs\n",
        "    train_nodes_pos = set(train_graph.nodes())\n",
        "    test_nodes_pos = set(test_graph.nodes())\n",
        "\n",
        "    trY_teY = len(train_nodes_pos.intersection(test_nodes_pos))\n",
        "    trY_teN = len(train_nodes_pos - test_nodes_pos)\n",
        "    teY_trN = len(test_nodes_pos - train_nodes_pos)\n",
        "\n",
        "    print('no of people common in train and test -- ',trY_teY)\n",
        "    print('no of people present in train but not present in test -- ',trY_teN)\n",
        "\n",
        "    print('no of people present in test but not present in train -- ',teY_trN)\n",
        "    print(' % of people not there in Train but exist in Test in total Test data are {} %'.format(teY_trN/len(test_nodes_pos)*100))"
      ],
      "execution_count": 36,
      "outputs": [
        {
          "output_type": "stream",
          "text": [
            "Name: \n",
            "Type: DiGraph\n",
            "Number of nodes: 1780722\n",
            "Number of edges: 7550015\n",
            "Average in degree:   4.2399\n",
            "Average out degree:   4.2399\n",
            "Name: \n",
            "Type: DiGraph\n",
            "Number of nodes: 1144623\n",
            "Number of edges: 1887504\n",
            "Average in degree:   1.6490\n",
            "Average out degree:   1.6490\n",
            "no of people common in train and test --  1063125\n",
            "no of people present in train but not present in test --  717597\n",
            "no of people present in test but not present in train --  81498\n",
            " % of people not there in Train but exist in Test in total Test data are 7.1200735962845405 %\n"
          ],
          "name": "stdout"
        }
      ]
    },
    {
      "cell_type": "markdown",
      "metadata": {
        "id": "ammJdUsEITgY",
        "colab_type": "text"
      },
      "source": [
        "> we have a cold start problem here"
      ]
    },
    {
      "cell_type": "code",
      "metadata": {
        "id": "t06n_WJNITgZ",
        "colab_type": "code",
        "colab": {}
      },
      "source": [
        "#final train and test data sets\n",
        "if (not os.path.isfile('./My Drive/Facebook1/data/after_eda/train_after_eda.csv')) and \\\n",
        "(not os.path.isfile('./My Drive/Facebook1/data/after_eda/test_after_eda.csv')) and \\\n",
        "(not os.path.isfile('./My Drive/Facebook1/data/train_y.csv')) and \\\n",
        "(not os.path.isfile('./My Drive/Facebook1/data/test_y.csv')) and \\\n",
        "(os.path.isfile('./My Drive/Facebook1/data/after_eda/train_pos_after_eda.csv')) and \\\n",
        "(os.path.isfile('./My Drive/Facebook1/data/after_eda/test_pos_after_eda.csv')) and \\\n",
        "(os.path.isfile('./My Drive/Facebook1/data/after_eda/train_neg_after_eda.csv')) and \\\n",
        "(os.path.isfile('./My Drive/Facebook1/data/after_eda/test_neg_after_eda.csv')):\n",
        "    \n",
        "    X_train_pos = pd.read_csv('./My Drive/Facebook1/data/after_eda/train_pos_after_eda.csv', names=['source_node', 'destination_node'])\n",
        "    X_test_pos = pd.read_csv('./My Drive/Facebook1/data/after_eda/test_pos_after_eda.csv', names=['source_node', 'destination_node'])\n",
        "    X_train_neg = pd.read_csv('./My Drive/Facebook1/data/after_eda/train_neg_after_eda.csv', names=['source_node', 'destination_node'])\n",
        "    X_test_neg = pd.read_csv('./My Drive/Facebook1/data/after_eda/test_neg_after_eda.csv', names=['source_node', 'destination_node'])\n",
        "\n",
        "    print('='*60)\n",
        "    print(\"Number of nodes in the train data graph with edges\", X_train_pos.shape[0])\n",
        "    print(\"Number of nodes in the train data graph without edges\", X_train_neg.shape[0])\n",
        "    print('='*60)\n",
        "    print(\"Number of nodes in the test data graph with edges\", X_test_pos.shape[0])\n",
        "    print(\"Number of nodes in the test data graph without edges\", X_test_neg.shape[0])\n",
        "\n",
        "    X_train = X_train_pos.append(X_train_neg,ignore_index=True)\n",
        "    y_train = np.concatenate((y_train_pos,y_train_neg))\n",
        "    X_test = X_test_pos.append(X_test_neg,ignore_index=True)\n",
        "    y_test = np.concatenate((y_test_pos,y_test_neg)) \n",
        "    \n",
        "    X_train.to_csv('./My Drive/Facebook1/data/after_eda/train_after_eda.csv',header=False,index=False)\n",
        "    X_test.to_csv('./My Drive/Facebook1/data/after_eda/test_after_eda.csv',header=False,index=False)\n",
        "    pd.DataFrame(y_train.astype(int)).to_csv('./My Drive/Facebook1/data/train_y.csv',header=False,index=False)\n",
        "    pd.DataFrame(y_test.astype(int)).to_csv('./My Drive/Facebook1/data/test_y.csv',header=False,index=False)"
      ],
      "execution_count": 0,
      "outputs": []
    },
    {
      "cell_type": "code",
      "metadata": {
        "id": "S15hcSWlkRo2",
        "colab_type": "code",
        "colab": {}
      },
      "source": [
        "X_train = pd.read_csv('./My Drive/Facebook1/data/after_eda/train_after_eda.csv', names=['source_node', 'destination_node'])\n",
        "X_test = pd.read_csv('./My Drive/Facebook1/data/after_eda/test_after_eda.csv', names=['source_node', 'destination_node'])\n",
        "y_train = pd.read_csv('./My Drive/Facebook1/data/train_y.csv')\n",
        "y_test = pd.read_csv('./My Drive/Facebook1/data/test_y.csv')"
      ],
      "execution_count": 0,
      "outputs": []
    },
    {
      "cell_type": "code",
      "metadata": {
        "id": "BSuOSF8GITgc",
        "colab_type": "code",
        "outputId": "d0e9be50-42ba-4144-cb12-1a7fb4de11a8",
        "colab": {
          "base_uri": "https://localhost:8080/",
          "height": 83
        }
      },
      "source": [
        "print(\"Data points in train data\",X_train.shape)\n",
        "print(\"Data points in test data\",X_test.shape)\n",
        "print(\"Shape of traget variable in train\",y_train.shape)\n",
        "print(\"Shape of traget variable in test\", y_test.shape)"
      ],
      "execution_count": 39,
      "outputs": [
        {
          "output_type": "stream",
          "text": [
            "Data points in train data (15100030, 2)\n",
            "Data points in test data (3775008, 2)\n",
            "Shape of traget variable in train (15100029, 1)\n",
            "Shape of traget variable in test (3775007, 1)\n"
          ],
          "name": "stdout"
        }
      ]
    },
    {
      "cell_type": "markdown",
      "metadata": {
        "id": "2GsWmPDW5PF1",
        "colab_type": "text"
      },
      "source": [
        "<h1> Featurization"
      ]
    },
    {
      "cell_type": "code",
      "metadata": {
        "id": "kt5dsgxFITgg",
        "colab_type": "code",
        "colab": {}
      },
      "source": [
        "#Importing Libraries\n",
        "# please do go through this python notebook: \n",
        "import warnings\n",
        "warnings.filterwarnings(\"ignore\")\n",
        "\n",
        "import csv\n",
        "import pandas as pd#pandas to create small dataframes \n",
        "import datetime #Convert to unix time\n",
        "import time #Convert to unix time\n",
        "# if numpy is not installed already : pip3 install numpy\n",
        "import numpy as np#Do aritmetic operations on arrays\n",
        "# matplotlib: used to plot graphs\n",
        "import matplotlib\n",
        "import matplotlib.pylab as plt\n",
        "import seaborn as sns#Plots\n",
        "from matplotlib import rcParams#Size of plots  \n",
        "from sklearn.cluster import MiniBatchKMeans, KMeans#Clustering\n",
        "import math\n",
        "import pickle\n",
        "import os\n",
        "# to install xgboost: pip3 install xgboost\n",
        "import xgboost as xgb\n",
        "\n",
        "import warnings\n",
        "import networkx as nx\n",
        "import pdb\n",
        "import pickle\n",
        "from pandas import HDFStore,DataFrame\n",
        "from pandas import read_hdf\n",
        "from scipy.sparse.linalg import svds, eigs\n",
        "import gc\n",
        "from tqdm import tqdm"
      ],
      "execution_count": 0,
      "outputs": []
    },
    {
      "cell_type": "markdown",
      "metadata": {
        "id": "1znHayNeVFFt",
        "colab_type": "text"
      },
      "source": [
        "# 1. Reading Data"
      ]
    },
    {
      "cell_type": "code",
      "metadata": {
        "id": "9HbZKiIRmnN7",
        "colab_type": "code",
        "outputId": "8cda11a6-f322-41ed-85d4-0439d5cd71c2",
        "colab": {
          "base_uri": "https://localhost:8080/",
          "height": 117
        }
      },
      "source": [
        "if os.path.isfile('./My Drive/Facebook1/data/after_eda/train_pos_after_eda.csv'):\n",
        "    train_graph=nx.read_edgelist('./My Drive/Facebook1/data/after_eda/train_pos_after_eda.csv',delimiter=',',create_using=nx.DiGraph(),nodetype=int)\n",
        "    print(nx.info(train_graph))\n",
        "else:\n",
        "    print(\"please run the FB_EDA.ipynb or download the files from drive\")"
      ],
      "execution_count": 41,
      "outputs": [
        {
          "output_type": "stream",
          "text": [
            "Name: \n",
            "Type: DiGraph\n",
            "Number of nodes: 1780722\n",
            "Number of edges: 7550015\n",
            "Average in degree:   4.2399\n",
            "Average out degree:   4.2399\n"
          ],
          "name": "stdout"
        }
      ]
    },
    {
      "cell_type": "markdown",
      "metadata": {
        "id": "HmlUa64tVFF7",
        "colab_type": "text"
      },
      "source": [
        "# 2. Similarity measures"
      ]
    },
    {
      "cell_type": "markdown",
      "metadata": {
        "id": "PIp9IMPZ8mVz",
        "colab_type": "text"
      },
      "source": [
        "<h2> 2.1 Jaccard Distance"
      ]
    },
    {
      "cell_type": "code",
      "metadata": {
        "id": "5wK51AcE64tB",
        "colab_type": "code",
        "colab": {}
      },
      "source": [
        "#for followees\n",
        "def jaccard_for_followees(a,b):\n",
        "    try:\n",
        "        if len(set(train_graph.successors(a))) == 0  | len(set(train_graph.successors(b))) == 0:\n",
        "            return 0\n",
        "        sim = (len(set(train_graph.successors(a)).intersection(set(train_graph.successors(b)))))/\\\n",
        "                                    (len(set(train_graph.successors(a)).union(set(train_graph.successors(b)))))\n",
        "    except:\n",
        "        return 0\n",
        "    return sim"
      ],
      "execution_count": 0,
      "outputs": []
    },
    {
      "cell_type": "code",
      "metadata": {
        "id": "CFySIilf7K7J",
        "colab_type": "code",
        "outputId": "a9fada31-904e-4d75-ec44-f5dfe5c27e02",
        "colab": {
          "base_uri": "https://localhost:8080/",
          "height": 33
        }
      },
      "source": [
        "#one test case\n",
        "print(jaccard_for_followees(273084,1505602))"
      ],
      "execution_count": 43,
      "outputs": [
        {
          "output_type": "stream",
          "text": [
            "0.0\n"
          ],
          "name": "stdout"
        }
      ]
    },
    {
      "cell_type": "code",
      "metadata": {
        "id": "CK_T6hdd7N9R",
        "colab_type": "code",
        "outputId": "8cd25684-579d-4bc8-d904-00493c987c72",
        "colab": {
          "base_uri": "https://localhost:8080/",
          "height": 33
        }
      },
      "source": [
        "#node 1635354 not in graph \n",
        "print(jaccard_for_followees(273084,1505602))"
      ],
      "execution_count": 44,
      "outputs": [
        {
          "output_type": "stream",
          "text": [
            "0.0\n"
          ],
          "name": "stdout"
        }
      ]
    },
    {
      "cell_type": "code",
      "metadata": {
        "id": "1NFayh_C7Rca",
        "colab_type": "code",
        "colab": {}
      },
      "source": [
        "#for followers\n",
        "def jaccard_for_followers(a,b):\n",
        "    try:\n",
        "        if len(set(train_graph.predecessors(a))) == 0  | len(set(g.predecessors(b))) == 0:\n",
        "            return 0\n",
        "        sim = (len(set(train_graph.predecessors(a)).intersection(set(train_graph.predecessors(b)))))/\\\n",
        "                                 (len(set(train_graph.predecessors(a)).union(set(train_graph.predecessors(b)))))\n",
        "        return sim\n",
        "    except:\n",
        "        return 0"
      ],
      "execution_count": 0,
      "outputs": []
    },
    {
      "cell_type": "code",
      "metadata": {
        "id": "N3nfN7ht8Pnt",
        "colab_type": "code",
        "outputId": "7ace41f7-fbaa-4156-9c06-52ebcb412c50",
        "colab": {
          "base_uri": "https://localhost:8080/",
          "height": 33
        }
      },
      "source": [
        "print(jaccard_for_followers(273084,470294))"
      ],
      "execution_count": 46,
      "outputs": [
        {
          "output_type": "stream",
          "text": [
            "0.0\n"
          ],
          "name": "stdout"
        }
      ]
    },
    {
      "cell_type": "code",
      "metadata": {
        "id": "U-fgdiNY8Ui1",
        "colab_type": "code",
        "outputId": "70cf9f28-b927-4e5d-fe87-9589714a4290",
        "colab": {
          "base_uri": "https://localhost:8080/",
          "height": 33
        }
      },
      "source": [
        "#node 1635354 not in graph \n",
        "print(jaccard_for_followers(669354,1635354))"
      ],
      "execution_count": 47,
      "outputs": [
        {
          "output_type": "stream",
          "text": [
            "0\n"
          ],
          "name": "stdout"
        }
      ]
    },
    {
      "cell_type": "markdown",
      "metadata": {
        "id": "Zp4T8kmG80GH",
        "colab_type": "text"
      },
      "source": [
        "<h2> 2.2 Cosine Distance"
      ]
    },
    {
      "cell_type": "code",
      "metadata": {
        "id": "Ma4O3CE58Yhl",
        "colab_type": "code",
        "colab": {}
      },
      "source": [
        "#for followees\n",
        "def cosine_for_followees(a,b):\n",
        "    try:\n",
        "        if len(set(train_graph.successors(a))) == 0  | len(set(train_graph.successors(b))) == 0:\n",
        "            return 0\n",
        "        sim = (len(set(train_graph.successors(a)).intersection(set(train_graph.successors(b)))))/\\\n",
        "                                    (math.sqrt(len(set(train_graph.successors(a)))*len((set(train_graph.successors(b))))))\n",
        "        return sim\n",
        "    except:\n",
        "        return 0"
      ],
      "execution_count": 0,
      "outputs": []
    },
    {
      "cell_type": "code",
      "metadata": {
        "id": "gakoFkH486yL",
        "colab_type": "code",
        "outputId": "26069453-e74c-4474-f446-ca3926984845",
        "colab": {
          "base_uri": "https://localhost:8080/",
          "height": 33
        }
      },
      "source": [
        "print(cosine_for_followees(273084,1505602))"
      ],
      "execution_count": 49,
      "outputs": [
        {
          "output_type": "stream",
          "text": [
            "0.0\n"
          ],
          "name": "stdout"
        }
      ]
    },
    {
      "cell_type": "code",
      "metadata": {
        "id": "7kKmSjtt8-7G",
        "colab_type": "code",
        "outputId": "c6d8a281-d027-440b-a5e7-04f8e805e281",
        "colab": {
          "base_uri": "https://localhost:8080/",
          "height": 33
        }
      },
      "source": [
        "print(cosine_for_followees(273084,1635354))"
      ],
      "execution_count": 50,
      "outputs": [
        {
          "output_type": "stream",
          "text": [
            "0\n"
          ],
          "name": "stdout"
        }
      ]
    },
    {
      "cell_type": "code",
      "metadata": {
        "id": "EKTg0mMk9B3v",
        "colab_type": "code",
        "colab": {}
      },
      "source": [
        "def cosine_for_followers(a,b):\n",
        "    try:\n",
        "        \n",
        "        if len(set(train_graph.predecessors(a))) == 0  | len(set(train_graph.predecessors(b))) == 0:\n",
        "            return 0\n",
        "        sim = (len(set(train_graph.predecessors(a)).intersection(set(train_graph.predecessors(b)))))/\\\n",
        "                                     (math.sqrt(len(set(train_graph.predecessors(a))))*(len(set(train_graph.predecessors(b)))))\n",
        "        return sim\n",
        "    except:\n",
        "        return 0"
      ],
      "execution_count": 0,
      "outputs": []
    },
    {
      "cell_type": "code",
      "metadata": {
        "id": "ncp04jJ49EgC",
        "colab_type": "code",
        "outputId": "cf4725a5-43d0-4e2e-b398-8f7a9e47f95b",
        "colab": {
          "base_uri": "https://localhost:8080/",
          "height": 33
        }
      },
      "source": [
        "print(cosine_for_followers(2,470294))"
      ],
      "execution_count": 52,
      "outputs": [
        {
          "output_type": "stream",
          "text": [
            "0.02886751345948129\n"
          ],
          "name": "stdout"
        }
      ]
    },
    {
      "cell_type": "code",
      "metadata": {
        "id": "wMA2HHj_9HnK",
        "colab_type": "code",
        "outputId": "dd392512-7d14-4adf-b1aa-dfd90e479fd0",
        "colab": {
          "base_uri": "https://localhost:8080/",
          "height": 33
        }
      },
      "source": [
        "print(cosine_for_followers(669354,1635354))"
      ],
      "execution_count": 53,
      "outputs": [
        {
          "output_type": "stream",
          "text": [
            "0\n"
          ],
          "name": "stdout"
        }
      ]
    },
    {
      "cell_type": "markdown",
      "metadata": {
        "id": "oI9II-Gr9UQz",
        "colab_type": "text"
      },
      "source": [
        "<h2> Ranking Measures"
      ]
    },
    {
      "cell_type": "markdown",
      "metadata": {
        "id": "6nfV1SprVFGx",
        "colab_type": "text"
      },
      "source": [
        "https://networkx.github.io/documentation/networkx-1.10/reference/generated/networkx.algorithms.link_analysis.pagerank_alg.pagerank.html\n",
        "\n",
        "PageRank computes a ranking of the nodes in the graph G based on the structure of the incoming links.\n",
        "\n",
        "<img src='PageRanks-Example.jpg'/>\n",
        "\n",
        "Mathematical PageRanks for a simple network, expressed as percentages. (Google uses a logarithmic scale.) Page C has a higher PageRank than Page E, even though there are fewer links to C; the one link to C comes from an important page and hence is of high value. If web surfers who start on a random page have an 85% likelihood of choosing a random link from the page they are currently visiting, and a 15% likelihood of jumping to a page chosen at random from the entire web, they will reach Page E 8.1% of the time. <b>(The 15% likelihood of jumping to an arbitrary page corresponds to a damping factor of 85%.) Without damping, all web surfers would eventually end up on Pages A, B, or C, and all other pages would have PageRank zero. In the presence of damping, Page A effectively links to all pages in the web, even though it has no outgoing links of its own.</b>"
      ]
    },
    {
      "cell_type": "markdown",
      "metadata": {
        "id": "n4-n2jAy9b9A",
        "colab_type": "text"
      },
      "source": [
        "<h3> 3.1 Page Ranking"
      ]
    },
    {
      "cell_type": "code",
      "metadata": {
        "id": "KQInYoYz9KyT",
        "colab_type": "code",
        "colab": {}
      },
      "source": [
        "if not os.path.isfile('./My Drive/Facebook1/data/fea_sample/page_rank.p'):\n",
        "    pr = nx.pagerank(train_graph, alpha=0.85)\n",
        "    pickle.dump(pr,open('./My Drive/Facebook1/data/fea_sample/page_rank.p','wb'))\n",
        "else:\n",
        "    pr = pickle.load(open('./My Drive/Facebook1/data/fea_sample/page_rank.p','rb'))"
      ],
      "execution_count": 0,
      "outputs": []
    },
    {
      "cell_type": "code",
      "metadata": {
        "id": "-AWBFLdD9s9o",
        "colab_type": "code",
        "outputId": "b28e9367-c39c-4595-f8c6-2135452f85b1",
        "colab": {
          "base_uri": "https://localhost:8080/",
          "height": 67
        }
      },
      "source": [
        "print('min',pr[min(pr, key=pr.get)])\n",
        "print('max',pr[max(pr, key=pr.get)])\n",
        "print('mean',float(sum(pr.values())) / len(pr))"
      ],
      "execution_count": 55,
      "outputs": [
        {
          "output_type": "stream",
          "text": [
            "min 1.6556497245737814e-07\n",
            "max 2.7098251341935827e-05\n",
            "mean 5.615699699389075e-07\n"
          ],
          "name": "stdout"
        }
      ]
    },
    {
      "cell_type": "code",
      "metadata": {
        "id": "_9941BkM9t70",
        "colab_type": "code",
        "outputId": "af3411aa-fe41-4dd7-9914-feea5304feff",
        "colab": {
          "base_uri": "https://localhost:8080/",
          "height": 33
        }
      },
      "source": [
        "#for imputing to nodes which are not there in Train data\n",
        "mean_pr = float(sum(pr.values())) / len(pr)\n",
        "print(mean_pr)"
      ],
      "execution_count": 56,
      "outputs": [
        {
          "output_type": "stream",
          "text": [
            "5.615699699389075e-07\n"
          ],
          "name": "stdout"
        }
      ]
    },
    {
      "cell_type": "markdown",
      "metadata": {
        "id": "HhPbSL1tVFG7",
        "colab_type": "text"
      },
      "source": [
        "# 4. Other Graph Features"
      ]
    },
    {
      "cell_type": "markdown",
      "metadata": {
        "id": "AgsorCl7VFG8",
        "colab_type": "text"
      },
      "source": [
        "## 4.1 Shortest path:"
      ]
    },
    {
      "cell_type": "markdown",
      "metadata": {
        "id": "E7teH2LCVFG9",
        "colab_type": "text"
      },
      "source": [
        "Getting Shortest path between twoo nodes, if nodes have direct path i.e directly connected then we are removing that edge and calculating path. "
      ]
    },
    {
      "cell_type": "code",
      "metadata": {
        "id": "RA076ovzVFG9",
        "colab_type": "code",
        "colab": {}
      },
      "source": [
        "#if has direct edge then deleting that edge and calculating shortest path\n",
        "def compute_shortest_path_length(a,b):\n",
        "    p=-1\n",
        "    try:\n",
        "        if train_graph.has_edge(a,b):\n",
        "            train_graph.remove_edge(a,b)\n",
        "            p= nx.shortest_path_length(train_graph,source=a,target=b)\n",
        "            train_graph.add_edge(a,b)\n",
        "        else:\n",
        "            p= nx.shortest_path_length(train_graph,source=a,target=b)\n",
        "        return p\n",
        "    except:\n",
        "        return -1"
      ],
      "execution_count": 0,
      "outputs": []
    },
    {
      "cell_type": "code",
      "metadata": {
        "id": "AxnKId11VFG_",
        "colab_type": "code",
        "outputId": "c975722f-1697-4571-d877-28c718f3e21a",
        "colab": {
          "base_uri": "https://localhost:8080/",
          "height": 33
        }
      },
      "source": [
        "#testing\n",
        "compute_shortest_path_length(77697, 826021)"
      ],
      "execution_count": 58,
      "outputs": [
        {
          "output_type": "execute_result",
          "data": {
            "text/plain": [
              "10"
            ]
          },
          "metadata": {
            "tags": []
          },
          "execution_count": 58
        }
      ]
    },
    {
      "cell_type": "code",
      "metadata": {
        "id": "0huWCNtRVFHC",
        "colab_type": "code",
        "outputId": "44b01f35-119a-40b3-f08e-70f40198da94",
        "colab": {
          "base_uri": "https://localhost:8080/",
          "height": 33
        }
      },
      "source": [
        "#testing\n",
        "compute_shortest_path_length(669354,1635354)"
      ],
      "execution_count": 59,
      "outputs": [
        {
          "output_type": "execute_result",
          "data": {
            "text/plain": [
              "-1"
            ]
          },
          "metadata": {
            "tags": []
          },
          "execution_count": 59
        }
      ]
    },
    {
      "cell_type": "markdown",
      "metadata": {
        "id": "yxkaRNBPEmnf",
        "colab_type": "text"
      },
      "source": [
        "<h2>4.2 Checking for same community"
      ]
    },
    {
      "cell_type": "code",
      "metadata": {
        "id": "dCGiWhW8_Bmh",
        "colab_type": "code",
        "colab": {}
      },
      "source": [
        "#getting weekly connected edges from graph \n",
        "wcc=list(nx.weakly_connected_components(train_graph))\n",
        "def belongs_to_same_wcc(a,b):\n",
        "    index = []\n",
        "    if train_graph.has_edge(b,a):\n",
        "        return 1\n",
        "    if train_graph.has_edge(a,b):\n",
        "            for i in wcc:\n",
        "                if a in i:\n",
        "                    index= i\n",
        "                    break\n",
        "            if (b in index):\n",
        "                train_graph.remove_edge(a,b)\n",
        "                if compute_shortest_path_length(a,b)==-1:\n",
        "                    train_graph.add_edge(a,b)\n",
        "                    return 0\n",
        "                else:\n",
        "                    train_graph.add_edge(a,b)\n",
        "                    return 1\n",
        "            else:\n",
        "                return 0\n",
        "    else:\n",
        "            for i in wcc:\n",
        "                if a in i:\n",
        "                    index= i\n",
        "                    break\n",
        "            if(b in index):\n",
        "                return 1\n",
        "            else:\n",
        "                return 0"
      ],
      "execution_count": 0,
      "outputs": []
    },
    {
      "cell_type": "code",
      "metadata": {
        "id": "2bwlT2IfErLQ",
        "colab_type": "code",
        "outputId": "347c4766-bdd8-45e4-a1b1-dac931515d5c",
        "colab": {
          "base_uri": "https://localhost:8080/",
          "height": 33
        }
      },
      "source": [
        "belongs_to_same_wcc(861, 1659750)"
      ],
      "execution_count": 61,
      "outputs": [
        {
          "output_type": "execute_result",
          "data": {
            "text/plain": [
              "0"
            ]
          },
          "metadata": {
            "tags": []
          },
          "execution_count": 61
        }
      ]
    },
    {
      "cell_type": "code",
      "metadata": {
        "id": "YkVmtVsFEuB1",
        "colab_type": "code",
        "outputId": "57c90a8d-e8a4-443b-d600-356ae843c12f",
        "colab": {
          "base_uri": "https://localhost:8080/",
          "height": 33
        }
      },
      "source": [
        "belongs_to_same_wcc(669354,1635354)"
      ],
      "execution_count": 62,
      "outputs": [
        {
          "output_type": "execute_result",
          "data": {
            "text/plain": [
              "0"
            ]
          },
          "metadata": {
            "tags": []
          },
          "execution_count": 62
        }
      ]
    },
    {
      "cell_type": "markdown",
      "metadata": {
        "id": "q74nth0OVFHN",
        "colab_type": "text"
      },
      "source": [
        "## 4.3 Adamic/Adar Index:\n",
        "Adamic/Adar measures is defined as inverted sum of degrees of common neighbours for given two vertices.\n",
        "$$A(x,y)=\\sum_{u \\in N(x) \\cap N(y)}\\frac{1}{log(|N(u)|)}$$"
      ]
    },
    {
      "cell_type": "code",
      "metadata": {
        "id": "CeS98LI5VFHO",
        "colab_type": "code",
        "colab": {}
      },
      "source": [
        "#adar index\n",
        "def calc_adar_in(a,b):\n",
        "    sum=0\n",
        "    try:\n",
        "        n=list(set(train_graph.successors(a)).intersection(set(train_graph.successors(b))))\n",
        "        if len(n)!=0:\n",
        "            for i in n:\n",
        "                sum=sum+(1/np.log10(len(list(train_graph.predecessors(i)))))\n",
        "            return sum\n",
        "        else:\n",
        "            return 0\n",
        "    except:\n",
        "        return 0"
      ],
      "execution_count": 0,
      "outputs": []
    },
    {
      "cell_type": "code",
      "metadata": {
        "id": "KezFeRmyVFHQ",
        "colab_type": "code",
        "outputId": "370213c5-b58d-413b-b35d-1d0998e50b1c",
        "colab": {
          "base_uri": "https://localhost:8080/",
          "height": 33
        }
      },
      "source": [
        "calc_adar_in(1,189226)"
      ],
      "execution_count": 64,
      "outputs": [
        {
          "output_type": "execute_result",
          "data": {
            "text/plain": [
              "0"
            ]
          },
          "metadata": {
            "tags": []
          },
          "execution_count": 64
        }
      ]
    },
    {
      "cell_type": "code",
      "metadata": {
        "id": "vj_m89bBVFHV",
        "colab_type": "code",
        "outputId": "c42346d9-e88b-4dd4-e290-a4c840bff78a",
        "colab": {
          "base_uri": "https://localhost:8080/",
          "height": 33
        }
      },
      "source": [
        "calc_adar_in(669354,1635354)"
      ],
      "execution_count": 65,
      "outputs": [
        {
          "output_type": "execute_result",
          "data": {
            "text/plain": [
              "0"
            ]
          },
          "metadata": {
            "tags": []
          },
          "execution_count": 65
        }
      ]
    },
    {
      "cell_type": "markdown",
      "metadata": {
        "id": "pBUudhFAVFHY",
        "colab_type": "text"
      },
      "source": [
        "## 4.4 Is persion was following back:"
      ]
    },
    {
      "cell_type": "code",
      "metadata": {
        "id": "j_mwmopLVFHZ",
        "colab_type": "code",
        "colab": {}
      },
      "source": [
        "def follows_back(a,b):\n",
        "    if train_graph.has_edge(b,a):\n",
        "        return 1\n",
        "    else:\n",
        "        return 0"
      ],
      "execution_count": 0,
      "outputs": []
    },
    {
      "cell_type": "code",
      "metadata": {
        "id": "LdjUXIfbVFHb",
        "colab_type": "code",
        "outputId": "120c599c-d3f7-4fd2-eabe-132fe3a6af95",
        "colab": {
          "base_uri": "https://localhost:8080/",
          "height": 33
        }
      },
      "source": [
        "follows_back(1,189226)"
      ],
      "execution_count": 67,
      "outputs": [
        {
          "output_type": "execute_result",
          "data": {
            "text/plain": [
              "1"
            ]
          },
          "metadata": {
            "tags": []
          },
          "execution_count": 67
        }
      ]
    },
    {
      "cell_type": "code",
      "metadata": {
        "id": "PmZtL65YVFHf",
        "colab_type": "code",
        "outputId": "09509fe8-ae41-47bf-ac41-8a1b7395a3ed",
        "colab": {
          "base_uri": "https://localhost:8080/",
          "height": 33
        }
      },
      "source": [
        "follows_back(669354,1635354)"
      ],
      "execution_count": 68,
      "outputs": [
        {
          "output_type": "execute_result",
          "data": {
            "text/plain": [
              "0"
            ]
          },
          "metadata": {
            "tags": []
          },
          "execution_count": 68
        }
      ]
    },
    {
      "cell_type": "markdown",
      "metadata": {
        "id": "29Vrq2EXVFHi",
        "colab_type": "text"
      },
      "source": [
        "## 4.5 Katz Centrality:\n",
        "https://en.wikipedia.org/wiki/Katz_centrality\n",
        "\n",
        "https://www.geeksforgeeks.org/katz-centrality-centrality-measure/\n",
        " Katz centrality computes the centrality for a node \n",
        "    based on the centrality of its neighbors. It is a \n",
        "    generalization of the eigenvector centrality. The\n",
        "    Katz centrality for node `i` is\n",
        " \n",
        "$$x_i = \\alpha \\sum_{j} A_{ij} x_j + \\beta,$$\n",
        "where `A` is the adjacency matrix of the graph G \n",
        "with eigenvalues $$\\lambda$$.\n",
        "\n",
        "The parameter $$\\beta$$ controls the initial centrality and \n",
        "\n",
        "$$\\alpha < \\frac{1}{\\lambda_{max}}.$$"
      ]
    },
    {
      "cell_type": "code",
      "metadata": {
        "id": "CN5OSqrkVFHj",
        "colab_type": "code",
        "colab": {}
      },
      "source": [
        "if not os.path.isfile('./My Drive/Facebook1/data/fea_sample/katz.p'):\n",
        "    katz = nx.katz.katz_centrality(train_graph,alpha=0.005,beta=1)\n",
        "    pickle.dump(katz,open('./My Drive/Facebook1/data/fea_sample/katz.p','wb'))\n",
        "else:\n",
        "    katz = pickle.load(open('./My Drive/Facebook1/data/fea_sample/katz.p','rb'))"
      ],
      "execution_count": 0,
      "outputs": []
    },
    {
      "cell_type": "code",
      "metadata": {
        "id": "gcU83vw7VFHm",
        "colab_type": "code",
        "outputId": "66a8d0cc-b347-40aa-c3bb-ea7591f58e28",
        "colab": {
          "base_uri": "https://localhost:8080/",
          "height": 67
        }
      },
      "source": [
        "print('min',katz[min(katz, key=katz.get)])\n",
        "print('max',katz[max(katz, key=katz.get)])\n",
        "print('mean',float(sum(katz.values())) / len(katz))"
      ],
      "execution_count": 70,
      "outputs": [
        {
          "output_type": "stream",
          "text": [
            "min 0.0007313532484065916\n",
            "max 0.003394554981699122\n",
            "mean 0.0007483800935562018\n"
          ],
          "name": "stdout"
        }
      ]
    },
    {
      "cell_type": "code",
      "metadata": {
        "id": "qcboIksiVFHt",
        "colab_type": "code",
        "outputId": "afcc7e5c-2f3c-4c40-a7de-a5570f787d62",
        "colab": {
          "base_uri": "https://localhost:8080/",
          "height": 33
        }
      },
      "source": [
        "mean_katz = float(sum(katz.values())) / len(katz)\n",
        "print(mean_katz)"
      ],
      "execution_count": 71,
      "outputs": [
        {
          "output_type": "stream",
          "text": [
            "0.0007483800935562018\n"
          ],
          "name": "stdout"
        }
      ]
    },
    {
      "cell_type": "markdown",
      "metadata": {
        "id": "SRZqGFgYVFHx",
        "colab_type": "text"
      },
      "source": [
        "## 4.6 Hits Score\n",
        "The HITS algorithm computes two numbers for a node. Authorities estimates the node value based on the incoming links. Hubs estimates the node value based on outgoing links.\n",
        "\n",
        "https://en.wikipedia.org/wiki/HITS_algorithm"
      ]
    },
    {
      "cell_type": "code",
      "metadata": {
        "id": "WXNHRdzUVFHz",
        "colab_type": "code",
        "colab": {}
      },
      "source": [
        "if not os.path.isfile('./My Drive/Facebook1/data/fea_sample/hits.p'):\n",
        "    hits = nx.hits(train_graph, max_iter=100, tol=1e-08, nstart=None, normalized=True)\n",
        "    pickle.dump(hits,open('./My Drive/Facebook1/data/fea_sample/hits.p','wb'))\n",
        "else:\n",
        "    hits = pickle.load(open('./My Drive/Facebook1/data/fea_sample/hits.p','rb'))"
      ],
      "execution_count": 0,
      "outputs": []
    },
    {
      "cell_type": "code",
      "metadata": {
        "id": "PSUwSZBVVFH3",
        "colab_type": "code",
        "outputId": "93506005-2c4a-4701-dd81-3513c513cf4b",
        "colab": {
          "base_uri": "https://localhost:8080/",
          "height": 67
        }
      },
      "source": [
        "print('min',hits[0][min(hits[0], key=hits[0].get)])\n",
        "print('max',hits[0][max(hits[0], key=hits[0].get)])\n",
        "print('mean',float(sum(hits[0].values())) / len(hits[0]))"
      ],
      "execution_count": 73,
      "outputs": [
        {
          "output_type": "stream",
          "text": [
            "min 0.0\n",
            "max 0.004868653378780953\n",
            "mean 5.615699699344123e-07\n"
          ],
          "name": "stdout"
        }
      ]
    },
    {
      "cell_type": "markdown",
      "metadata": {
        "id": "ZZtowOLZVFH6",
        "colab_type": "text"
      },
      "source": [
        "# 5. Featurization"
      ]
    },
    {
      "cell_type": "markdown",
      "metadata": {
        "id": "o6NnRWmLVFH6",
        "colab_type": "text"
      },
      "source": [
        "## 5. 1 Reading a sample of Data from both train and test"
      ]
    },
    {
      "cell_type": "code",
      "metadata": {
        "id": "wgHje1UVVFH8",
        "colab_type": "code",
        "colab": {}
      },
      "source": [
        "import random\n",
        "if os.path.isfile('./My Drive/Facebook1/data/after_eda/train_after_eda.csv'):\n",
        "    filename = \"./My Drive/Facebook1/data/after_eda/train_after_eda.csv\"\n",
        "    # you uncomment this line, if you dont know the lentgh of the file name\n",
        "    # here we have hardcoded the number of lines as 15100030\n",
        "    # n_train = sum(1 for line in open(filename)) #number of records in file (excludes header)\n",
        "    n_train =  15100028\n",
        "    s = 100000 #desired sample size\n",
        "    skip_train = sorted(random.sample(range(1,n_train+1),n_train-s))\n",
        "    #https://stackoverflow.com/a/22259008/4084039"
      ],
      "execution_count": 0,
      "outputs": []
    },
    {
      "cell_type": "code",
      "metadata": {
        "id": "zOzuRFFlVFH-",
        "colab_type": "code",
        "colab": {}
      },
      "source": [
        "if os.path.isfile('./My Drive/Facebook1/data/after_eda/train_after_eda.csv'):\n",
        "    filename = \"./My Drive/Facebook1/data/after_eda/test_after_eda.csv\"\n",
        "    # you uncomment this line, if you dont know the lentgh of the file name\n",
        "    # here we have hardcoded the number of lines as 3775008\n",
        "    # n_test = sum(1 for line in open(filename)) #number of records in file (excludes header)\n",
        "    n_test = 3775006\n",
        "    s = 50000 #desired sample size\n",
        "    skip_test = sorted(random.sample(range(1,n_test+1),n_test-s))\n",
        "    #https://stackoverflow.com/a/22259008/4084039"
      ],
      "execution_count": 0,
      "outputs": []
    },
    {
      "cell_type": "code",
      "metadata": {
        "id": "3D_SeUCOVFH_",
        "colab_type": "code",
        "outputId": "a75f9729-59c4-4755-924e-2c997ebeb877",
        "colab": {
          "base_uri": "https://localhost:8080/",
          "height": 83
        }
      },
      "source": [
        "print(\"Number of rows in the train data file:\", n_train)\n",
        "print(\"Number of rows we are going to elimiate in train data are\",len(skip_train))\n",
        "print(\"Number of rows in the test data file:\", n_test)\n",
        "print(\"Number of rows we are going to elimiate in test data are\",len(skip_test))"
      ],
      "execution_count": 76,
      "outputs": [
        {
          "output_type": "stream",
          "text": [
            "Number of rows in the train data file: 15100028\n",
            "Number of rows we are going to elimiate in train data are 15000028\n",
            "Number of rows in the test data file: 3775006\n",
            "Number of rows we are going to elimiate in test data are 3725006\n"
          ],
          "name": "stdout"
        }
      ]
    },
    {
      "cell_type": "code",
      "metadata": {
        "id": "pCisf6PpVFID",
        "colab_type": "code",
        "outputId": "9529a147-3ca2-4491-9bbd-01fd71a5734e",
        "colab": {
          "base_uri": "https://localhost:8080/",
          "height": 124
        }
      },
      "source": [
        "df_final_train = pd.read_csv('./My Drive/Facebook1/data/after_eda/train_after_eda.csv', skiprows=skip_train, names=['source_node', 'destination_node'])\n",
        "df_final_train['indicator_link'] = pd.read_csv('./My Drive/Facebook1/data/train_y.csv', skiprows=skip_train, names=['indicator_link'])\n",
        "print(\"Our train matrix size \",df_final_train.shape)\n",
        "df_final_train.head(2)"
      ],
      "execution_count": 77,
      "outputs": [
        {
          "output_type": "stream",
          "text": [
            "Our train matrix size  (100002, 3)\n"
          ],
          "name": "stdout"
        },
        {
          "output_type": "execute_result",
          "data": {
            "text/html": [
              "<div>\n",
              "<style scoped>\n",
              "    .dataframe tbody tr th:only-of-type {\n",
              "        vertical-align: middle;\n",
              "    }\n",
              "\n",
              "    .dataframe tbody tr th {\n",
              "        vertical-align: top;\n",
              "    }\n",
              "\n",
              "    .dataframe thead th {\n",
              "        text-align: right;\n",
              "    }\n",
              "</style>\n",
              "<table border=\"1\" class=\"dataframe\">\n",
              "  <thead>\n",
              "    <tr style=\"text-align: right;\">\n",
              "      <th></th>\n",
              "      <th>source_node</th>\n",
              "      <th>destination_node</th>\n",
              "      <th>indicator_link</th>\n",
              "    </tr>\n",
              "  </thead>\n",
              "  <tbody>\n",
              "    <tr>\n",
              "      <th>0</th>\n",
              "      <td>273084</td>\n",
              "      <td>1505602</td>\n",
              "      <td>1</td>\n",
              "    </tr>\n",
              "    <tr>\n",
              "      <th>1</th>\n",
              "      <td>1814022</td>\n",
              "      <td>1791177</td>\n",
              "      <td>1</td>\n",
              "    </tr>\n",
              "  </tbody>\n",
              "</table>\n",
              "</div>"
            ],
            "text/plain": [
              "   source_node  destination_node  indicator_link\n",
              "0       273084           1505602               1\n",
              "1      1814022           1791177               1"
            ]
          },
          "metadata": {
            "tags": []
          },
          "execution_count": 77
        }
      ]
    },
    {
      "cell_type": "code",
      "metadata": {
        "id": "tFn1RkdyVFIH",
        "colab_type": "code",
        "outputId": "6bb69b1f-c456-4ea7-9008-64dd6e95e7f2",
        "colab": {
          "base_uri": "https://localhost:8080/",
          "height": 124
        }
      },
      "source": [
        "df_final_test = pd.read_csv('./My Drive/Facebook1/data/after_eda/test_after_eda.csv', skiprows=skip_test, names=['source_node', 'destination_node'])\n",
        "df_final_test['indicator_link'] = pd.read_csv('./My Drive/Facebook1/data/test_y.csv', skiprows=skip_test, names=['indicator_link'])\n",
        "print(\"Our test matrix size \",df_final_test.shape)\n",
        "df_final_test.head(2)"
      ],
      "execution_count": 78,
      "outputs": [
        {
          "output_type": "stream",
          "text": [
            "Our test matrix size  (50002, 3)\n"
          ],
          "name": "stdout"
        },
        {
          "output_type": "execute_result",
          "data": {
            "text/html": [
              "<div>\n",
              "<style scoped>\n",
              "    .dataframe tbody tr th:only-of-type {\n",
              "        vertical-align: middle;\n",
              "    }\n",
              "\n",
              "    .dataframe tbody tr th {\n",
              "        vertical-align: top;\n",
              "    }\n",
              "\n",
              "    .dataframe thead th {\n",
              "        text-align: right;\n",
              "    }\n",
              "</style>\n",
              "<table border=\"1\" class=\"dataframe\">\n",
              "  <thead>\n",
              "    <tr style=\"text-align: right;\">\n",
              "      <th></th>\n",
              "      <th>source_node</th>\n",
              "      <th>destination_node</th>\n",
              "      <th>indicator_link</th>\n",
              "    </tr>\n",
              "  </thead>\n",
              "  <tbody>\n",
              "    <tr>\n",
              "      <th>0</th>\n",
              "      <td>848424</td>\n",
              "      <td>784690</td>\n",
              "      <td>1</td>\n",
              "    </tr>\n",
              "    <tr>\n",
              "      <th>1</th>\n",
              "      <td>169499</td>\n",
              "      <td>1465659</td>\n",
              "      <td>1</td>\n",
              "    </tr>\n",
              "  </tbody>\n",
              "</table>\n",
              "</div>"
            ],
            "text/plain": [
              "   source_node  destination_node  indicator_link\n",
              "0       848424            784690               1\n",
              "1       169499           1465659               1"
            ]
          },
          "metadata": {
            "tags": []
          },
          "execution_count": 78
        }
      ]
    },
    {
      "cell_type": "markdown",
      "metadata": {
        "id": "gIaOWDaDVFIJ",
        "colab_type": "text"
      },
      "source": [
        "## 5.2 Adding a set of features\n",
        "\n",
        "__we will create these each of these features for both train and test data points__\n",
        "<ol>\n",
        "<li>jaccard_followers</li>\n",
        "<li>jaccard_followees</li>\n",
        "<li>cosine_followers</li>\n",
        "<li>cosine_followees</li>\n",
        "<li>num_followers_s</li>\n",
        "<li>num_followees_s</li>\n",
        "<li>num_followers_d</li>\n",
        "<li>num_followees_d</li>\n",
        "<li>inter_followers</li>\n",
        "<li>inter_followees</li>\n",
        "</ol>"
      ]
    },
    {
      "cell_type": "code",
      "metadata": {
        "id": "2qTkOiBcVFIJ",
        "colab_type": "code",
        "colab": {}
      },
      "source": [
        "if not os.path.isfile('./My Drive/Facebook1/data/fea_sample/storage_sample_stage1.h5'):\n",
        "    #mapping jaccrd followers to train and test data\n",
        "    df_final_train['jaccard_followers'] = df_final_train.apply(lambda row:\n",
        "                                            jaccard_for_followers(row['source_node'],row['destination_node']),axis=1)\n",
        "    df_final_test['jaccard_followers'] = df_final_test.apply(lambda row:\n",
        "                                            jaccard_for_followers(row['source_node'],row['destination_node']),axis=1)\n",
        "\n",
        "    #mapping jaccrd followees to train and test data\n",
        "    df_final_train['jaccard_followees'] = df_final_train.apply(lambda row:\n",
        "                                            jaccard_for_followees(row['source_node'],row['destination_node']),axis=1)\n",
        "    df_final_test['jaccard_followees'] = df_final_test.apply(lambda row:\n",
        "                                            jaccard_for_followees(row['source_node'],row['destination_node']),axis=1)\n",
        "    \n",
        "\n",
        "        #mapping jaccrd followers to train and test data\n",
        "    df_final_train['cosine_followers'] = df_final_train.apply(lambda row:\n",
        "                                            cosine_for_followers(row['source_node'],row['destination_node']),axis=1)\n",
        "    df_final_test['cosine_followers'] = df_final_test.apply(lambda row:\n",
        "                                            cosine_for_followers(row['source_node'],row['destination_node']),axis=1)\n",
        "\n",
        "    #mapping jaccrd followees to train and test data\n",
        "    df_final_train['cosine_followees'] = df_final_train.apply(lambda row:\n",
        "                                            cosine_for_followees(row['source_node'],row['destination_node']),axis=1)\n",
        "    df_final_test['cosine_followees'] = df_final_test.apply(lambda row:\n",
        "                                            cosine_for_followees(row['source_node'],row['destination_node']),axis=1)"
      ],
      "execution_count": 0,
      "outputs": []
    },
    {
      "cell_type": "code",
      "metadata": {
        "id": "fz2eZpSnVFIL",
        "colab_type": "code",
        "colab": {}
      },
      "source": [
        "def compute_features_stage1(df_final):\n",
        "    #calculating no of followers followees for source and destination\n",
        "    #calculating intersection of followers and followees for source and destination\n",
        "    num_followers_s=[]\n",
        "    num_followees_s=[]\n",
        "    num_followers_d=[]\n",
        "    num_followees_d=[]\n",
        "    inter_followers=[]\n",
        "    inter_followees=[]\n",
        "    for i,row in df_final.iterrows():\n",
        "        try:\n",
        "            s1=set(train_graph.predecessors(row['source_node']))\n",
        "            s2=set(train_graph.successors(row['source_node']))\n",
        "        except:\n",
        "            s1 = set()\n",
        "            s2 = set()\n",
        "        try:\n",
        "            d1=set(train_graph.predecessors(row['destination_node']))\n",
        "            d2=set(train_graph.successors(row['destination_node']))\n",
        "        except:\n",
        "            d1 = set()\n",
        "            d2 = set()\n",
        "        num_followers_s.append(len(s1))\n",
        "        num_followees_s.append(len(s2))\n",
        "\n",
        "        num_followers_d.append(len(d1))\n",
        "        num_followees_d.append(len(d2))\n",
        "\n",
        "        inter_followers.append(len(s1.intersection(d1)))\n",
        "        inter_followees.append(len(s2.intersection(d2)))\n",
        "    \n",
        "    return num_followers_s, num_followers_d, num_followees_s, num_followees_d, inter_followers, inter_followees"
      ],
      "execution_count": 0,
      "outputs": []
    },
    {
      "cell_type": "code",
      "metadata": {
        "id": "VFc60kcRVFIN",
        "colab_type": "code",
        "colab": {}
      },
      "source": [
        "if not os.path.isfile('./My Drive/Facebook1/data/fea_sample/storage_sample_stage1.h5'):\n",
        "    df_final_train['num_followers_s'], df_final_train['num_followers_d'], \\\n",
        "    df_final_train['num_followees_s'], df_final_train['num_followees_d'], \\\n",
        "    df_final_train['inter_followers'], df_final_train['inter_followees']= compute_features_stage1(df_final_train)\n",
        "    \n",
        "    df_final_test['num_followers_s'], df_final_test['num_followers_d'], \\\n",
        "    df_final_test['num_followees_s'], df_final_test['num_followees_d'], \\\n",
        "    df_final_test['inter_followers'], df_final_test['inter_followees']= compute_features_stage1(df_final_test)\n",
        "    \n",
        "    hdf = HDFStore('./My Drive/Facebook1/data/fea_sample/storage_sample_stage1.h5')\n",
        "    hdf.put('train_df',df_final_train, format='table', data_columns=True)\n",
        "    hdf.put('test_df',df_final_test, format='table', data_columns=True)\n",
        "    hdf.close()\n",
        "else:\n",
        "    df_final_train = read_hdf('./My Drive/Facebook1/data/fea_sample/storage_sample_stage1.h5', 'train_df',mode='r')\n",
        "    df_final_test = read_hdf('./My Drive/Facebook1/data/fea_sample/storage_sample_stage1.h5', 'test_df',mode='r')"
      ],
      "execution_count": 0,
      "outputs": []
    },
    {
      "cell_type": "code",
      "metadata": {
        "id": "5bpdNbTO2MH0",
        "colab_type": "code",
        "outputId": "c8f23230-231d-4177-bcde-bf4b79b66628",
        "colab": {
          "base_uri": "https://localhost:8080/",
          "height": 127
        }
      },
      "source": [
        "df_final_train.head(2)"
      ],
      "execution_count": 82,
      "outputs": [
        {
          "output_type": "execute_result",
          "data": {
            "text/html": [
              "<div>\n",
              "<style scoped>\n",
              "    .dataframe tbody tr th:only-of-type {\n",
              "        vertical-align: middle;\n",
              "    }\n",
              "\n",
              "    .dataframe tbody tr th {\n",
              "        vertical-align: top;\n",
              "    }\n",
              "\n",
              "    .dataframe thead th {\n",
              "        text-align: right;\n",
              "    }\n",
              "</style>\n",
              "<table border=\"1\" class=\"dataframe\">\n",
              "  <thead>\n",
              "    <tr style=\"text-align: right;\">\n",
              "      <th></th>\n",
              "      <th>source_node</th>\n",
              "      <th>destination_node</th>\n",
              "      <th>indicator_link</th>\n",
              "      <th>jaccard_followers</th>\n",
              "      <th>jaccard_followees</th>\n",
              "      <th>cosine_followers</th>\n",
              "      <th>cosine_followees</th>\n",
              "      <th>num_followers_s</th>\n",
              "      <th>num_followees_s</th>\n",
              "      <th>num_followees_d</th>\n",
              "      <th>inter_followers</th>\n",
              "      <th>inter_followees</th>\n",
              "      <th>num_followers_d</th>\n",
              "    </tr>\n",
              "  </thead>\n",
              "  <tbody>\n",
              "    <tr>\n",
              "      <th>0</th>\n",
              "      <td>273084</td>\n",
              "      <td>1505602</td>\n",
              "      <td>1</td>\n",
              "      <td>0</td>\n",
              "      <td>0.000000</td>\n",
              "      <td>0.000000</td>\n",
              "      <td>0.000000</td>\n",
              "      <td>11</td>\n",
              "      <td>15</td>\n",
              "      <td>8</td>\n",
              "      <td>0</td>\n",
              "      <td>0</td>\n",
              "      <td>6</td>\n",
              "    </tr>\n",
              "    <tr>\n",
              "      <th>1</th>\n",
              "      <td>832016</td>\n",
              "      <td>1543415</td>\n",
              "      <td>1</td>\n",
              "      <td>0</td>\n",
              "      <td>0.187135</td>\n",
              "      <td>0.028382</td>\n",
              "      <td>0.343828</td>\n",
              "      <td>17</td>\n",
              "      <td>61</td>\n",
              "      <td>142</td>\n",
              "      <td>11</td>\n",
              "      <td>32</td>\n",
              "      <td>94</td>\n",
              "    </tr>\n",
              "  </tbody>\n",
              "</table>\n",
              "</div>"
            ],
            "text/plain": [
              "   source_node  destination_node  ...  inter_followees  num_followers_d\n",
              "0       273084           1505602  ...                0                6\n",
              "1       832016           1543415  ...               32               94\n",
              "\n",
              "[2 rows x 13 columns]"
            ]
          },
          "metadata": {
            "tags": []
          },
          "execution_count": 82
        }
      ]
    },
    {
      "cell_type": "markdown",
      "metadata": {
        "id": "go_e8hxxVFIO",
        "colab_type": "text"
      },
      "source": [
        "## 5.3 Adding new set of features\n",
        "\n",
        "__we will create these each of these features for both train and test data points__\n",
        "<ol>\n",
        "<li>adar index</li>\n",
        "<li>is following back</li>\n",
        "<li>belongs to same weakly connect components</li>\n",
        "<li>shortest path between source and destination</li>\n",
        "</ol>"
      ]
    },
    {
      "cell_type": "code",
      "metadata": {
        "id": "LqB0Peg0VFIP",
        "colab_type": "code",
        "colab": {}
      },
      "source": [
        "if not os.path.isfile('./My Drive/Facebook1/data/fea_sample/storage_sample_stage2.h5'):\n",
        "    #mapping adar index on train\n",
        "    df_final_train['adar_index'] = df_final_train.apply(lambda row: calc_adar_in(row['source_node'],row['destination_node']),axis=1)\n",
        "    #mapping adar index on test\n",
        "    df_final_test['adar_index'] = df_final_test.apply(lambda row: calc_adar_in(row['source_node'],row['destination_node']),axis=1)\n",
        "\n",
        "    #--------------------------------------------------------------------------------------------------------\n",
        "    #mapping followback or not on train\n",
        "    df_final_train['follows_back'] = df_final_train.apply(lambda row: follows_back(row['source_node'],row['destination_node']),axis=1)\n",
        "\n",
        "    #mapping followback or not on test\n",
        "    df_final_test['follows_back'] = df_final_test.apply(lambda row: follows_back(row['source_node'],row['destination_node']),axis=1)\n",
        "\n",
        "    #--------------------------------------------------------------------------------------------------------\n",
        "    #mapping same component of wcc or not on train\n",
        "    df_final_train['same_comp'] = df_final_train.apply(lambda row: belongs_to_same_wcc(row['source_node'],row['destination_node']),axis=1)\n",
        "\n",
        "    ##mapping same component of wcc or not on train\n",
        "    df_final_test['same_comp'] = df_final_test.apply(lambda row: belongs_to_same_wcc(row['source_node'],row['destination_node']),axis=1)\n",
        "    \n",
        "    #--------------------------------------------------------------------------------------------------------\n",
        "    #mapping shortest path on train \n",
        "    df_final_train['shortest_path'] = df_final_train.apply(lambda row: compute_shortest_path_length(row['source_node'],row['destination_node']),axis=1)\n",
        "    #mapping shortest path on test\n",
        "    df_final_test['shortest_path'] = df_final_test.apply(lambda row: compute_shortest_path_length(row['source_node'],row['destination_node']),axis=1)\n",
        "\n",
        "    hdf = HDFStore('./My Drive/Facebook1/data/fea_sample/storage_sample_stage2.h5')\n",
        "    hdf.put('train_df',df_final_train, format='table', data_columns=True)\n",
        "    hdf.put('test_df',df_final_test, format='table', data_columns=True)\n",
        "    hdf.close()\n",
        "else:\n",
        "    df_final_train = read_hdf('./My Drive/Facebook1/data/fea_sample/storage_sample_stage2.h5', 'train_df',mode='r')\n",
        "    df_final_test = read_hdf('./My Drive/Facebook1/data/fea_sample/storage_sample_stage2.h5', 'test_df',mode='r')"
      ],
      "execution_count": 0,
      "outputs": []
    },
    {
      "cell_type": "code",
      "metadata": {
        "id": "f5J4hj6b2DuL",
        "colab_type": "code",
        "outputId": "456670c2-4297-4ac6-b867-7760a956f737",
        "colab": {
          "base_uri": "https://localhost:8080/",
          "height": 127
        }
      },
      "source": [
        "df_final_train.head(2)"
      ],
      "execution_count": 84,
      "outputs": [
        {
          "output_type": "execute_result",
          "data": {
            "text/html": [
              "<div>\n",
              "<style scoped>\n",
              "    .dataframe tbody tr th:only-of-type {\n",
              "        vertical-align: middle;\n",
              "    }\n",
              "\n",
              "    .dataframe tbody tr th {\n",
              "        vertical-align: top;\n",
              "    }\n",
              "\n",
              "    .dataframe thead th {\n",
              "        text-align: right;\n",
              "    }\n",
              "</style>\n",
              "<table border=\"1\" class=\"dataframe\">\n",
              "  <thead>\n",
              "    <tr style=\"text-align: right;\">\n",
              "      <th></th>\n",
              "      <th>source_node</th>\n",
              "      <th>destination_node</th>\n",
              "      <th>indicator_link</th>\n",
              "      <th>jaccard_followers</th>\n",
              "      <th>jaccard_followees</th>\n",
              "      <th>cosine_followers</th>\n",
              "      <th>cosine_followees</th>\n",
              "      <th>num_followers_s</th>\n",
              "      <th>num_followees_s</th>\n",
              "      <th>num_followees_d</th>\n",
              "      <th>inter_followers</th>\n",
              "      <th>inter_followees</th>\n",
              "      <th>num_followers_d</th>\n",
              "      <th>adar_index</th>\n",
              "      <th>follows_back</th>\n",
              "      <th>same_comp</th>\n",
              "      <th>shortest_path</th>\n",
              "    </tr>\n",
              "  </thead>\n",
              "  <tbody>\n",
              "    <tr>\n",
              "      <th>0</th>\n",
              "      <td>273084</td>\n",
              "      <td>1505602</td>\n",
              "      <td>1</td>\n",
              "      <td>0</td>\n",
              "      <td>0.000000</td>\n",
              "      <td>0.000000</td>\n",
              "      <td>0.000000</td>\n",
              "      <td>11</td>\n",
              "      <td>15</td>\n",
              "      <td>8</td>\n",
              "      <td>0</td>\n",
              "      <td>0</td>\n",
              "      <td>6</td>\n",
              "      <td>0.000000</td>\n",
              "      <td>0</td>\n",
              "      <td>1</td>\n",
              "      <td>4</td>\n",
              "    </tr>\n",
              "    <tr>\n",
              "      <th>1</th>\n",
              "      <td>832016</td>\n",
              "      <td>1543415</td>\n",
              "      <td>1</td>\n",
              "      <td>0</td>\n",
              "      <td>0.187135</td>\n",
              "      <td>0.028382</td>\n",
              "      <td>0.343828</td>\n",
              "      <td>17</td>\n",
              "      <td>61</td>\n",
              "      <td>142</td>\n",
              "      <td>11</td>\n",
              "      <td>32</td>\n",
              "      <td>94</td>\n",
              "      <td>16.362912</td>\n",
              "      <td>0</td>\n",
              "      <td>1</td>\n",
              "      <td>2</td>\n",
              "    </tr>\n",
              "  </tbody>\n",
              "</table>\n",
              "</div>"
            ],
            "text/plain": [
              "   source_node  destination_node  ...  same_comp  shortest_path\n",
              "0       273084           1505602  ...          1              4\n",
              "1       832016           1543415  ...          1              2\n",
              "\n",
              "[2 rows x 17 columns]"
            ]
          },
          "metadata": {
            "tags": []
          },
          "execution_count": 84
        }
      ]
    },
    {
      "cell_type": "markdown",
      "metadata": {
        "id": "HJ8Dbma_VFIR",
        "colab_type": "text"
      },
      "source": [
        "## 5.4 Adding new set of features\n",
        "\n",
        "__we will create these each of these features for both train and test data points__\n",
        "<ol>\n",
        "<li>Weight Features\n",
        "    <ul>\n",
        "        <li>weight of incoming edges</li>\n",
        "        <li>weight of outgoing edges</li>\n",
        "        <li>weight of incoming edges + weight of outgoing edges</li>\n",
        "        <li>weight of incoming edges * weight of outgoing edges</li>\n",
        "        <li>2*weight of incoming edges + weight of outgoing edges</li>\n",
        "        <li>weight of incoming edges + 2*weight of outgoing edges</li>\n",
        "    </ul>\n",
        "</li>\n",
        "<li>Page Ranking of source</li>\n",
        "<li>Page Ranking of dest</li>\n",
        "<li>katz of source</li>\n",
        "<li>katz of dest</li>\n",
        "<li>hubs of source</li>\n",
        "<li>hubs of dest</li>\n",
        "<li>authorities_s of source</li>\n",
        "<li>authorities_s of dest</li>\n",
        "</ol>"
      ]
    },
    {
      "cell_type": "markdown",
      "metadata": {
        "id": "iVHI2jtNVFIS",
        "colab_type": "text"
      },
      "source": [
        "#### Weight Features"
      ]
    },
    {
      "cell_type": "markdown",
      "metadata": {
        "id": "rXmUYF9FVFIT",
        "colab_type": "text"
      },
      "source": [
        "In order to determine the similarity of nodes, an edge weight value was calculated between nodes. Edge weight decreases as the neighbor count goes up. Intuitively, consider one million people following a celebrity on a social network then chances are most of them never met each other or the celebrity. On the other hand, if a user has 30 contacts in his/her social network, the chances are higher that many of them know each other. \n",
        "`credit` - Graph-based Features for Supervised Link Prediction\n",
        "William Cukierski, Benjamin Hamner, Bo Yang"
      ]
    },
    {
      "cell_type": "markdown",
      "metadata": {
        "id": "Qzbs2no7VFIV",
        "colab_type": "text"
      },
      "source": [
        "\\begin{equation}\n",
        "W = \\frac{1}{\\sqrt{1+|X|}}\n",
        "\\end{equation}"
      ]
    },
    {
      "cell_type": "markdown",
      "metadata": {
        "id": "kkzUPrWaVFIV",
        "colab_type": "text"
      },
      "source": [
        "it is directed graph so calculated Weighted in and Weighted out differently"
      ]
    },
    {
      "cell_type": "code",
      "metadata": {
        "id": "FgNMzzTbVFIW",
        "colab_type": "code",
        "outputId": "95db18e5-133f-48ea-c9ba-53b7d091f971",
        "colab": {
          "base_uri": "https://localhost:8080/",
          "height": 33
        }
      },
      "source": [
        "#weight for source and destination of each link\n",
        "Weight_in = {}\n",
        "Weight_out = {}\n",
        "for i in  tqdm(train_graph.nodes()):\n",
        "    s1=set(train_graph.predecessors(i))\n",
        "    w_in = 1.0/(np.sqrt(1+len(s1)))\n",
        "    Weight_in[i]=w_in\n",
        "    \n",
        "    s2=set(train_graph.successors(i))\n",
        "    w_out = 1.0/(np.sqrt(1+len(s2)))\n",
        "    Weight_out[i]=w_out\n",
        "    \n",
        "#for imputing with mean\n",
        "mean_weight_in = np.mean(list(Weight_in.values()))\n",
        "mean_weight_out = np.mean(list(Weight_out.values()))"
      ],
      "execution_count": 85,
      "outputs": [
        {
          "output_type": "stream",
          "text": [
            "100%|██████████| 1780722/1780722 [00:17<00:00, 103168.10it/s]\n"
          ],
          "name": "stderr"
        }
      ]
    },
    {
      "cell_type": "code",
      "metadata": {
        "id": "AF4yPhIOVFIY",
        "colab_type": "code",
        "colab": {}
      },
      "source": [
        "if not os.path.isfile('./My Drive/Facebook1/data/fea_sample/storage_sample_stage3.h5'):\n",
        "    #mapping to pandas train\n",
        "    df_final_train['weight_in'] = df_final_train.destination_node.apply(lambda x: Weight_in.get(x,mean_weight_in))\n",
        "    df_final_train['weight_out'] = df_final_train.source_node.apply(lambda x: Weight_out.get(x,mean_weight_out))\n",
        "\n",
        "    #mapping to pandas test\n",
        "    df_final_test['weight_in'] = df_final_test.destination_node.apply(lambda x: Weight_in.get(x,mean_weight_in))\n",
        "    df_final_test['weight_out'] = df_final_test.source_node.apply(lambda x: Weight_out.get(x,mean_weight_out))\n",
        "\n",
        "\n",
        "    #some features engineerings on the in and out weights\n",
        "    df_final_train['weight_f1'] = df_final_train.weight_in + df_final_train.weight_out\n",
        "    df_final_train['weight_f2'] = df_final_train.weight_in * df_final_train.weight_out\n",
        "    df_final_train['weight_f3'] = (2*df_final_train.weight_in + 1*df_final_train.weight_out)\n",
        "    df_final_train['weight_f4'] = (1*df_final_train.weight_in + 2*df_final_train.weight_out)\n",
        "\n",
        "    #some features engineerings on the in and out weights\n",
        "    df_final_test['weight_f1'] = df_final_test.weight_in + df_final_test.weight_out\n",
        "    df_final_test['weight_f2'] = df_final_test.weight_in * df_final_test.weight_out\n",
        "    df_final_test['weight_f3'] = (2*df_final_test.weight_in + 1*df_final_test.weight_out)\n",
        "    df_final_test['weight_f4'] = (1*df_final_test.weight_in + 2*df_final_test.weight_out)"
      ],
      "execution_count": 0,
      "outputs": []
    },
    {
      "cell_type": "code",
      "metadata": {
        "id": "uhxzhQ9aVFIa",
        "colab_type": "code",
        "colab": {}
      },
      "source": [
        "if not os.path.isfile('./My Drive/Facebook1/data/fea_sample/storage_sample_stage3.h5'):\n",
        "    \n",
        "    #page rank for source and destination in Train and Test\n",
        "    #if anything not there in train graph then adding mean page rank \n",
        "    df_final_train['page_rank_s'] = df_final_train.source_node.apply(lambda x:pr.get(x,mean_pr))\n",
        "    df_final_train['page_rank_d'] = df_final_train.destination_node.apply(lambda x:pr.get(x,mean_pr))\n",
        "\n",
        "    df_final_test['page_rank_s'] = df_final_test.source_node.apply(lambda x:pr.get(x,mean_pr))\n",
        "    df_final_test['page_rank_d'] = df_final_test.destination_node.apply(lambda x:pr.get(x,mean_pr))\n",
        "    #================================================================================\n",
        "\n",
        "    #Katz centrality score for source and destination in Train and test\n",
        "    #if anything not there in train graph then adding mean katz score\n",
        "    df_final_train['katz_s'] = df_final_train.source_node.apply(lambda x: katz.get(x,mean_katz))\n",
        "    df_final_train['katz_d'] = df_final_train.destination_node.apply(lambda x: katz.get(x,mean_katz))\n",
        "\n",
        "    df_final_test['katz_s'] = df_final_test.source_node.apply(lambda x: katz.get(x,mean_katz))\n",
        "    df_final_test['katz_d'] = df_final_test.destination_node.apply(lambda x: katz.get(x,mean_katz))\n",
        "    #================================================================================\n",
        "\n",
        "    #Hits algorithm score for source and destination in Train and test\n",
        "    #if anything not there in train graph then adding 0\n",
        "    df_final_train['hubs_s'] = df_final_train.source_node.apply(lambda x: hits[0].get(x,0))\n",
        "    df_final_train['hubs_d'] = df_final_train.destination_node.apply(lambda x: hits[0].get(x,0))\n",
        "\n",
        "    df_final_test['hubs_s'] = df_final_test.source_node.apply(lambda x: hits[0].get(x,0))\n",
        "    df_final_test['hubs_d'] = df_final_test.destination_node.apply(lambda x: hits[0].get(x,0))\n",
        "    #================================================================================\n",
        "\n",
        "    #Hits algorithm score for source and destination in Train and Test\n",
        "    #if anything not there in train graph then adding 0\n",
        "    df_final_train['authorities_s'] = df_final_train.source_node.apply(lambda x: hits[1].get(x,0))\n",
        "    df_final_train['authorities_d'] = df_final_train.destination_node.apply(lambda x: hits[1].get(x,0))\n",
        "\n",
        "    df_final_test['authorities_s'] = df_final_test.source_node.apply(lambda x: hits[1].get(x,0))\n",
        "    df_final_test['authorities_d'] = df_final_test.destination_node.apply(lambda x: hits[1].get(x,0))\n",
        "    #================================================================================\n",
        "\n",
        "    hdf = HDFStore('./My Drive/Facebook1/data/fea_sample/storage_sample_stage3.h5')\n",
        "    hdf.put('train_df',df_final_train, format='table', data_columns=True)\n",
        "    hdf.put('test_df',df_final_test, format='table', data_columns=True)\n",
        "    hdf.close()\n",
        "else:\n",
        "    df_final_train = read_hdf('./My Drive/Facebook1/data/fea_sample/storage_sample_stage3.h5', 'train_df',mode='r')\n",
        "    df_final_test = read_hdf('./My Drive/Facebook1/data/fea_sample/storage_sample_stage3.h5', 'test_df',mode='r')"
      ],
      "execution_count": 0,
      "outputs": []
    },
    {
      "cell_type": "code",
      "metadata": {
        "id": "UonHxZtG4eA4",
        "colab_type": "code",
        "outputId": "fa959eb6-542c-4f15-a6be-988cfd857592",
        "colab": {
          "base_uri": "https://localhost:8080/",
          "height": 161
        }
      },
      "source": [
        "df_final_train.head(2)"
      ],
      "execution_count": 88,
      "outputs": [
        {
          "output_type": "execute_result",
          "data": {
            "text/html": [
              "<div>\n",
              "<style scoped>\n",
              "    .dataframe tbody tr th:only-of-type {\n",
              "        vertical-align: middle;\n",
              "    }\n",
              "\n",
              "    .dataframe tbody tr th {\n",
              "        vertical-align: top;\n",
              "    }\n",
              "\n",
              "    .dataframe thead th {\n",
              "        text-align: right;\n",
              "    }\n",
              "</style>\n",
              "<table border=\"1\" class=\"dataframe\">\n",
              "  <thead>\n",
              "    <tr style=\"text-align: right;\">\n",
              "      <th></th>\n",
              "      <th>source_node</th>\n",
              "      <th>destination_node</th>\n",
              "      <th>indicator_link</th>\n",
              "      <th>jaccard_followers</th>\n",
              "      <th>jaccard_followees</th>\n",
              "      <th>cosine_followers</th>\n",
              "      <th>cosine_followees</th>\n",
              "      <th>num_followers_s</th>\n",
              "      <th>num_followees_s</th>\n",
              "      <th>num_followees_d</th>\n",
              "      <th>inter_followers</th>\n",
              "      <th>inter_followees</th>\n",
              "      <th>num_followers_d</th>\n",
              "      <th>adar_index</th>\n",
              "      <th>follows_back</th>\n",
              "      <th>same_comp</th>\n",
              "      <th>shortest_path</th>\n",
              "      <th>weight_in</th>\n",
              "      <th>weight_out</th>\n",
              "      <th>weight_f1</th>\n",
              "      <th>weight_f2</th>\n",
              "      <th>weight_f3</th>\n",
              "      <th>weight_f4</th>\n",
              "      <th>page_rank_s</th>\n",
              "      <th>page_rank_d</th>\n",
              "      <th>katz_s</th>\n",
              "      <th>katz_d</th>\n",
              "      <th>hubs_s</th>\n",
              "      <th>hubs_d</th>\n",
              "      <th>authorities_s</th>\n",
              "      <th>authorities_d</th>\n",
              "    </tr>\n",
              "  </thead>\n",
              "  <tbody>\n",
              "    <tr>\n",
              "      <th>0</th>\n",
              "      <td>273084</td>\n",
              "      <td>1505602</td>\n",
              "      <td>1</td>\n",
              "      <td>0</td>\n",
              "      <td>0.000000</td>\n",
              "      <td>0.000000</td>\n",
              "      <td>0.000000</td>\n",
              "      <td>11</td>\n",
              "      <td>15</td>\n",
              "      <td>8</td>\n",
              "      <td>0</td>\n",
              "      <td>0</td>\n",
              "      <td>6</td>\n",
              "      <td>0.000000</td>\n",
              "      <td>0</td>\n",
              "      <td>1</td>\n",
              "      <td>4</td>\n",
              "      <td>0.377964</td>\n",
              "      <td>0.250</td>\n",
              "      <td>0.627964</td>\n",
              "      <td>0.094491</td>\n",
              "      <td>1.005929</td>\n",
              "      <td>0.877964</td>\n",
              "      <td>2.045290e-06</td>\n",
              "      <td>3.459963e-07</td>\n",
              "      <td>0.000773</td>\n",
              "      <td>0.000756</td>\n",
              "      <td>1.943132e-13</td>\n",
              "      <td>1.941103e-13</td>\n",
              "      <td>9.226339e-16</td>\n",
              "      <td>2.231877e-15</td>\n",
              "    </tr>\n",
              "    <tr>\n",
              "      <th>1</th>\n",
              "      <td>832016</td>\n",
              "      <td>1543415</td>\n",
              "      <td>1</td>\n",
              "      <td>0</td>\n",
              "      <td>0.187135</td>\n",
              "      <td>0.028382</td>\n",
              "      <td>0.343828</td>\n",
              "      <td>17</td>\n",
              "      <td>61</td>\n",
              "      <td>142</td>\n",
              "      <td>11</td>\n",
              "      <td>32</td>\n",
              "      <td>94</td>\n",
              "      <td>16.362912</td>\n",
              "      <td>0</td>\n",
              "      <td>1</td>\n",
              "      <td>2</td>\n",
              "      <td>0.102598</td>\n",
              "      <td>0.127</td>\n",
              "      <td>0.229598</td>\n",
              "      <td>0.013030</td>\n",
              "      <td>0.332196</td>\n",
              "      <td>0.356598</td>\n",
              "      <td>2.353458e-07</td>\n",
              "      <td>6.427660e-07</td>\n",
              "      <td>0.000845</td>\n",
              "      <td>0.001317</td>\n",
              "      <td>3.906648e-11</td>\n",
              "      <td>9.424102e-11</td>\n",
              "      <td>1.208074e-11</td>\n",
              "      <td>1.273080e-10</td>\n",
              "    </tr>\n",
              "  </tbody>\n",
              "</table>\n",
              "</div>"
            ],
            "text/plain": [
              "   source_node  destination_node  ...  authorities_s  authorities_d\n",
              "0       273084           1505602  ...   9.226339e-16   2.231877e-15\n",
              "1       832016           1543415  ...   1.208074e-11   1.273080e-10\n",
              "\n",
              "[2 rows x 31 columns]"
            ]
          },
          "metadata": {
            "tags": []
          },
          "execution_count": 88
        }
      ]
    },
    {
      "cell_type": "code",
      "metadata": {
        "id": "iYCUIFbv34DJ",
        "colab_type": "code",
        "outputId": "c76601a6-988d-4852-adbd-f80f3da7d95d",
        "colab": {
          "base_uri": "https://localhost:8080/",
          "height": 161
        }
      },
      "source": [
        "followers_s=np.array(df_final_train['num_followers_s'])\n",
        "followers_d=np.array(df_final_train['num_followers_d'])\n",
        "preferential_followers=[]\n",
        "for i in range(len(followers_s)):\n",
        "    preferential_followers.append(followers_s[i]*followers_d[i])\n",
        "df_final_train['prefer_Attach_followers']= preferential_followers\n",
        "df_final_train.head(2)"
      ],
      "execution_count": 89,
      "outputs": [
        {
          "output_type": "execute_result",
          "data": {
            "text/html": [
              "<div>\n",
              "<style scoped>\n",
              "    .dataframe tbody tr th:only-of-type {\n",
              "        vertical-align: middle;\n",
              "    }\n",
              "\n",
              "    .dataframe tbody tr th {\n",
              "        vertical-align: top;\n",
              "    }\n",
              "\n",
              "    .dataframe thead th {\n",
              "        text-align: right;\n",
              "    }\n",
              "</style>\n",
              "<table border=\"1\" class=\"dataframe\">\n",
              "  <thead>\n",
              "    <tr style=\"text-align: right;\">\n",
              "      <th></th>\n",
              "      <th>source_node</th>\n",
              "      <th>destination_node</th>\n",
              "      <th>indicator_link</th>\n",
              "      <th>jaccard_followers</th>\n",
              "      <th>jaccard_followees</th>\n",
              "      <th>cosine_followers</th>\n",
              "      <th>cosine_followees</th>\n",
              "      <th>num_followers_s</th>\n",
              "      <th>num_followees_s</th>\n",
              "      <th>num_followees_d</th>\n",
              "      <th>inter_followers</th>\n",
              "      <th>inter_followees</th>\n",
              "      <th>num_followers_d</th>\n",
              "      <th>adar_index</th>\n",
              "      <th>follows_back</th>\n",
              "      <th>same_comp</th>\n",
              "      <th>shortest_path</th>\n",
              "      <th>weight_in</th>\n",
              "      <th>weight_out</th>\n",
              "      <th>weight_f1</th>\n",
              "      <th>weight_f2</th>\n",
              "      <th>weight_f3</th>\n",
              "      <th>weight_f4</th>\n",
              "      <th>page_rank_s</th>\n",
              "      <th>page_rank_d</th>\n",
              "      <th>katz_s</th>\n",
              "      <th>katz_d</th>\n",
              "      <th>hubs_s</th>\n",
              "      <th>hubs_d</th>\n",
              "      <th>authorities_s</th>\n",
              "      <th>authorities_d</th>\n",
              "      <th>prefer_Attach_followers</th>\n",
              "    </tr>\n",
              "  </thead>\n",
              "  <tbody>\n",
              "    <tr>\n",
              "      <th>0</th>\n",
              "      <td>273084</td>\n",
              "      <td>1505602</td>\n",
              "      <td>1</td>\n",
              "      <td>0</td>\n",
              "      <td>0.000000</td>\n",
              "      <td>0.000000</td>\n",
              "      <td>0.000000</td>\n",
              "      <td>11</td>\n",
              "      <td>15</td>\n",
              "      <td>8</td>\n",
              "      <td>0</td>\n",
              "      <td>0</td>\n",
              "      <td>6</td>\n",
              "      <td>0.000000</td>\n",
              "      <td>0</td>\n",
              "      <td>1</td>\n",
              "      <td>4</td>\n",
              "      <td>0.377964</td>\n",
              "      <td>0.250</td>\n",
              "      <td>0.627964</td>\n",
              "      <td>0.094491</td>\n",
              "      <td>1.005929</td>\n",
              "      <td>0.877964</td>\n",
              "      <td>2.045290e-06</td>\n",
              "      <td>3.459963e-07</td>\n",
              "      <td>0.000773</td>\n",
              "      <td>0.000756</td>\n",
              "      <td>1.943132e-13</td>\n",
              "      <td>1.941103e-13</td>\n",
              "      <td>9.226339e-16</td>\n",
              "      <td>2.231877e-15</td>\n",
              "      <td>66</td>\n",
              "    </tr>\n",
              "    <tr>\n",
              "      <th>1</th>\n",
              "      <td>832016</td>\n",
              "      <td>1543415</td>\n",
              "      <td>1</td>\n",
              "      <td>0</td>\n",
              "      <td>0.187135</td>\n",
              "      <td>0.028382</td>\n",
              "      <td>0.343828</td>\n",
              "      <td>17</td>\n",
              "      <td>61</td>\n",
              "      <td>142</td>\n",
              "      <td>11</td>\n",
              "      <td>32</td>\n",
              "      <td>94</td>\n",
              "      <td>16.362912</td>\n",
              "      <td>0</td>\n",
              "      <td>1</td>\n",
              "      <td>2</td>\n",
              "      <td>0.102598</td>\n",
              "      <td>0.127</td>\n",
              "      <td>0.229598</td>\n",
              "      <td>0.013030</td>\n",
              "      <td>0.332196</td>\n",
              "      <td>0.356598</td>\n",
              "      <td>2.353458e-07</td>\n",
              "      <td>6.427660e-07</td>\n",
              "      <td>0.000845</td>\n",
              "      <td>0.001317</td>\n",
              "      <td>3.906648e-11</td>\n",
              "      <td>9.424102e-11</td>\n",
              "      <td>1.208074e-11</td>\n",
              "      <td>1.273080e-10</td>\n",
              "      <td>1598</td>\n",
              "    </tr>\n",
              "  </tbody>\n",
              "</table>\n",
              "</div>"
            ],
            "text/plain": [
              "   source_node  destination_node  ...  authorities_d  prefer_Attach_followers\n",
              "0       273084           1505602  ...   2.231877e-15                       66\n",
              "1       832016           1543415  ...   1.273080e-10                     1598\n",
              "\n",
              "[2 rows x 32 columns]"
            ]
          },
          "metadata": {
            "tags": []
          },
          "execution_count": 89
        }
      ]
    },
    {
      "cell_type": "code",
      "metadata": {
        "id": "OKkgzjU34uXh",
        "colab_type": "code",
        "outputId": "dc845bcc-8194-4994-c1ab-9a566a0224e0",
        "colab": {
          "base_uri": "https://localhost:8080/",
          "height": 161
        }
      },
      "source": [
        "followees_s=np.array(df_final_train['num_followees_s'])\n",
        "followees_d=np.array(df_final_train['num_followees_d'])\n",
        "preferential_followees=[]\n",
        "for i in range(len(followees_s)):\n",
        "    preferential_followees.append(followees_s[i]*followees_d[i])\n",
        "df_final_train['prefer_Attach_followees']= preferential_followees\n",
        "df_final_train.head(2)"
      ],
      "execution_count": 90,
      "outputs": [
        {
          "output_type": "execute_result",
          "data": {
            "text/html": [
              "<div>\n",
              "<style scoped>\n",
              "    .dataframe tbody tr th:only-of-type {\n",
              "        vertical-align: middle;\n",
              "    }\n",
              "\n",
              "    .dataframe tbody tr th {\n",
              "        vertical-align: top;\n",
              "    }\n",
              "\n",
              "    .dataframe thead th {\n",
              "        text-align: right;\n",
              "    }\n",
              "</style>\n",
              "<table border=\"1\" class=\"dataframe\">\n",
              "  <thead>\n",
              "    <tr style=\"text-align: right;\">\n",
              "      <th></th>\n",
              "      <th>source_node</th>\n",
              "      <th>destination_node</th>\n",
              "      <th>indicator_link</th>\n",
              "      <th>jaccard_followers</th>\n",
              "      <th>jaccard_followees</th>\n",
              "      <th>cosine_followers</th>\n",
              "      <th>cosine_followees</th>\n",
              "      <th>num_followers_s</th>\n",
              "      <th>num_followees_s</th>\n",
              "      <th>num_followees_d</th>\n",
              "      <th>inter_followers</th>\n",
              "      <th>inter_followees</th>\n",
              "      <th>num_followers_d</th>\n",
              "      <th>adar_index</th>\n",
              "      <th>follows_back</th>\n",
              "      <th>same_comp</th>\n",
              "      <th>shortest_path</th>\n",
              "      <th>weight_in</th>\n",
              "      <th>weight_out</th>\n",
              "      <th>weight_f1</th>\n",
              "      <th>weight_f2</th>\n",
              "      <th>weight_f3</th>\n",
              "      <th>weight_f4</th>\n",
              "      <th>page_rank_s</th>\n",
              "      <th>page_rank_d</th>\n",
              "      <th>katz_s</th>\n",
              "      <th>katz_d</th>\n",
              "      <th>hubs_s</th>\n",
              "      <th>hubs_d</th>\n",
              "      <th>authorities_s</th>\n",
              "      <th>authorities_d</th>\n",
              "      <th>prefer_Attach_followers</th>\n",
              "      <th>prefer_Attach_followees</th>\n",
              "    </tr>\n",
              "  </thead>\n",
              "  <tbody>\n",
              "    <tr>\n",
              "      <th>0</th>\n",
              "      <td>273084</td>\n",
              "      <td>1505602</td>\n",
              "      <td>1</td>\n",
              "      <td>0</td>\n",
              "      <td>0.000000</td>\n",
              "      <td>0.000000</td>\n",
              "      <td>0.000000</td>\n",
              "      <td>11</td>\n",
              "      <td>15</td>\n",
              "      <td>8</td>\n",
              "      <td>0</td>\n",
              "      <td>0</td>\n",
              "      <td>6</td>\n",
              "      <td>0.000000</td>\n",
              "      <td>0</td>\n",
              "      <td>1</td>\n",
              "      <td>4</td>\n",
              "      <td>0.377964</td>\n",
              "      <td>0.250</td>\n",
              "      <td>0.627964</td>\n",
              "      <td>0.094491</td>\n",
              "      <td>1.005929</td>\n",
              "      <td>0.877964</td>\n",
              "      <td>2.045290e-06</td>\n",
              "      <td>3.459963e-07</td>\n",
              "      <td>0.000773</td>\n",
              "      <td>0.000756</td>\n",
              "      <td>1.943132e-13</td>\n",
              "      <td>1.941103e-13</td>\n",
              "      <td>9.226339e-16</td>\n",
              "      <td>2.231877e-15</td>\n",
              "      <td>66</td>\n",
              "      <td>120</td>\n",
              "    </tr>\n",
              "    <tr>\n",
              "      <th>1</th>\n",
              "      <td>832016</td>\n",
              "      <td>1543415</td>\n",
              "      <td>1</td>\n",
              "      <td>0</td>\n",
              "      <td>0.187135</td>\n",
              "      <td>0.028382</td>\n",
              "      <td>0.343828</td>\n",
              "      <td>17</td>\n",
              "      <td>61</td>\n",
              "      <td>142</td>\n",
              "      <td>11</td>\n",
              "      <td>32</td>\n",
              "      <td>94</td>\n",
              "      <td>16.362912</td>\n",
              "      <td>0</td>\n",
              "      <td>1</td>\n",
              "      <td>2</td>\n",
              "      <td>0.102598</td>\n",
              "      <td>0.127</td>\n",
              "      <td>0.229598</td>\n",
              "      <td>0.013030</td>\n",
              "      <td>0.332196</td>\n",
              "      <td>0.356598</td>\n",
              "      <td>2.353458e-07</td>\n",
              "      <td>6.427660e-07</td>\n",
              "      <td>0.000845</td>\n",
              "      <td>0.001317</td>\n",
              "      <td>3.906648e-11</td>\n",
              "      <td>9.424102e-11</td>\n",
              "      <td>1.208074e-11</td>\n",
              "      <td>1.273080e-10</td>\n",
              "      <td>1598</td>\n",
              "      <td>8662</td>\n",
              "    </tr>\n",
              "  </tbody>\n",
              "</table>\n",
              "</div>"
            ],
            "text/plain": [
              "   source_node  ...  prefer_Attach_followees\n",
              "0       273084  ...                      120\n",
              "1       832016  ...                     8662\n",
              "\n",
              "[2 rows x 33 columns]"
            ]
          },
          "metadata": {
            "tags": []
          },
          "execution_count": 90
        }
      ]
    },
    {
      "cell_type": "code",
      "metadata": {
        "id": "bkMy47ma_3EH",
        "colab_type": "code",
        "outputId": "ec919756-3fc2-4167-a799-274cd95fc688",
        "colab": {
          "base_uri": "https://localhost:8080/",
          "height": 161
        }
      },
      "source": [
        "followers_s=np.array(df_final_test['num_followers_s'])\n",
        "followers_d=np.array(df_final_test['num_followers_d'])\n",
        "preferential_followers=[]\n",
        "for i in range(len(followers_s)):\n",
        "    preferential_followers.append(followers_s[i]*followers_d[i])\n",
        "df_final_test['prefer_Attach_followers']= preferential_followers\n",
        "df_final_test.head(2)"
      ],
      "execution_count": 91,
      "outputs": [
        {
          "output_type": "execute_result",
          "data": {
            "text/html": [
              "<div>\n",
              "<style scoped>\n",
              "    .dataframe tbody tr th:only-of-type {\n",
              "        vertical-align: middle;\n",
              "    }\n",
              "\n",
              "    .dataframe tbody tr th {\n",
              "        vertical-align: top;\n",
              "    }\n",
              "\n",
              "    .dataframe thead th {\n",
              "        text-align: right;\n",
              "    }\n",
              "</style>\n",
              "<table border=\"1\" class=\"dataframe\">\n",
              "  <thead>\n",
              "    <tr style=\"text-align: right;\">\n",
              "      <th></th>\n",
              "      <th>source_node</th>\n",
              "      <th>destination_node</th>\n",
              "      <th>indicator_link</th>\n",
              "      <th>jaccard_followers</th>\n",
              "      <th>jaccard_followees</th>\n",
              "      <th>cosine_followers</th>\n",
              "      <th>cosine_followees</th>\n",
              "      <th>num_followers_s</th>\n",
              "      <th>num_followees_s</th>\n",
              "      <th>num_followees_d</th>\n",
              "      <th>inter_followers</th>\n",
              "      <th>inter_followees</th>\n",
              "      <th>num_followers_d</th>\n",
              "      <th>adar_index</th>\n",
              "      <th>follows_back</th>\n",
              "      <th>same_comp</th>\n",
              "      <th>shortest_path</th>\n",
              "      <th>weight_in</th>\n",
              "      <th>weight_out</th>\n",
              "      <th>weight_f1</th>\n",
              "      <th>weight_f2</th>\n",
              "      <th>weight_f3</th>\n",
              "      <th>weight_f4</th>\n",
              "      <th>page_rank_s</th>\n",
              "      <th>page_rank_d</th>\n",
              "      <th>katz_s</th>\n",
              "      <th>katz_d</th>\n",
              "      <th>hubs_s</th>\n",
              "      <th>hubs_d</th>\n",
              "      <th>authorities_s</th>\n",
              "      <th>authorities_d</th>\n",
              "      <th>prefer_Attach_followers</th>\n",
              "    </tr>\n",
              "  </thead>\n",
              "  <tbody>\n",
              "    <tr>\n",
              "      <th>0</th>\n",
              "      <td>848424</td>\n",
              "      <td>784690</td>\n",
              "      <td>1</td>\n",
              "      <td>0</td>\n",
              "      <td>0.0</td>\n",
              "      <td>0.029161</td>\n",
              "      <td>0.0</td>\n",
              "      <td>6</td>\n",
              "      <td>6</td>\n",
              "      <td>9</td>\n",
              "      <td>1</td>\n",
              "      <td>0</td>\n",
              "      <td>14</td>\n",
              "      <td>0.0</td>\n",
              "      <td>1</td>\n",
              "      <td>1</td>\n",
              "      <td>2</td>\n",
              "      <td>0.258199</td>\n",
              "      <td>0.377964</td>\n",
              "      <td>0.636163</td>\n",
              "      <td>0.097590</td>\n",
              "      <td>0.894362</td>\n",
              "      <td>1.014128</td>\n",
              "      <td>6.557971e-07</td>\n",
              "      <td>0.000002</td>\n",
              "      <td>0.000754</td>\n",
              "      <td>0.000786</td>\n",
              "      <td>3.243237e-16</td>\n",
              "      <td>1.745627e-16</td>\n",
              "      <td>2.969838e-15</td>\n",
              "      <td>9.269213e-14</td>\n",
              "      <td>84</td>\n",
              "    </tr>\n",
              "    <tr>\n",
              "      <th>1</th>\n",
              "      <td>483294</td>\n",
              "      <td>1255532</td>\n",
              "      <td>1</td>\n",
              "      <td>0</td>\n",
              "      <td>0.0</td>\n",
              "      <td>0.000000</td>\n",
              "      <td>0.0</td>\n",
              "      <td>2</td>\n",
              "      <td>1</td>\n",
              "      <td>19</td>\n",
              "      <td>0</td>\n",
              "      <td>0</td>\n",
              "      <td>17</td>\n",
              "      <td>0.0</td>\n",
              "      <td>1</td>\n",
              "      <td>1</td>\n",
              "      <td>7</td>\n",
              "      <td>0.235702</td>\n",
              "      <td>0.707107</td>\n",
              "      <td>0.942809</td>\n",
              "      <td>0.166667</td>\n",
              "      <td>1.178511</td>\n",
              "      <td>1.649916</td>\n",
              "      <td>2.172064e-07</td>\n",
              "      <td>0.000001</td>\n",
              "      <td>0.000739</td>\n",
              "      <td>0.000801</td>\n",
              "      <td>1.702625e-19</td>\n",
              "      <td>2.706300e-15</td>\n",
              "      <td>2.522357e-16</td>\n",
              "      <td>5.277458e-15</td>\n",
              "      <td>34</td>\n",
              "    </tr>\n",
              "  </tbody>\n",
              "</table>\n",
              "</div>"
            ],
            "text/plain": [
              "   source_node  destination_node  ...  authorities_d  prefer_Attach_followers\n",
              "0       848424            784690  ...   9.269213e-14                       84\n",
              "1       483294           1255532  ...   5.277458e-15                       34\n",
              "\n",
              "[2 rows x 32 columns]"
            ]
          },
          "metadata": {
            "tags": []
          },
          "execution_count": 91
        }
      ]
    },
    {
      "cell_type": "code",
      "metadata": {
        "id": "97H73qXA_3Xo",
        "colab_type": "code",
        "outputId": "4f69d8a4-612a-4d8f-ddb0-ebc239daf02a",
        "colab": {
          "base_uri": "https://localhost:8080/",
          "height": 161
        }
      },
      "source": [
        "followees_s=np.array(df_final_test['num_followees_s'])\n",
        "followees_d=np.array(df_final_test['num_followees_d'])\n",
        "preferential_followees=[]\n",
        "for i in range(len(followees_s)):\n",
        "    preferential_followees.append(followees_s[i]*followees_d[i])\n",
        "df_final_test['prefer_Attach_followees']= preferential_followees\n",
        "df_final_test.head(2)"
      ],
      "execution_count": 92,
      "outputs": [
        {
          "output_type": "execute_result",
          "data": {
            "text/html": [
              "<div>\n",
              "<style scoped>\n",
              "    .dataframe tbody tr th:only-of-type {\n",
              "        vertical-align: middle;\n",
              "    }\n",
              "\n",
              "    .dataframe tbody tr th {\n",
              "        vertical-align: top;\n",
              "    }\n",
              "\n",
              "    .dataframe thead th {\n",
              "        text-align: right;\n",
              "    }\n",
              "</style>\n",
              "<table border=\"1\" class=\"dataframe\">\n",
              "  <thead>\n",
              "    <tr style=\"text-align: right;\">\n",
              "      <th></th>\n",
              "      <th>source_node</th>\n",
              "      <th>destination_node</th>\n",
              "      <th>indicator_link</th>\n",
              "      <th>jaccard_followers</th>\n",
              "      <th>jaccard_followees</th>\n",
              "      <th>cosine_followers</th>\n",
              "      <th>cosine_followees</th>\n",
              "      <th>num_followers_s</th>\n",
              "      <th>num_followees_s</th>\n",
              "      <th>num_followees_d</th>\n",
              "      <th>inter_followers</th>\n",
              "      <th>inter_followees</th>\n",
              "      <th>num_followers_d</th>\n",
              "      <th>adar_index</th>\n",
              "      <th>follows_back</th>\n",
              "      <th>same_comp</th>\n",
              "      <th>shortest_path</th>\n",
              "      <th>weight_in</th>\n",
              "      <th>weight_out</th>\n",
              "      <th>weight_f1</th>\n",
              "      <th>weight_f2</th>\n",
              "      <th>weight_f3</th>\n",
              "      <th>weight_f4</th>\n",
              "      <th>page_rank_s</th>\n",
              "      <th>page_rank_d</th>\n",
              "      <th>katz_s</th>\n",
              "      <th>katz_d</th>\n",
              "      <th>hubs_s</th>\n",
              "      <th>hubs_d</th>\n",
              "      <th>authorities_s</th>\n",
              "      <th>authorities_d</th>\n",
              "      <th>prefer_Attach_followers</th>\n",
              "      <th>prefer_Attach_followees</th>\n",
              "    </tr>\n",
              "  </thead>\n",
              "  <tbody>\n",
              "    <tr>\n",
              "      <th>0</th>\n",
              "      <td>848424</td>\n",
              "      <td>784690</td>\n",
              "      <td>1</td>\n",
              "      <td>0</td>\n",
              "      <td>0.0</td>\n",
              "      <td>0.029161</td>\n",
              "      <td>0.0</td>\n",
              "      <td>6</td>\n",
              "      <td>6</td>\n",
              "      <td>9</td>\n",
              "      <td>1</td>\n",
              "      <td>0</td>\n",
              "      <td>14</td>\n",
              "      <td>0.0</td>\n",
              "      <td>1</td>\n",
              "      <td>1</td>\n",
              "      <td>2</td>\n",
              "      <td>0.258199</td>\n",
              "      <td>0.377964</td>\n",
              "      <td>0.636163</td>\n",
              "      <td>0.097590</td>\n",
              "      <td>0.894362</td>\n",
              "      <td>1.014128</td>\n",
              "      <td>6.557971e-07</td>\n",
              "      <td>0.000002</td>\n",
              "      <td>0.000754</td>\n",
              "      <td>0.000786</td>\n",
              "      <td>3.243237e-16</td>\n",
              "      <td>1.745627e-16</td>\n",
              "      <td>2.969838e-15</td>\n",
              "      <td>9.269213e-14</td>\n",
              "      <td>84</td>\n",
              "      <td>54</td>\n",
              "    </tr>\n",
              "    <tr>\n",
              "      <th>1</th>\n",
              "      <td>483294</td>\n",
              "      <td>1255532</td>\n",
              "      <td>1</td>\n",
              "      <td>0</td>\n",
              "      <td>0.0</td>\n",
              "      <td>0.000000</td>\n",
              "      <td>0.0</td>\n",
              "      <td>2</td>\n",
              "      <td>1</td>\n",
              "      <td>19</td>\n",
              "      <td>0</td>\n",
              "      <td>0</td>\n",
              "      <td>17</td>\n",
              "      <td>0.0</td>\n",
              "      <td>1</td>\n",
              "      <td>1</td>\n",
              "      <td>7</td>\n",
              "      <td>0.235702</td>\n",
              "      <td>0.707107</td>\n",
              "      <td>0.942809</td>\n",
              "      <td>0.166667</td>\n",
              "      <td>1.178511</td>\n",
              "      <td>1.649916</td>\n",
              "      <td>2.172064e-07</td>\n",
              "      <td>0.000001</td>\n",
              "      <td>0.000739</td>\n",
              "      <td>0.000801</td>\n",
              "      <td>1.702625e-19</td>\n",
              "      <td>2.706300e-15</td>\n",
              "      <td>2.522357e-16</td>\n",
              "      <td>5.277458e-15</td>\n",
              "      <td>34</td>\n",
              "      <td>19</td>\n",
              "    </tr>\n",
              "  </tbody>\n",
              "</table>\n",
              "</div>"
            ],
            "text/plain": [
              "   source_node  ...  prefer_Attach_followees\n",
              "0       848424  ...                       54\n",
              "1       483294  ...                       19\n",
              "\n",
              "[2 rows x 33 columns]"
            ]
          },
          "metadata": {
            "tags": []
          },
          "execution_count": 92
        }
      ]
    },
    {
      "cell_type": "markdown",
      "metadata": {
        "id": "p6xkDfD-VFIb",
        "colab_type": "text"
      },
      "source": [
        "## 5.5 Adding new set of features\n",
        "\n",
        "__we will create these each of these features for both train and test data points__\n",
        "<ol>\n",
        "<li>SVD features for both source and destination</li>\n",
        "</ol>"
      ]
    },
    {
      "cell_type": "code",
      "metadata": {
        "id": "WQO6E65eVFIc",
        "colab_type": "code",
        "colab": {}
      },
      "source": [
        "def svd(x, S):\n",
        "    try:\n",
        "        z = sadj_dict[x]\n",
        "        return S[z]\n",
        "    except:\n",
        "        return [0,0,0,0,0,0]"
      ],
      "execution_count": 0,
      "outputs": []
    },
    {
      "cell_type": "code",
      "metadata": {
        "id": "9sOyLwvNVFId",
        "colab_type": "code",
        "colab": {}
      },
      "source": [
        "#for svd features to get feature vector creating a dict node val and inedx in svd vector\n",
        "sadj_col = sorted(train_graph.nodes())\n",
        "sadj_dict = { val:idx for idx,val in enumerate(sadj_col)}"
      ],
      "execution_count": 0,
      "outputs": []
    },
    {
      "cell_type": "code",
      "metadata": {
        "id": "zLSt8fGVVFIg",
        "colab_type": "code",
        "colab": {}
      },
      "source": [
        "Adj = nx.adjacency_matrix(train_graph,nodelist=sorted(train_graph.nodes())).asfptype()"
      ],
      "execution_count": 0,
      "outputs": []
    },
    {
      "cell_type": "code",
      "metadata": {
        "id": "soq-VAHlVFIh",
        "colab_type": "code",
        "outputId": "900f8456-d5dc-4b5e-e23a-377c4bbb8a6b",
        "colab": {
          "base_uri": "https://localhost:8080/",
          "height": 83
        }
      },
      "source": [
        "U, s, V = svds(Adj, k = 6)\n",
        "print('Adjacency matrix Shape',Adj.shape)\n",
        "print('U Shape',U.shape)\n",
        "print('V Shape',V.shape)\n",
        "print('s Shape',s.shape)"
      ],
      "execution_count": 96,
      "outputs": [
        {
          "output_type": "stream",
          "text": [
            "Adjacency matrix Shape (1780722, 1780722)\n",
            "U Shape (1780722, 6)\n",
            "V Shape (6, 1780722)\n",
            "s Shape (6,)\n"
          ],
          "name": "stdout"
        }
      ]
    },
    {
      "cell_type": "code",
      "metadata": {
        "id": "ls5fqLFhVFIm",
        "colab_type": "code",
        "colab": {}
      },
      "source": [
        "if not os.path.isfile('./My Drive/Facebook1/data/fea_sample/storage_sample_stage4.h5'):\n",
        "    #===================================================================================================\n",
        "    \n",
        "    df_final_train[['svd_u_s_1', 'svd_u_s_2','svd_u_s_3', 'svd_u_s_4', 'svd_u_s_5', 'svd_u_s_6']] = \\\n",
        "    df_final_train.source_node.apply(lambda x: svd(x, U)).apply(pd.Series)\n",
        "    \n",
        "    df_final_train[['svd_u_d_1', 'svd_u_d_2', 'svd_u_d_3', 'svd_u_d_4', 'svd_u_d_5','svd_u_d_6']] = \\\n",
        "    df_final_train.destination_node.apply(lambda x: svd(x, U)).apply(pd.Series)\n",
        "    #===================================================================================================\n",
        "    \n",
        "    df_final_train[['svd_v_s_1','svd_v_s_2', 'svd_v_s_3', 'svd_v_s_4', 'svd_v_s_5', 'svd_v_s_6',]] = \\\n",
        "    df_final_train.source_node.apply(lambda x: svd(x, V.T)).apply(pd.Series)\n",
        "\n",
        "    df_final_train[['svd_v_d_1', 'svd_v_d_2', 'svd_v_d_3', 'svd_v_d_4', 'svd_v_d_5','svd_v_d_6']] = \\\n",
        "    df_final_train.destination_node.apply(lambda x: svd(x, V.T)).apply(pd.Series)\n",
        "    #===================================================================================================\n",
        "    \n",
        "    df_final_test[['svd_u_s_1', 'svd_u_s_2','svd_u_s_3', 'svd_u_s_4', 'svd_u_s_5', 'svd_u_s_6']] = \\\n",
        "    df_final_test.source_node.apply(lambda x: svd(x, U)).apply(pd.Series)\n",
        "    \n",
        "    df_final_test[['svd_u_d_1', 'svd_u_d_2', 'svd_u_d_3', 'svd_u_d_4', 'svd_u_d_5','svd_u_d_6']] = \\\n",
        "    df_final_test.destination_node.apply(lambda x: svd(x, U)).apply(pd.Series)\n",
        "\n",
        "    #===================================================================================================\n",
        "    \n",
        "    df_final_test[['svd_v_s_1','svd_v_s_2', 'svd_v_s_3', 'svd_v_s_4', 'svd_v_s_5', 'svd_v_s_6',]] = \\\n",
        "    df_final_test.source_node.apply(lambda x: svd(x, V.T)).apply(pd.Series)\n",
        "\n",
        "    df_final_test[['svd_v_d_1', 'svd_v_d_2', 'svd_v_d_3', 'svd_v_d_4', 'svd_v_d_5','svd_v_d_6']] = \\\n",
        "    df_final_test.destination_node.apply(lambda x: svd(x, V.T)).apply(pd.Series)\n",
        "    #===================================================================================================\n",
        "\n",
        "    hdf = HDFStore('./My Drive/Facebook1/data/fea_sample/storage_sample_stage4.h5')\n",
        "    hdf.put('train_df',df_final_train, format='table', data_columns=True)\n",
        "    hdf.put('test_df',df_final_test, format='table', data_columns=True)\n",
        "    hdf.close()"
      ],
      "execution_count": 0,
      "outputs": []
    },
    {
      "cell_type": "code",
      "metadata": {
        "id": "5iExs_1lz-P1",
        "colab_type": "code",
        "outputId": "19c6dc03-054d-4da0-eb49-c4338d6b29f8",
        "colab": {
          "base_uri": "https://localhost:8080/",
          "height": 161
        }
      },
      "source": [
        "df_final_train.head(2)"
      ],
      "execution_count": 102,
      "outputs": [
        {
          "output_type": "execute_result",
          "data": {
            "text/html": [
              "<div>\n",
              "<style scoped>\n",
              "    .dataframe tbody tr th:only-of-type {\n",
              "        vertical-align: middle;\n",
              "    }\n",
              "\n",
              "    .dataframe tbody tr th {\n",
              "        vertical-align: top;\n",
              "    }\n",
              "\n",
              "    .dataframe thead th {\n",
              "        text-align: right;\n",
              "    }\n",
              "</style>\n",
              "<table border=\"1\" class=\"dataframe\">\n",
              "  <thead>\n",
              "    <tr style=\"text-align: right;\">\n",
              "      <th></th>\n",
              "      <th>source_node</th>\n",
              "      <th>destination_node</th>\n",
              "      <th>indicator_link</th>\n",
              "      <th>jaccard_followers</th>\n",
              "      <th>jaccard_followees</th>\n",
              "      <th>cosine_followers</th>\n",
              "      <th>cosine_followees</th>\n",
              "      <th>num_followers_s</th>\n",
              "      <th>num_followees_s</th>\n",
              "      <th>num_followees_d</th>\n",
              "      <th>inter_followers</th>\n",
              "      <th>inter_followees</th>\n",
              "      <th>num_followers_d</th>\n",
              "      <th>adar_index</th>\n",
              "      <th>follows_back</th>\n",
              "      <th>same_comp</th>\n",
              "      <th>shortest_path</th>\n",
              "      <th>weight_in</th>\n",
              "      <th>weight_out</th>\n",
              "      <th>weight_f1</th>\n",
              "      <th>weight_f2</th>\n",
              "      <th>weight_f3</th>\n",
              "      <th>weight_f4</th>\n",
              "      <th>page_rank_s</th>\n",
              "      <th>page_rank_d</th>\n",
              "      <th>katz_s</th>\n",
              "      <th>katz_d</th>\n",
              "      <th>hubs_s</th>\n",
              "      <th>hubs_d</th>\n",
              "      <th>authorities_s</th>\n",
              "      <th>authorities_d</th>\n",
              "      <th>prefer_Attach_followers</th>\n",
              "      <th>prefer_Attach_followees</th>\n",
              "      <th>svd_u_s_1</th>\n",
              "      <th>svd_u_s_2</th>\n",
              "      <th>svd_u_s_3</th>\n",
              "      <th>svd_u_s_4</th>\n",
              "      <th>svd_u_s_5</th>\n",
              "      <th>svd_u_s_6</th>\n",
              "      <th>svd_u_d_1</th>\n",
              "      <th>svd_u_d_2</th>\n",
              "      <th>svd_u_d_3</th>\n",
              "      <th>svd_u_d_4</th>\n",
              "      <th>svd_u_d_5</th>\n",
              "      <th>svd_u_d_6</th>\n",
              "      <th>svd_v_s_1</th>\n",
              "      <th>svd_v_s_2</th>\n",
              "      <th>svd_v_s_3</th>\n",
              "      <th>svd_v_s_4</th>\n",
              "      <th>svd_v_s_5</th>\n",
              "      <th>svd_v_s_6</th>\n",
              "      <th>svd_v_d_1</th>\n",
              "      <th>svd_v_d_2</th>\n",
              "      <th>svd_v_d_3</th>\n",
              "      <th>svd_v_d_4</th>\n",
              "      <th>svd_v_d_5</th>\n",
              "      <th>svd_v_d_6</th>\n",
              "    </tr>\n",
              "  </thead>\n",
              "  <tbody>\n",
              "    <tr>\n",
              "      <th>0</th>\n",
              "      <td>273084</td>\n",
              "      <td>1505602</td>\n",
              "      <td>1</td>\n",
              "      <td>0</td>\n",
              "      <td>0.000000</td>\n",
              "      <td>0.000000</td>\n",
              "      <td>0.000000</td>\n",
              "      <td>11</td>\n",
              "      <td>15</td>\n",
              "      <td>8</td>\n",
              "      <td>0</td>\n",
              "      <td>0</td>\n",
              "      <td>6</td>\n",
              "      <td>0.000000</td>\n",
              "      <td>0</td>\n",
              "      <td>1</td>\n",
              "      <td>4</td>\n",
              "      <td>0.377964</td>\n",
              "      <td>0.250</td>\n",
              "      <td>0.627964</td>\n",
              "      <td>0.094491</td>\n",
              "      <td>1.005929</td>\n",
              "      <td>0.877964</td>\n",
              "      <td>2.045290e-06</td>\n",
              "      <td>3.459963e-07</td>\n",
              "      <td>0.000773</td>\n",
              "      <td>0.000756</td>\n",
              "      <td>1.943132e-13</td>\n",
              "      <td>1.941103e-13</td>\n",
              "      <td>9.226339e-16</td>\n",
              "      <td>2.231877e-15</td>\n",
              "      <td>66</td>\n",
              "      <td>120</td>\n",
              "      <td>-1.666333e-13</td>\n",
              "      <td>4.613822e-13</td>\n",
              "      <td>1.043041e-05</td>\n",
              "      <td>6.678030e-13</td>\n",
              "      <td>2.451106e-13</td>\n",
              "      <td>3.584945e-12</td>\n",
              "      <td>-2.038018e-11</td>\n",
              "      <td>5.397914e-13</td>\n",
              "      <td>1.068943e-06</td>\n",
              "      <td>1.192461e-12</td>\n",
              "      <td>2.279488e-12</td>\n",
              "      <td>3.581202e-12</td>\n",
              "      <td>-7.216151e-13</td>\n",
              "      <td>3.926264e-13</td>\n",
              "      <td>1.983700e-06</td>\n",
              "      <td>1.545089e-13</td>\n",
              "      <td>8.108438e-13</td>\n",
              "      <td>1.719704e-14</td>\n",
              "      <td>-1.355369e-12</td>\n",
              "      <td>4.675320e-13</td>\n",
              "      <td>1.128586e-06</td>\n",
              "      <td>6.616714e-14</td>\n",
              "      <td>9.771079e-13</td>\n",
              "      <td>4.160012e-14</td>\n",
              "    </tr>\n",
              "    <tr>\n",
              "      <th>1</th>\n",
              "      <td>832016</td>\n",
              "      <td>1543415</td>\n",
              "      <td>1</td>\n",
              "      <td>0</td>\n",
              "      <td>0.187135</td>\n",
              "      <td>0.028382</td>\n",
              "      <td>0.343828</td>\n",
              "      <td>17</td>\n",
              "      <td>61</td>\n",
              "      <td>142</td>\n",
              "      <td>11</td>\n",
              "      <td>32</td>\n",
              "      <td>94</td>\n",
              "      <td>16.362912</td>\n",
              "      <td>0</td>\n",
              "      <td>1</td>\n",
              "      <td>2</td>\n",
              "      <td>0.102598</td>\n",
              "      <td>0.127</td>\n",
              "      <td>0.229598</td>\n",
              "      <td>0.013030</td>\n",
              "      <td>0.332196</td>\n",
              "      <td>0.356598</td>\n",
              "      <td>2.353458e-07</td>\n",
              "      <td>6.427660e-07</td>\n",
              "      <td>0.000845</td>\n",
              "      <td>0.001317</td>\n",
              "      <td>3.906648e-11</td>\n",
              "      <td>9.424102e-11</td>\n",
              "      <td>1.208074e-11</td>\n",
              "      <td>1.273080e-10</td>\n",
              "      <td>1598</td>\n",
              "      <td>8662</td>\n",
              "      <td>7.050643e-13</td>\n",
              "      <td>-8.250578e-11</td>\n",
              "      <td>-1.717841e-10</td>\n",
              "      <td>3.705016e-02</td>\n",
              "      <td>1.032400e-11</td>\n",
              "      <td>7.207497e-10</td>\n",
              "      <td>1.644308e-12</td>\n",
              "      <td>-2.047756e-10</td>\n",
              "      <td>-3.944258e-10</td>\n",
              "      <td>8.617541e-02</td>\n",
              "      <td>2.399561e-11</td>\n",
              "      <td>1.738682e-09</td>\n",
              "      <td>2.685718e-13</td>\n",
              "      <td>-3.316855e-11</td>\n",
              "      <td>-6.236551e-11</td>\n",
              "      <td>1.345726e-02</td>\n",
              "      <td>3.703503e-12</td>\n",
              "      <td>2.251737e-10</td>\n",
              "      <td>1.245011e-12</td>\n",
              "      <td>-1.636950e-10</td>\n",
              "      <td>-3.112902e-10</td>\n",
              "      <td>6.738902e-02</td>\n",
              "      <td>2.607853e-11</td>\n",
              "      <td>2.372904e-09</td>\n",
              "    </tr>\n",
              "  </tbody>\n",
              "</table>\n",
              "</div>"
            ],
            "text/plain": [
              "   source_node  destination_node  ...     svd_v_d_5     svd_v_d_6\n",
              "0       273084           1505602  ...  9.771079e-13  4.160012e-14\n",
              "1       832016           1543415  ...  2.607853e-11  2.372904e-09\n",
              "\n",
              "[2 rows x 57 columns]"
            ]
          },
          "metadata": {
            "tags": []
          },
          "execution_count": 102
        }
      ]
    },
    {
      "cell_type": "code",
      "metadata": {
        "id": "3pXPn8Og-GmM",
        "colab_type": "code",
        "colab": {}
      },
      "source": [
        "#for train datasets\n",
        "s1,s2,s3,s4,s5,s6=df_final_train['svd_u_s_1'],df_final_train['svd_u_s_2'],df_final_train['svd_u_s_3'],df_final_train['svd_u_s_4'],df_final_train['svd_u_s_5'],df_final_train['svd_u_s_6']\n",
        "s7,s8,s9,s10,s11,s12=df_final_train['svd_v_s_1'],df_final_train['svd_v_s_2'],df_final_train['svd_v_s_3'],df_final_train['svd_v_s_4'],df_final_train['svd_v_s_5'],df_final_train['svd_v_s_6']\n",
        "\n",
        "d1,d2,d3,d4,d5,d6=df_final_train['svd_u_d_1'],df_final_train['svd_u_d_2'],df_final_train['svd_u_d_3'],df_final_train['svd_u_d_4'],df_final_train['svd_u_d_5'],df_final_train['svd_u_d_6']\n",
        "d7,d8,d9,d10,d11,d12=df_final_train['svd_v_d_1'],df_final_train['svd_v_d_2'],df_final_train['svd_v_d_3'],df_final_train['svd_v_d_4'],df_final_train['svd_v_d_5'],df_final_train['svd_v_d_6']"
      ],
      "execution_count": 0,
      "outputs": []
    },
    {
      "cell_type": "code",
      "metadata": {
        "id": "8f8UhTDr-ILG",
        "colab_type": "code",
        "colab": {}
      },
      "source": [
        "svd_dot_u=[]\n",
        "svd_dot_v=[]\n",
        "for i in range(len(np.array(s1))):\n",
        "    a=[]\n",
        "    b=[]\n",
        "    c=[]\n",
        "    d=[]\n",
        "    a.append(np.array(s1[i]))\n",
        "    a.append(np.array(s2[i]))\n",
        "    a.append(np.array(s3[i]))\n",
        "    a.append(np.array(s4[i]))\n",
        "    a.append(np.array(s5[i]))\n",
        "    a.append(np.array(s6[i]))\n",
        "    c.append(np.array(s7[i]))\n",
        "    c.append(np.array(s8[i]))\n",
        "    c.append(np.array(s9[i]))\n",
        "    c.append(np.array(s10[i]))\n",
        "    c.append(np.array(s11[i]))\n",
        "    c.append(np.array(s12[i]))\n",
        "    b.append(np.array(d1[i]))\n",
        "    b.append(np.array(d2[i]))\n",
        "    b.append(np.array(d3[i]))\n",
        "    b.append(np.array(d4[i]))\n",
        "    b.append(np.array(d5[i]))\n",
        "    b.append(np.array(d6[i]))\n",
        "    d.append(np.array(d7[i]))\n",
        "    d.append(np.array(d8[i]))\n",
        "    d.append(np.array(d9[i]))\n",
        "    d.append(np.array(d10[i]))\n",
        "    d.append(np.array(d11[i]))\n",
        "    d.append(np.array(d12[i]))\n",
        "    svd_dot_u.append(np.dot(a,b))\n",
        "    svd_dot_v.append(np.dot(c,d))\n",
        "df_final_train['svd_dot_u']=svd_dot_u\n",
        "df_final_train['svd_dot_v']=svd_dot_v"
      ],
      "execution_count": 0,
      "outputs": []
    },
    {
      "cell_type": "code",
      "metadata": {
        "id": "bcg-gwn09g-P",
        "colab_type": "code",
        "colab": {
          "base_uri": "https://localhost:8080/",
          "height": 161
        },
        "outputId": "99582a47-fa47-4021-d393-798ccd90ef28"
      },
      "source": [
        "df_final_train.head(2)"
      ],
      "execution_count": 105,
      "outputs": [
        {
          "output_type": "execute_result",
          "data": {
            "text/html": [
              "<div>\n",
              "<style scoped>\n",
              "    .dataframe tbody tr th:only-of-type {\n",
              "        vertical-align: middle;\n",
              "    }\n",
              "\n",
              "    .dataframe tbody tr th {\n",
              "        vertical-align: top;\n",
              "    }\n",
              "\n",
              "    .dataframe thead th {\n",
              "        text-align: right;\n",
              "    }\n",
              "</style>\n",
              "<table border=\"1\" class=\"dataframe\">\n",
              "  <thead>\n",
              "    <tr style=\"text-align: right;\">\n",
              "      <th></th>\n",
              "      <th>source_node</th>\n",
              "      <th>destination_node</th>\n",
              "      <th>indicator_link</th>\n",
              "      <th>jaccard_followers</th>\n",
              "      <th>jaccard_followees</th>\n",
              "      <th>cosine_followers</th>\n",
              "      <th>cosine_followees</th>\n",
              "      <th>num_followers_s</th>\n",
              "      <th>num_followees_s</th>\n",
              "      <th>num_followees_d</th>\n",
              "      <th>inter_followers</th>\n",
              "      <th>inter_followees</th>\n",
              "      <th>num_followers_d</th>\n",
              "      <th>adar_index</th>\n",
              "      <th>follows_back</th>\n",
              "      <th>same_comp</th>\n",
              "      <th>shortest_path</th>\n",
              "      <th>weight_in</th>\n",
              "      <th>weight_out</th>\n",
              "      <th>weight_f1</th>\n",
              "      <th>weight_f2</th>\n",
              "      <th>weight_f3</th>\n",
              "      <th>weight_f4</th>\n",
              "      <th>page_rank_s</th>\n",
              "      <th>page_rank_d</th>\n",
              "      <th>katz_s</th>\n",
              "      <th>katz_d</th>\n",
              "      <th>hubs_s</th>\n",
              "      <th>hubs_d</th>\n",
              "      <th>authorities_s</th>\n",
              "      <th>authorities_d</th>\n",
              "      <th>prefer_Attach_followers</th>\n",
              "      <th>prefer_Attach_followees</th>\n",
              "      <th>svd_u_s_1</th>\n",
              "      <th>svd_u_s_2</th>\n",
              "      <th>svd_u_s_3</th>\n",
              "      <th>svd_u_s_4</th>\n",
              "      <th>svd_u_s_5</th>\n",
              "      <th>svd_u_s_6</th>\n",
              "      <th>svd_u_d_1</th>\n",
              "      <th>svd_u_d_2</th>\n",
              "      <th>svd_u_d_3</th>\n",
              "      <th>svd_u_d_4</th>\n",
              "      <th>svd_u_d_5</th>\n",
              "      <th>svd_u_d_6</th>\n",
              "      <th>svd_v_s_1</th>\n",
              "      <th>svd_v_s_2</th>\n",
              "      <th>svd_v_s_3</th>\n",
              "      <th>svd_v_s_4</th>\n",
              "      <th>svd_v_s_5</th>\n",
              "      <th>svd_v_s_6</th>\n",
              "      <th>svd_v_d_1</th>\n",
              "      <th>svd_v_d_2</th>\n",
              "      <th>svd_v_d_3</th>\n",
              "      <th>svd_v_d_4</th>\n",
              "      <th>svd_v_d_5</th>\n",
              "      <th>svd_v_d_6</th>\n",
              "      <th>svd_dot_u</th>\n",
              "      <th>svd_dot_v</th>\n",
              "    </tr>\n",
              "  </thead>\n",
              "  <tbody>\n",
              "    <tr>\n",
              "      <th>0</th>\n",
              "      <td>273084</td>\n",
              "      <td>1505602</td>\n",
              "      <td>1</td>\n",
              "      <td>0</td>\n",
              "      <td>0.000000</td>\n",
              "      <td>0.000000</td>\n",
              "      <td>0.000000</td>\n",
              "      <td>11</td>\n",
              "      <td>15</td>\n",
              "      <td>8</td>\n",
              "      <td>0</td>\n",
              "      <td>0</td>\n",
              "      <td>6</td>\n",
              "      <td>0.000000</td>\n",
              "      <td>0</td>\n",
              "      <td>1</td>\n",
              "      <td>4</td>\n",
              "      <td>0.377964</td>\n",
              "      <td>0.250</td>\n",
              "      <td>0.627964</td>\n",
              "      <td>0.094491</td>\n",
              "      <td>1.005929</td>\n",
              "      <td>0.877964</td>\n",
              "      <td>2.045290e-06</td>\n",
              "      <td>3.459963e-07</td>\n",
              "      <td>0.000773</td>\n",
              "      <td>0.000756</td>\n",
              "      <td>1.943132e-13</td>\n",
              "      <td>1.941103e-13</td>\n",
              "      <td>9.226339e-16</td>\n",
              "      <td>2.231877e-15</td>\n",
              "      <td>66</td>\n",
              "      <td>120</td>\n",
              "      <td>-1.666333e-13</td>\n",
              "      <td>4.613822e-13</td>\n",
              "      <td>1.043041e-05</td>\n",
              "      <td>6.678030e-13</td>\n",
              "      <td>2.451106e-13</td>\n",
              "      <td>3.584945e-12</td>\n",
              "      <td>-2.038018e-11</td>\n",
              "      <td>5.397914e-13</td>\n",
              "      <td>1.068943e-06</td>\n",
              "      <td>1.192461e-12</td>\n",
              "      <td>2.279488e-12</td>\n",
              "      <td>3.581202e-12</td>\n",
              "      <td>-7.216151e-13</td>\n",
              "      <td>3.926264e-13</td>\n",
              "      <td>1.983700e-06</td>\n",
              "      <td>1.545089e-13</td>\n",
              "      <td>8.108438e-13</td>\n",
              "      <td>1.719704e-14</td>\n",
              "      <td>-1.355369e-12</td>\n",
              "      <td>4.675320e-13</td>\n",
              "      <td>1.128586e-06</td>\n",
              "      <td>6.616714e-14</td>\n",
              "      <td>9.771079e-13</td>\n",
              "      <td>4.160012e-14</td>\n",
              "      <td>1.114951e-11</td>\n",
              "      <td>2.238777e-12</td>\n",
              "    </tr>\n",
              "    <tr>\n",
              "      <th>1</th>\n",
              "      <td>832016</td>\n",
              "      <td>1543415</td>\n",
              "      <td>1</td>\n",
              "      <td>0</td>\n",
              "      <td>0.187135</td>\n",
              "      <td>0.028382</td>\n",
              "      <td>0.343828</td>\n",
              "      <td>17</td>\n",
              "      <td>61</td>\n",
              "      <td>142</td>\n",
              "      <td>11</td>\n",
              "      <td>32</td>\n",
              "      <td>94</td>\n",
              "      <td>16.362912</td>\n",
              "      <td>0</td>\n",
              "      <td>1</td>\n",
              "      <td>2</td>\n",
              "      <td>0.102598</td>\n",
              "      <td>0.127</td>\n",
              "      <td>0.229598</td>\n",
              "      <td>0.013030</td>\n",
              "      <td>0.332196</td>\n",
              "      <td>0.356598</td>\n",
              "      <td>2.353458e-07</td>\n",
              "      <td>6.427660e-07</td>\n",
              "      <td>0.000845</td>\n",
              "      <td>0.001317</td>\n",
              "      <td>3.906648e-11</td>\n",
              "      <td>9.424102e-11</td>\n",
              "      <td>1.208074e-11</td>\n",
              "      <td>1.273080e-10</td>\n",
              "      <td>1598</td>\n",
              "      <td>8662</td>\n",
              "      <td>7.050643e-13</td>\n",
              "      <td>-8.250578e-11</td>\n",
              "      <td>-1.717841e-10</td>\n",
              "      <td>3.705016e-02</td>\n",
              "      <td>1.032400e-11</td>\n",
              "      <td>7.207497e-10</td>\n",
              "      <td>1.644308e-12</td>\n",
              "      <td>-2.047756e-10</td>\n",
              "      <td>-3.944258e-10</td>\n",
              "      <td>8.617541e-02</td>\n",
              "      <td>2.399561e-11</td>\n",
              "      <td>1.738682e-09</td>\n",
              "      <td>2.685718e-13</td>\n",
              "      <td>-3.316855e-11</td>\n",
              "      <td>-6.236551e-11</td>\n",
              "      <td>1.345726e-02</td>\n",
              "      <td>3.703503e-12</td>\n",
              "      <td>2.251737e-10</td>\n",
              "      <td>1.245011e-12</td>\n",
              "      <td>-1.636950e-10</td>\n",
              "      <td>-3.112902e-10</td>\n",
              "      <td>6.738902e-02</td>\n",
              "      <td>2.607853e-11</td>\n",
              "      <td>2.372904e-09</td>\n",
              "      <td>3.192812e-03</td>\n",
              "      <td>9.068719e-04</td>\n",
              "    </tr>\n",
              "  </tbody>\n",
              "</table>\n",
              "</div>"
            ],
            "text/plain": [
              "   source_node  destination_node  ...     svd_dot_u     svd_dot_v\n",
              "0       273084           1505602  ...  1.114951e-11  2.238777e-12\n",
              "1       832016           1543415  ...  3.192812e-03  9.068719e-04\n",
              "\n",
              "[2 rows x 59 columns]"
            ]
          },
          "metadata": {
            "tags": []
          },
          "execution_count": 105
        }
      ]
    },
    {
      "cell_type": "code",
      "metadata": {
        "id": "9nV2fETQ9K3T",
        "colab_type": "code",
        "colab": {}
      },
      "source": [
        "#for test dataset\n",
        "s1,s2,s3,s4,s5,s6=df_final_test['svd_u_s_1'],df_final_test['svd_u_s_2'],df_final_test['svd_u_s_3'],df_final_test['svd_u_s_4'],df_final_test['svd_u_s_5'],df_final_test['svd_u_s_6']\n",
        "s7,s8,s9,s10,s11,s12=df_final_test['svd_v_s_1'],df_final_test['svd_v_s_2'],df_final_test['svd_v_s_3'],df_final_test['svd_v_s_4'],df_final_test['svd_v_s_5'],df_final_test['svd_v_s_6']\n",
        "\n",
        "d1,d2,d3,d4,d5,d6=df_final_test['svd_u_d_1'],df_final_test['svd_u_d_2'],df_final_test['svd_u_d_3'],df_final_test['svd_u_d_4'],df_final_test['svd_u_d_5'],df_final_test['svd_u_d_6']\n",
        "d7,d8,d9,d10,d11,d12=df_final_test['svd_v_d_1'],df_final_test['svd_v_d_2'],df_final_test['svd_v_d_3'],df_final_test['svd_v_d_4'],df_final_test['svd_v_d_5'],df_final_test['svd_v_d_6']"
      ],
      "execution_count": 0,
      "outputs": []
    },
    {
      "cell_type": "code",
      "metadata": {
        "id": "0-hBtlkzVFIn",
        "colab_type": "code",
        "colab": {}
      },
      "source": [
        "svd_dot_u=[]\n",
        "svd_dot_v=[]\n",
        "for i in range(len(np.array(s1))):\n",
        "    a=[]\n",
        "    b=[]\n",
        "    c=[]\n",
        "    d=[]\n",
        "    a.append(np.array(s1[i]))\n",
        "    a.append(np.array(s2[i]))\n",
        "    a.append(np.array(s3[i]))\n",
        "    a.append(np.array(s4[i]))\n",
        "    a.append(np.array(s5[i]))\n",
        "    a.append(np.array(s6[i]))\n",
        "    c.append(np.array(s7[i]))\n",
        "    c.append(np.array(s8[i]))\n",
        "    c.append(np.array(s9[i]))\n",
        "    c.append(np.array(s10[i]))\n",
        "    c.append(np.array(s11[i]))\n",
        "    c.append(np.array(s12[i]))\n",
        "    b.append(np.array(d1[i]))\n",
        "    b.append(np.array(d2[i]))\n",
        "    b.append(np.array(d3[i]))\n",
        "    b.append(np.array(d4[i]))\n",
        "    b.append(np.array(d5[i]))\n",
        "    b.append(np.array(d6[i]))\n",
        "    d.append(np.array(d7[i]))\n",
        "    d.append(np.array(d8[i]))\n",
        "    d.append(np.array(d9[i]))\n",
        "    d.append(np.array(d10[i]))\n",
        "    d.append(np.array(d11[i]))\n",
        "    d.append(np.array(d12[i]))\n",
        "    svd_dot_u.append(np.dot(a,b))\n",
        "    svd_dot_v.append(np.dot(c,d))\n",
        "df_final_test['svd_dot_u']=svd_dot_u\n",
        "df_final_test['svd_dot_v']=svd_dot_v"
      ],
      "execution_count": 0,
      "outputs": []
    },
    {
      "cell_type": "code",
      "metadata": {
        "id": "0gj7V7Qz-qwB",
        "colab_type": "code",
        "colab": {
          "base_uri": "https://localhost:8080/",
          "height": 161
        },
        "outputId": "f44670f6-7f3b-4d7a-81ea-123753c10a74"
      },
      "source": [
        "df_final_test.head(2)"
      ],
      "execution_count": 108,
      "outputs": [
        {
          "output_type": "execute_result",
          "data": {
            "text/html": [
              "<div>\n",
              "<style scoped>\n",
              "    .dataframe tbody tr th:only-of-type {\n",
              "        vertical-align: middle;\n",
              "    }\n",
              "\n",
              "    .dataframe tbody tr th {\n",
              "        vertical-align: top;\n",
              "    }\n",
              "\n",
              "    .dataframe thead th {\n",
              "        text-align: right;\n",
              "    }\n",
              "</style>\n",
              "<table border=\"1\" class=\"dataframe\">\n",
              "  <thead>\n",
              "    <tr style=\"text-align: right;\">\n",
              "      <th></th>\n",
              "      <th>source_node</th>\n",
              "      <th>destination_node</th>\n",
              "      <th>indicator_link</th>\n",
              "      <th>jaccard_followers</th>\n",
              "      <th>jaccard_followees</th>\n",
              "      <th>cosine_followers</th>\n",
              "      <th>cosine_followees</th>\n",
              "      <th>num_followers_s</th>\n",
              "      <th>num_followees_s</th>\n",
              "      <th>num_followees_d</th>\n",
              "      <th>inter_followers</th>\n",
              "      <th>inter_followees</th>\n",
              "      <th>num_followers_d</th>\n",
              "      <th>adar_index</th>\n",
              "      <th>follows_back</th>\n",
              "      <th>same_comp</th>\n",
              "      <th>shortest_path</th>\n",
              "      <th>weight_in</th>\n",
              "      <th>weight_out</th>\n",
              "      <th>weight_f1</th>\n",
              "      <th>weight_f2</th>\n",
              "      <th>weight_f3</th>\n",
              "      <th>weight_f4</th>\n",
              "      <th>page_rank_s</th>\n",
              "      <th>page_rank_d</th>\n",
              "      <th>katz_s</th>\n",
              "      <th>katz_d</th>\n",
              "      <th>hubs_s</th>\n",
              "      <th>hubs_d</th>\n",
              "      <th>authorities_s</th>\n",
              "      <th>authorities_d</th>\n",
              "      <th>prefer_Attach_followers</th>\n",
              "      <th>prefer_Attach_followees</th>\n",
              "      <th>svd_u_s_1</th>\n",
              "      <th>svd_u_s_2</th>\n",
              "      <th>svd_u_s_3</th>\n",
              "      <th>svd_u_s_4</th>\n",
              "      <th>svd_u_s_5</th>\n",
              "      <th>svd_u_s_6</th>\n",
              "      <th>svd_u_d_1</th>\n",
              "      <th>svd_u_d_2</th>\n",
              "      <th>svd_u_d_3</th>\n",
              "      <th>svd_u_d_4</th>\n",
              "      <th>svd_u_d_5</th>\n",
              "      <th>svd_u_d_6</th>\n",
              "      <th>svd_v_s_1</th>\n",
              "      <th>svd_v_s_2</th>\n",
              "      <th>svd_v_s_3</th>\n",
              "      <th>svd_v_s_4</th>\n",
              "      <th>svd_v_s_5</th>\n",
              "      <th>svd_v_s_6</th>\n",
              "      <th>svd_v_d_1</th>\n",
              "      <th>svd_v_d_2</th>\n",
              "      <th>svd_v_d_3</th>\n",
              "      <th>svd_v_d_4</th>\n",
              "      <th>svd_v_d_5</th>\n",
              "      <th>svd_v_d_6</th>\n",
              "      <th>svd_dot_u</th>\n",
              "      <th>svd_dot_v</th>\n",
              "    </tr>\n",
              "  </thead>\n",
              "  <tbody>\n",
              "    <tr>\n",
              "      <th>0</th>\n",
              "      <td>848424</td>\n",
              "      <td>784690</td>\n",
              "      <td>1</td>\n",
              "      <td>0</td>\n",
              "      <td>0.0</td>\n",
              "      <td>0.029161</td>\n",
              "      <td>0.0</td>\n",
              "      <td>6</td>\n",
              "      <td>6</td>\n",
              "      <td>9</td>\n",
              "      <td>1</td>\n",
              "      <td>0</td>\n",
              "      <td>14</td>\n",
              "      <td>0.0</td>\n",
              "      <td>1</td>\n",
              "      <td>1</td>\n",
              "      <td>2</td>\n",
              "      <td>0.258199</td>\n",
              "      <td>0.377964</td>\n",
              "      <td>0.636163</td>\n",
              "      <td>0.097590</td>\n",
              "      <td>0.894362</td>\n",
              "      <td>1.014128</td>\n",
              "      <td>6.557971e-07</td>\n",
              "      <td>0.000002</td>\n",
              "      <td>0.000754</td>\n",
              "      <td>0.000786</td>\n",
              "      <td>3.243237e-16</td>\n",
              "      <td>1.745627e-16</td>\n",
              "      <td>2.969838e-15</td>\n",
              "      <td>9.269213e-14</td>\n",
              "      <td>84</td>\n",
              "      <td>54</td>\n",
              "      <td>-9.987980e-12</td>\n",
              "      <td>2.283699e-13</td>\n",
              "      <td>1.439960e-10</td>\n",
              "      <td>6.136174e-13</td>\n",
              "      <td>4.188172e-13</td>\n",
              "      <td>5.983626e-15</td>\n",
              "      <td>-1.026186e-11</td>\n",
              "      <td>5.316647e-13</td>\n",
              "      <td>5.843192e-10</td>\n",
              "      <td>1.166048e-13</td>\n",
              "      <td>2.253356e-11</td>\n",
              "      <td>3.220558e-15</td>\n",
              "      <td>-2.148852e-13</td>\n",
              "      <td>1.883259e-13</td>\n",
              "      <td>5.904813e-11</td>\n",
              "      <td>2.701538e-12</td>\n",
              "      <td>4.341620e-13</td>\n",
              "      <td>5.535504e-14</td>\n",
              "      <td>-9.994077e-10</td>\n",
              "      <td>5.791914e-10</td>\n",
              "      <td>3.512351e-07</td>\n",
              "      <td>2.486660e-09</td>\n",
              "      <td>2.771146e-09</td>\n",
              "      <td>1.727695e-12</td>\n",
              "      <td>8.425175e-20</td>\n",
              "      <td>2.074802e-17</td>\n",
              "    </tr>\n",
              "    <tr>\n",
              "      <th>1</th>\n",
              "      <td>483294</td>\n",
              "      <td>1255532</td>\n",
              "      <td>1</td>\n",
              "      <td>0</td>\n",
              "      <td>0.0</td>\n",
              "      <td>0.000000</td>\n",
              "      <td>0.0</td>\n",
              "      <td>2</td>\n",
              "      <td>1</td>\n",
              "      <td>19</td>\n",
              "      <td>0</td>\n",
              "      <td>0</td>\n",
              "      <td>17</td>\n",
              "      <td>0.0</td>\n",
              "      <td>1</td>\n",
              "      <td>1</td>\n",
              "      <td>7</td>\n",
              "      <td>0.235702</td>\n",
              "      <td>0.707107</td>\n",
              "      <td>0.942809</td>\n",
              "      <td>0.166667</td>\n",
              "      <td>1.178511</td>\n",
              "      <td>1.649916</td>\n",
              "      <td>2.172064e-07</td>\n",
              "      <td>0.000001</td>\n",
              "      <td>0.000739</td>\n",
              "      <td>0.000801</td>\n",
              "      <td>1.702625e-19</td>\n",
              "      <td>2.706300e-15</td>\n",
              "      <td>2.522357e-16</td>\n",
              "      <td>5.277458e-15</td>\n",
              "      <td>34</td>\n",
              "      <td>19</td>\n",
              "      <td>-2.079249e-15</td>\n",
              "      <td>7.010256e-16</td>\n",
              "      <td>6.970671e-10</td>\n",
              "      <td>9.562492e-15</td>\n",
              "      <td>1.728845e-15</td>\n",
              "      <td>3.068318e-18</td>\n",
              "      <td>-1.960465e-11</td>\n",
              "      <td>2.861620e-11</td>\n",
              "      <td>1.939769e-08</td>\n",
              "      <td>1.907404e-12</td>\n",
              "      <td>3.797447e-11</td>\n",
              "      <td>4.992965e-14</td>\n",
              "      <td>-4.054500e-13</td>\n",
              "      <td>2.895772e-13</td>\n",
              "      <td>2.545371e-10</td>\n",
              "      <td>2.248602e-14</td>\n",
              "      <td>3.601010e-13</td>\n",
              "      <td>4.701441e-15</td>\n",
              "      <td>-9.360663e-12</td>\n",
              "      <td>3.206811e-10</td>\n",
              "      <td>4.668669e-08</td>\n",
              "      <td>6.665782e-12</td>\n",
              "      <td>1.495980e-10</td>\n",
              "      <td>9.836692e-14</td>\n",
              "      <td>1.352149e-17</td>\n",
              "      <td>1.188365e-17</td>\n",
              "    </tr>\n",
              "  </tbody>\n",
              "</table>\n",
              "</div>"
            ],
            "text/plain": [
              "   source_node  destination_node  ...     svd_dot_u     svd_dot_v\n",
              "0       848424            784690  ...  8.425175e-20  2.074802e-17\n",
              "1       483294           1255532  ...  1.352149e-17  1.188365e-17\n",
              "\n",
              "[2 rows x 59 columns]"
            ]
          },
          "metadata": {
            "tags": []
          },
          "execution_count": 108
        }
      ]
    },
    {
      "cell_type": "code",
      "metadata": {
        "id": "uh6sA2W1-4T3",
        "colab_type": "code",
        "colab": {}
      },
      "source": [
        "hdf = HDFStore('./My Drive/Facebook1/data/fea_sample/storage_sample_stage5.h5')\n",
        "hdf.put('train_df',df_final_train, format='table', data_columns=True)\n",
        "hdf.put('test_df',df_final_test, format='table', data_columns=True)\n",
        "hdf.close()"
      ],
      "execution_count": 0,
      "outputs": []
    },
    {
      "cell_type": "code",
      "metadata": {
        "id": "OTfOWHQxEwPO",
        "colab_type": "code",
        "colab": {}
      },
      "source": [
        "#Importing Libraries\n",
        "# please do go through this python notebook: \n",
        "import warnings\n",
        "warnings.filterwarnings(\"ignore\")\n",
        "\n",
        "import csv\n",
        "import pandas as pd#pandas to create small dataframes \n",
        "import datetime #Convert to unix time\n",
        "import time #Convert to unix time\n",
        "# if numpy is not installed already : pip3 install numpy\n",
        "import numpy as np#Do aritmetic operations on arrays\n",
        "# matplotlib: used to plot graphs\n",
        "import matplotlib\n",
        "import matplotlib.pylab as plt\n",
        "import seaborn as sns#Plots\n",
        "from matplotlib import rcParams#Size of plots  \n",
        "from sklearn.cluster import MiniBatchKMeans, KMeans#Clustering\n",
        "import math\n",
        "import pickle\n",
        "import os\n",
        "# to install xgboost: pip3 install xgboost\n",
        "import xgboost as xgb\n",
        "\n",
        "import warnings\n",
        "import networkx as nx\n",
        "import pdb\n",
        "import pickle\n",
        "from pandas import HDFStore,DataFrame\n",
        "from pandas import read_hdf\n",
        "from scipy.sparse.linalg import svds, eigs\n",
        "import gc\n",
        "from tqdm import tqdm\n",
        "from sklearn.ensemble import RandomForestClassifier\n",
        "from sklearn.metrics import f1_score"
      ],
      "execution_count": 0,
      "outputs": []
    },
    {
      "cell_type": "code",
      "metadata": {
        "id": "YY6B4E9oIGSe",
        "colab_type": "code",
        "colab": {}
      },
      "source": [
        "#reading\n",
        "from pandas import read_hdf\n",
        "X_train = read_hdf('./My Drive/Facebook1/data/fea_sample/storage_sample_stage5.h5', 'train_df',mode='r')\n",
        "X_test = read_hdf('./My Drive/Facebook1/data/fea_sample/storage_sample_stage5.h5', 'test_df',mode='r')"
      ],
      "execution_count": 0,
      "outputs": []
    },
    {
      "cell_type": "code",
      "metadata": {
        "id": "NK-1B9hMIJOU",
        "colab_type": "code",
        "outputId": "253ecb87-615d-4a55-b538-d716b478143a",
        "colab": {
          "base_uri": "https://localhost:8080/",
          "height": 250
        }
      },
      "source": [
        "X_test = X_test[[c for c in X_test if c not in ['prefer_Attach_followers',\t'prefer_Attach_followees']] \n",
        "       + ['prefer_Attach_followers',\t'prefer_Attach_followees']]\n",
        "X_test.columns"
      ],
      "execution_count": 127,
      "outputs": [
        {
          "output_type": "execute_result",
          "data": {
            "text/plain": [
              "Index(['jaccard_followers', 'jaccard_followees', 'cosine_followers',\n",
              "       'cosine_followees', 'num_followers_s', 'num_followees_s',\n",
              "       'num_followees_d', 'inter_followers', 'inter_followees',\n",
              "       'num_followers_d', 'adar_index', 'follows_back', 'same_comp',\n",
              "       'shortest_path', 'weight_in', 'weight_out', 'weight_f1', 'weight_f2',\n",
              "       'weight_f3', 'weight_f4', 'page_rank_s', 'page_rank_d', 'katz_s',\n",
              "       'katz_d', 'hubs_s', 'hubs_d', 'authorities_s', 'authorities_d',\n",
              "       'svd_u_s_1', 'svd_u_s_2', 'svd_u_s_3', 'svd_u_s_4', 'svd_u_s_5',\n",
              "       'svd_u_s_6', 'svd_u_d_1', 'svd_u_d_2', 'svd_u_d_3', 'svd_u_d_4',\n",
              "       'svd_u_d_5', 'svd_u_d_6', 'svd_v_s_1', 'svd_v_s_2', 'svd_v_s_3',\n",
              "       'svd_v_s_4', 'svd_v_s_5', 'svd_v_s_6', 'svd_v_d_1', 'svd_v_d_2',\n",
              "       'svd_v_d_3', 'svd_v_d_4', 'svd_v_d_5', 'svd_v_d_6', 'svd_dot_u',\n",
              "       'svd_dot_v', 'prefer_Attach_followers', 'prefer_Attach_followees'],\n",
              "      dtype='object')"
            ]
          },
          "metadata": {
            "tags": []
          },
          "execution_count": 127
        }
      ]
    },
    {
      "cell_type": "code",
      "metadata": {
        "id": "VMtxjj06YNrj",
        "colab_type": "code",
        "outputId": "1006ca7c-4174-489a-8134-002ecd937189",
        "colab": {
          "base_uri": "https://localhost:8080/",
          "height": 250
        }
      },
      "source": [
        "X_train = X_train[[c for c in X_train if c not in ['prefer_Attach_followers',\t'prefer_Attach_followees']] \n",
        "       + ['prefer_Attach_followers',\t'prefer_Attach_followees']]\n",
        "X_train.columns"
      ],
      "execution_count": 118,
      "outputs": [
        {
          "output_type": "execute_result",
          "data": {
            "text/plain": [
              "Index(['jaccard_followers', 'jaccard_followees', 'cosine_followers',\n",
              "       'cosine_followees', 'num_followers_s', 'num_followees_s',\n",
              "       'num_followees_d', 'inter_followers', 'inter_followees',\n",
              "       'num_followers_d', 'adar_index', 'follows_back', 'same_comp',\n",
              "       'shortest_path', 'weight_in', 'weight_out', 'weight_f1', 'weight_f2',\n",
              "       'weight_f3', 'weight_f4', 'page_rank_s', 'page_rank_d', 'katz_s',\n",
              "       'katz_d', 'hubs_s', 'hubs_d', 'authorities_s', 'authorities_d',\n",
              "       'svd_u_s_1', 'svd_u_s_2', 'svd_u_s_3', 'svd_u_s_4', 'svd_u_s_5',\n",
              "       'svd_u_s_6', 'svd_u_d_1', 'svd_u_d_2', 'svd_u_d_3', 'svd_u_d_4',\n",
              "       'svd_u_d_5', 'svd_u_d_6', 'svd_v_s_1', 'svd_v_s_2', 'svd_v_s_3',\n",
              "       'svd_v_s_4', 'svd_v_s_5', 'svd_v_s_6', 'svd_v_d_1', 'svd_v_d_2',\n",
              "       'svd_v_d_3', 'svd_v_d_4', 'svd_v_d_5', 'svd_v_d_6', 'svd_dot_u',\n",
              "       'svd_dot_v', 'prefer_Attach_followers', 'prefer_Attach_followees'],\n",
              "      dtype='object')"
            ]
          },
          "metadata": {
            "tags": []
          },
          "execution_count": 118
        }
      ]
    },
    {
      "cell_type": "code",
      "metadata": {
        "id": "NV49UH_YIVwl",
        "colab_type": "code",
        "colab": {}
      },
      "source": [
        "y_train = df_final_train.indicator_link\n",
        "y_test = df_final_test.indicator_link"
      ],
      "execution_count": 0,
      "outputs": []
    },
    {
      "cell_type": "code",
      "metadata": {
        "id": "5uhcOpwKImgl",
        "colab_type": "code",
        "colab": {}
      },
      "source": [
        "X_train.drop(['source_node', 'destination_node','indicator_link'],axis=1,inplace=True)\n",
        "X_test.drop(['source_node', 'destination_node','indicator_link'],axis=1,inplace=True)"
      ],
      "execution_count": 0,
      "outputs": []
    },
    {
      "cell_type": "code",
      "metadata": {
        "id": "1xcrq3ipIopw",
        "colab_type": "code",
        "outputId": "92726ffe-88d5-4026-9cf1-b40f71387c82",
        "colab": {
          "base_uri": "https://localhost:8080/",
          "height": 33
        }
      },
      "source": [
        "X_train.shape"
      ],
      "execution_count": 114,
      "outputs": [
        {
          "output_type": "execute_result",
          "data": {
            "text/plain": [
              "(100002, 56)"
            ]
          },
          "metadata": {
            "tags": []
          },
          "execution_count": 114
        }
      ]
    },
    {
      "cell_type": "code",
      "metadata": {
        "id": "0oMhcKri_q73",
        "colab_type": "code",
        "outputId": "9f8b3652-2281-4d9a-b1d4-34b67c6c8fb7",
        "colab": {
          "base_uri": "https://localhost:8080/",
          "height": 33
        }
      },
      "source": [
        "X_test.shape"
      ],
      "execution_count": 115,
      "outputs": [
        {
          "output_type": "execute_result",
          "data": {
            "text/plain": [
              "(50002, 56)"
            ]
          },
          "metadata": {
            "tags": []
          },
          "execution_count": 115
        }
      ]
    },
    {
      "cell_type": "code",
      "metadata": {
        "id": "tF3E6SAnXZU3",
        "colab_type": "code",
        "outputId": "5b43c859-4119-4304-fbb6-aae797ffac71",
        "colab": {
          "base_uri": "https://localhost:8080/",
          "height": 161
        }
      },
      "source": [
        "X_train.head(2)"
      ],
      "execution_count": 116,
      "outputs": [
        {
          "output_type": "execute_result",
          "data": {
            "text/html": [
              "<div>\n",
              "<style scoped>\n",
              "    .dataframe tbody tr th:only-of-type {\n",
              "        vertical-align: middle;\n",
              "    }\n",
              "\n",
              "    .dataframe tbody tr th {\n",
              "        vertical-align: top;\n",
              "    }\n",
              "\n",
              "    .dataframe thead th {\n",
              "        text-align: right;\n",
              "    }\n",
              "</style>\n",
              "<table border=\"1\" class=\"dataframe\">\n",
              "  <thead>\n",
              "    <tr style=\"text-align: right;\">\n",
              "      <th></th>\n",
              "      <th>jaccard_followers</th>\n",
              "      <th>jaccard_followees</th>\n",
              "      <th>cosine_followers</th>\n",
              "      <th>cosine_followees</th>\n",
              "      <th>num_followers_s</th>\n",
              "      <th>num_followees_s</th>\n",
              "      <th>num_followees_d</th>\n",
              "      <th>inter_followers</th>\n",
              "      <th>inter_followees</th>\n",
              "      <th>num_followers_d</th>\n",
              "      <th>adar_index</th>\n",
              "      <th>follows_back</th>\n",
              "      <th>same_comp</th>\n",
              "      <th>shortest_path</th>\n",
              "      <th>weight_in</th>\n",
              "      <th>weight_out</th>\n",
              "      <th>weight_f1</th>\n",
              "      <th>weight_f2</th>\n",
              "      <th>weight_f3</th>\n",
              "      <th>weight_f4</th>\n",
              "      <th>page_rank_s</th>\n",
              "      <th>page_rank_d</th>\n",
              "      <th>katz_s</th>\n",
              "      <th>katz_d</th>\n",
              "      <th>hubs_s</th>\n",
              "      <th>hubs_d</th>\n",
              "      <th>authorities_s</th>\n",
              "      <th>authorities_d</th>\n",
              "      <th>prefer_Attach_followers</th>\n",
              "      <th>prefer_Attach_followees</th>\n",
              "      <th>svd_u_s_1</th>\n",
              "      <th>svd_u_s_2</th>\n",
              "      <th>svd_u_s_3</th>\n",
              "      <th>svd_u_s_4</th>\n",
              "      <th>svd_u_s_5</th>\n",
              "      <th>svd_u_s_6</th>\n",
              "      <th>svd_u_d_1</th>\n",
              "      <th>svd_u_d_2</th>\n",
              "      <th>svd_u_d_3</th>\n",
              "      <th>svd_u_d_4</th>\n",
              "      <th>svd_u_d_5</th>\n",
              "      <th>svd_u_d_6</th>\n",
              "      <th>svd_v_s_1</th>\n",
              "      <th>svd_v_s_2</th>\n",
              "      <th>svd_v_s_3</th>\n",
              "      <th>svd_v_s_4</th>\n",
              "      <th>svd_v_s_5</th>\n",
              "      <th>svd_v_s_6</th>\n",
              "      <th>svd_v_d_1</th>\n",
              "      <th>svd_v_d_2</th>\n",
              "      <th>svd_v_d_3</th>\n",
              "      <th>svd_v_d_4</th>\n",
              "      <th>svd_v_d_5</th>\n",
              "      <th>svd_v_d_6</th>\n",
              "      <th>svd_dot_u</th>\n",
              "      <th>svd_dot_v</th>\n",
              "    </tr>\n",
              "  </thead>\n",
              "  <tbody>\n",
              "    <tr>\n",
              "      <th>0</th>\n",
              "      <td>0</td>\n",
              "      <td>0.000000</td>\n",
              "      <td>0.000000</td>\n",
              "      <td>0.000000</td>\n",
              "      <td>11</td>\n",
              "      <td>15</td>\n",
              "      <td>8</td>\n",
              "      <td>0</td>\n",
              "      <td>0</td>\n",
              "      <td>6</td>\n",
              "      <td>0.000000</td>\n",
              "      <td>0</td>\n",
              "      <td>1</td>\n",
              "      <td>4</td>\n",
              "      <td>0.377964</td>\n",
              "      <td>0.250</td>\n",
              "      <td>0.627964</td>\n",
              "      <td>0.094491</td>\n",
              "      <td>1.005929</td>\n",
              "      <td>0.877964</td>\n",
              "      <td>2.045290e-06</td>\n",
              "      <td>3.459963e-07</td>\n",
              "      <td>0.000773</td>\n",
              "      <td>0.000756</td>\n",
              "      <td>1.943132e-13</td>\n",
              "      <td>1.941103e-13</td>\n",
              "      <td>9.226339e-16</td>\n",
              "      <td>2.231877e-15</td>\n",
              "      <td>66</td>\n",
              "      <td>120</td>\n",
              "      <td>-1.666333e-13</td>\n",
              "      <td>4.613822e-13</td>\n",
              "      <td>1.043041e-05</td>\n",
              "      <td>6.678030e-13</td>\n",
              "      <td>2.451106e-13</td>\n",
              "      <td>3.584945e-12</td>\n",
              "      <td>-2.038018e-11</td>\n",
              "      <td>5.397914e-13</td>\n",
              "      <td>1.068943e-06</td>\n",
              "      <td>1.192461e-12</td>\n",
              "      <td>2.279488e-12</td>\n",
              "      <td>3.581202e-12</td>\n",
              "      <td>-7.216151e-13</td>\n",
              "      <td>3.926264e-13</td>\n",
              "      <td>1.983700e-06</td>\n",
              "      <td>1.545089e-13</td>\n",
              "      <td>8.108438e-13</td>\n",
              "      <td>1.719704e-14</td>\n",
              "      <td>-1.355369e-12</td>\n",
              "      <td>4.675320e-13</td>\n",
              "      <td>1.128586e-06</td>\n",
              "      <td>6.616714e-14</td>\n",
              "      <td>9.771079e-13</td>\n",
              "      <td>4.160012e-14</td>\n",
              "      <td>1.114951e-11</td>\n",
              "      <td>2.238777e-12</td>\n",
              "    </tr>\n",
              "    <tr>\n",
              "      <th>1</th>\n",
              "      <td>0</td>\n",
              "      <td>0.187135</td>\n",
              "      <td>0.028382</td>\n",
              "      <td>0.343828</td>\n",
              "      <td>17</td>\n",
              "      <td>61</td>\n",
              "      <td>142</td>\n",
              "      <td>11</td>\n",
              "      <td>32</td>\n",
              "      <td>94</td>\n",
              "      <td>16.362912</td>\n",
              "      <td>0</td>\n",
              "      <td>1</td>\n",
              "      <td>2</td>\n",
              "      <td>0.102598</td>\n",
              "      <td>0.127</td>\n",
              "      <td>0.229598</td>\n",
              "      <td>0.013030</td>\n",
              "      <td>0.332196</td>\n",
              "      <td>0.356598</td>\n",
              "      <td>2.353458e-07</td>\n",
              "      <td>6.427660e-07</td>\n",
              "      <td>0.000845</td>\n",
              "      <td>0.001317</td>\n",
              "      <td>3.906648e-11</td>\n",
              "      <td>9.424102e-11</td>\n",
              "      <td>1.208074e-11</td>\n",
              "      <td>1.273080e-10</td>\n",
              "      <td>1598</td>\n",
              "      <td>8662</td>\n",
              "      <td>7.050643e-13</td>\n",
              "      <td>-8.250578e-11</td>\n",
              "      <td>-1.717841e-10</td>\n",
              "      <td>3.705016e-02</td>\n",
              "      <td>1.032400e-11</td>\n",
              "      <td>7.207497e-10</td>\n",
              "      <td>1.644308e-12</td>\n",
              "      <td>-2.047756e-10</td>\n",
              "      <td>-3.944258e-10</td>\n",
              "      <td>8.617541e-02</td>\n",
              "      <td>2.399561e-11</td>\n",
              "      <td>1.738682e-09</td>\n",
              "      <td>2.685718e-13</td>\n",
              "      <td>-3.316855e-11</td>\n",
              "      <td>-6.236551e-11</td>\n",
              "      <td>1.345726e-02</td>\n",
              "      <td>3.703503e-12</td>\n",
              "      <td>2.251737e-10</td>\n",
              "      <td>1.245011e-12</td>\n",
              "      <td>-1.636950e-10</td>\n",
              "      <td>-3.112902e-10</td>\n",
              "      <td>6.738902e-02</td>\n",
              "      <td>2.607853e-11</td>\n",
              "      <td>2.372904e-09</td>\n",
              "      <td>3.192812e-03</td>\n",
              "      <td>9.068719e-04</td>\n",
              "    </tr>\n",
              "  </tbody>\n",
              "</table>\n",
              "</div>"
            ],
            "text/plain": [
              "   jaccard_followers  jaccard_followees  ...     svd_dot_u     svd_dot_v\n",
              "0                  0           0.000000  ...  1.114951e-11  2.238777e-12\n",
              "1                  0           0.187135  ...  3.192812e-03  9.068719e-04\n",
              "\n",
              "[2 rows x 56 columns]"
            ]
          },
          "metadata": {
            "tags": []
          },
          "execution_count": 116
        }
      ]
    },
    {
      "cell_type": "code",
      "metadata": {
        "id": "LtEB9QezXdkP",
        "colab_type": "code",
        "outputId": "8d29f156-54f8-474b-f713-764cc41a8e6d",
        "colab": {
          "base_uri": "https://localhost:8080/",
          "height": 161
        }
      },
      "source": [
        "X_test.head(2)"
      ],
      "execution_count": 117,
      "outputs": [
        {
          "output_type": "execute_result",
          "data": {
            "text/html": [
              "<div>\n",
              "<style scoped>\n",
              "    .dataframe tbody tr th:only-of-type {\n",
              "        vertical-align: middle;\n",
              "    }\n",
              "\n",
              "    .dataframe tbody tr th {\n",
              "        vertical-align: top;\n",
              "    }\n",
              "\n",
              "    .dataframe thead th {\n",
              "        text-align: right;\n",
              "    }\n",
              "</style>\n",
              "<table border=\"1\" class=\"dataframe\">\n",
              "  <thead>\n",
              "    <tr style=\"text-align: right;\">\n",
              "      <th></th>\n",
              "      <th>jaccard_followers</th>\n",
              "      <th>jaccard_followees</th>\n",
              "      <th>cosine_followers</th>\n",
              "      <th>cosine_followees</th>\n",
              "      <th>num_followers_s</th>\n",
              "      <th>num_followees_s</th>\n",
              "      <th>num_followees_d</th>\n",
              "      <th>inter_followers</th>\n",
              "      <th>inter_followees</th>\n",
              "      <th>num_followers_d</th>\n",
              "      <th>adar_index</th>\n",
              "      <th>follows_back</th>\n",
              "      <th>same_comp</th>\n",
              "      <th>shortest_path</th>\n",
              "      <th>weight_in</th>\n",
              "      <th>weight_out</th>\n",
              "      <th>weight_f1</th>\n",
              "      <th>weight_f2</th>\n",
              "      <th>weight_f3</th>\n",
              "      <th>weight_f4</th>\n",
              "      <th>page_rank_s</th>\n",
              "      <th>page_rank_d</th>\n",
              "      <th>katz_s</th>\n",
              "      <th>katz_d</th>\n",
              "      <th>hubs_s</th>\n",
              "      <th>hubs_d</th>\n",
              "      <th>authorities_s</th>\n",
              "      <th>authorities_d</th>\n",
              "      <th>prefer_Attach_followers</th>\n",
              "      <th>prefer_Attach_followees</th>\n",
              "      <th>svd_u_s_1</th>\n",
              "      <th>svd_u_s_2</th>\n",
              "      <th>svd_u_s_3</th>\n",
              "      <th>svd_u_s_4</th>\n",
              "      <th>svd_u_s_5</th>\n",
              "      <th>svd_u_s_6</th>\n",
              "      <th>svd_u_d_1</th>\n",
              "      <th>svd_u_d_2</th>\n",
              "      <th>svd_u_d_3</th>\n",
              "      <th>svd_u_d_4</th>\n",
              "      <th>svd_u_d_5</th>\n",
              "      <th>svd_u_d_6</th>\n",
              "      <th>svd_v_s_1</th>\n",
              "      <th>svd_v_s_2</th>\n",
              "      <th>svd_v_s_3</th>\n",
              "      <th>svd_v_s_4</th>\n",
              "      <th>svd_v_s_5</th>\n",
              "      <th>svd_v_s_6</th>\n",
              "      <th>svd_v_d_1</th>\n",
              "      <th>svd_v_d_2</th>\n",
              "      <th>svd_v_d_3</th>\n",
              "      <th>svd_v_d_4</th>\n",
              "      <th>svd_v_d_5</th>\n",
              "      <th>svd_v_d_6</th>\n",
              "      <th>svd_dot_u</th>\n",
              "      <th>svd_dot_v</th>\n",
              "    </tr>\n",
              "  </thead>\n",
              "  <tbody>\n",
              "    <tr>\n",
              "      <th>0</th>\n",
              "      <td>0</td>\n",
              "      <td>0.0</td>\n",
              "      <td>0.029161</td>\n",
              "      <td>0.0</td>\n",
              "      <td>6</td>\n",
              "      <td>6</td>\n",
              "      <td>9</td>\n",
              "      <td>1</td>\n",
              "      <td>0</td>\n",
              "      <td>14</td>\n",
              "      <td>0.0</td>\n",
              "      <td>1</td>\n",
              "      <td>1</td>\n",
              "      <td>2</td>\n",
              "      <td>0.258199</td>\n",
              "      <td>0.377964</td>\n",
              "      <td>0.636163</td>\n",
              "      <td>0.097590</td>\n",
              "      <td>0.894362</td>\n",
              "      <td>1.014128</td>\n",
              "      <td>6.557971e-07</td>\n",
              "      <td>0.000002</td>\n",
              "      <td>0.000754</td>\n",
              "      <td>0.000786</td>\n",
              "      <td>3.243237e-16</td>\n",
              "      <td>1.745627e-16</td>\n",
              "      <td>2.969838e-15</td>\n",
              "      <td>9.269213e-14</td>\n",
              "      <td>84</td>\n",
              "      <td>54</td>\n",
              "      <td>-9.987980e-12</td>\n",
              "      <td>2.283699e-13</td>\n",
              "      <td>1.439960e-10</td>\n",
              "      <td>6.136174e-13</td>\n",
              "      <td>4.188172e-13</td>\n",
              "      <td>5.983626e-15</td>\n",
              "      <td>-1.026186e-11</td>\n",
              "      <td>5.316647e-13</td>\n",
              "      <td>5.843192e-10</td>\n",
              "      <td>1.166048e-13</td>\n",
              "      <td>2.253356e-11</td>\n",
              "      <td>3.220558e-15</td>\n",
              "      <td>-2.148852e-13</td>\n",
              "      <td>1.883259e-13</td>\n",
              "      <td>5.904813e-11</td>\n",
              "      <td>2.701538e-12</td>\n",
              "      <td>4.341620e-13</td>\n",
              "      <td>5.535504e-14</td>\n",
              "      <td>-9.994077e-10</td>\n",
              "      <td>5.791914e-10</td>\n",
              "      <td>3.512351e-07</td>\n",
              "      <td>2.486660e-09</td>\n",
              "      <td>2.771146e-09</td>\n",
              "      <td>1.727695e-12</td>\n",
              "      <td>8.425175e-20</td>\n",
              "      <td>2.074802e-17</td>\n",
              "    </tr>\n",
              "    <tr>\n",
              "      <th>1</th>\n",
              "      <td>0</td>\n",
              "      <td>0.0</td>\n",
              "      <td>0.000000</td>\n",
              "      <td>0.0</td>\n",
              "      <td>2</td>\n",
              "      <td>1</td>\n",
              "      <td>19</td>\n",
              "      <td>0</td>\n",
              "      <td>0</td>\n",
              "      <td>17</td>\n",
              "      <td>0.0</td>\n",
              "      <td>1</td>\n",
              "      <td>1</td>\n",
              "      <td>7</td>\n",
              "      <td>0.235702</td>\n",
              "      <td>0.707107</td>\n",
              "      <td>0.942809</td>\n",
              "      <td>0.166667</td>\n",
              "      <td>1.178511</td>\n",
              "      <td>1.649916</td>\n",
              "      <td>2.172064e-07</td>\n",
              "      <td>0.000001</td>\n",
              "      <td>0.000739</td>\n",
              "      <td>0.000801</td>\n",
              "      <td>1.702625e-19</td>\n",
              "      <td>2.706300e-15</td>\n",
              "      <td>2.522357e-16</td>\n",
              "      <td>5.277458e-15</td>\n",
              "      <td>34</td>\n",
              "      <td>19</td>\n",
              "      <td>-2.079249e-15</td>\n",
              "      <td>7.010256e-16</td>\n",
              "      <td>6.970671e-10</td>\n",
              "      <td>9.562492e-15</td>\n",
              "      <td>1.728845e-15</td>\n",
              "      <td>3.068318e-18</td>\n",
              "      <td>-1.960465e-11</td>\n",
              "      <td>2.861620e-11</td>\n",
              "      <td>1.939769e-08</td>\n",
              "      <td>1.907404e-12</td>\n",
              "      <td>3.797447e-11</td>\n",
              "      <td>4.992965e-14</td>\n",
              "      <td>-4.054500e-13</td>\n",
              "      <td>2.895772e-13</td>\n",
              "      <td>2.545371e-10</td>\n",
              "      <td>2.248602e-14</td>\n",
              "      <td>3.601010e-13</td>\n",
              "      <td>4.701441e-15</td>\n",
              "      <td>-9.360663e-12</td>\n",
              "      <td>3.206811e-10</td>\n",
              "      <td>4.668669e-08</td>\n",
              "      <td>6.665782e-12</td>\n",
              "      <td>1.495980e-10</td>\n",
              "      <td>9.836692e-14</td>\n",
              "      <td>1.352149e-17</td>\n",
              "      <td>1.188365e-17</td>\n",
              "    </tr>\n",
              "  </tbody>\n",
              "</table>\n",
              "</div>"
            ],
            "text/plain": [
              "   jaccard_followers  jaccard_followees  ...     svd_dot_u     svd_dot_v\n",
              "0                  0                0.0  ...  8.425175e-20  2.074802e-17\n",
              "1                  0                0.0  ...  1.352149e-17  1.188365e-17\n",
              "\n",
              "[2 rows x 56 columns]"
            ]
          },
          "metadata": {
            "tags": []
          },
          "execution_count": 117
        }
      ]
    },
    {
      "cell_type": "code",
      "metadata": {
        "id": "p1hxd5uomqsy",
        "colab_type": "code",
        "outputId": "1ae4e17e-ed7b-47ad-d8a9-e9698e1ad654",
        "colab": {
          "base_uri": "https://localhost:8080/",
          "height": 1000
        }
      },
      "source": [
        "from sklearn.preprocessing import StandardScaler\n",
        "for column in X_train.columns:\n",
        "  scalar = StandardScaler()\n",
        "  scalar.fit(X_train[column].values.reshape(-1,1))\n",
        "  print(column + \": \")\n",
        "  print(f\"Mean : {scalar.mean_[0]}, Standard deviation : {np.sqrt(scalar.var_[0])}\")\n",
        "  standardized_train = scalar.transform(X_train[column].values.reshape(-1, 1))\n",
        "  standardized_test = scalar.transform(X_test[column].values.reshape(-1, 1))\n",
        "  X_train[column] = pd.DataFrame(standardized_train)\n",
        "  X_test[column] = pd.DataFrame(standardized_test)"
      ],
      "execution_count": 119,
      "outputs": [
        {
          "output_type": "stream",
          "text": [
            "jaccard_followers: \n",
            "Mean : 0.0, Standard deviation : 0.0\n",
            "jaccard_followees: \n",
            "Mean : 0.04008788823588526, Standard deviation : 0.10414053959329606\n",
            "cosine_followers: \n",
            "Mean : 0.02171076978621971, Standard deviation : 0.05304628198970236\n",
            "cosine_followees: \n",
            "Mean : 0.06700952576842657, Standard deviation : 0.1531591100734706\n",
            "num_followers_s: \n",
            "Mean : 9.832273354532909, Standard deviation : 18.343272545999035\n",
            "num_followees_s: \n",
            "Mean : 12.016629667406653, Standard deviation : 26.269752786244528\n",
            "num_followees_d: \n",
            "Mean : 9.73007539849203, Standard deviation : 18.445197877654227\n",
            "inter_followers: \n",
            "Mean : 1.7824443511129777, Standard deviation : 7.990476308631131\n",
            "inter_followees: \n",
            "Mean : 1.7856642867142658, Standard deviation : 8.409164346254286\n",
            "num_followers_d: \n",
            "Mean : 11.092068158636827, Standard deviation : 21.844594515770783\n",
            "adar_index: \n",
            "Mean : 1.2063680748453576, Standard deviation : 4.54248452851973\n",
            "follows_back: \n",
            "Mean : 0.2779244415111698, Standard deviation : 0.44797594390979767\n",
            "same_comp: \n",
            "Mean : 0.8551628967420651, Standard deviation : 0.3519365237905625\n",
            "shortest_path: \n",
            "Mean : 3.1815363692726146, Standard deviation : 3.906704319595922\n",
            "weight_in: \n",
            "Mean : 0.47865244152442815, Standard deviation : 0.24643554357411887\n",
            "weight_out: \n",
            "Mean : 0.4815817560100229, Standard deviation : 0.2573517973262048\n",
            "weight_f1: \n",
            "Mean : 0.9602341975344509, Standard deviation : 0.4126486059667631\n",
            "weight_f2: \n",
            "Mean : 0.25216950694912565, Standard deviation : 0.2069480752210443\n",
            "weight_f3: \n",
            "Mean : 1.438886639058879, Standard deviation : 0.629117437923112\n",
            "weight_f4: \n",
            "Mean : 1.441815953544474, Standard deviation : 0.6420959134350649\n",
            "page_rank_s: \n",
            "Mean : 8.165686116052111e-07, Standard deviation : 8.421881765053727e-07\n",
            "page_rank_d: \n",
            "Mean : 8.733031446835729e-07, Standard deviation : 9.004112171359109e-07\n",
            "katz_s: \n",
            "Mean : 0.0007756027214001141, Standard deviation : 0.0001084078746825317\n",
            "katz_d: \n",
            "Mean : 0.0007816125860544442, Standard deviation : 0.0001264936347845149\n",
            "hubs_s: \n",
            "Mean : 8.810298728813284e-06, Standard deviation : 0.00016636910402157155\n",
            "hubs_d: \n",
            "Mean : 7.1127812687303475e-06, Standard deviation : 0.0001482718474281663\n",
            "authorities_s: \n",
            "Mean : 7.460537970267456e-06, Standard deviation : 0.00015510511100973954\n",
            "authorities_d: \n",
            "Mean : 8.488533464229226e-06, Standard deviation : 0.00016908335845234487\n",
            "svd_u_s_1: \n",
            "Mean : -7.488580979639513e-05, Standard deviation : 0.0025535336623273507\n",
            "svd_u_s_2: \n",
            "Mean : 0.00012879457948617132, Standard deviation : 0.0027251138499738608\n",
            "svd_u_s_3: \n",
            "Mean : 9.851711470910341e-05, Standard deviation : 0.00236850594988815\n",
            "svd_u_s_4: \n",
            "Mean : 0.00011712124520322821, Standard deviation : 0.003210097135647676\n",
            "svd_u_s_5: \n",
            "Mean : 0.00013652488077266447, Standard deviation : 0.003495486797253162\n",
            "svd_u_s_6: \n",
            "Mean : 0.00016254392976800103, Standard deviation : 0.003069395124644531\n",
            "svd_u_d_1: \n",
            "Mean : -7.70115617785015e-05, Standard deviation : 0.0026066552359584457\n",
            "svd_u_d_2: \n",
            "Mean : 9.182921355450136e-05, Standard deviation : 0.0021609705740241497\n",
            "svd_u_d_3: \n",
            "Mean : 6.8384928538353e-05, Standard deviation : 0.001898998740593041\n",
            "svd_u_d_4: \n",
            "Mean : 7.312580180957063e-05, Standard deviation : 0.0024436210341240933\n",
            "svd_u_d_5: \n",
            "Mean : 6.687763030251471e-05, Standard deviation : 0.0022077953997139813\n",
            "svd_u_d_6: \n",
            "Mean : 0.00013122590444139586, Standard deviation : 0.002735513233027441\n",
            "svd_v_s_1: \n",
            "Mean : -7.159273161531357e-05, Standard deviation : 0.002470210681047329\n",
            "svd_v_s_2: \n",
            "Mean : 8.181855296639534e-05, Standard deviation : 0.0021829360488899966\n",
            "svd_v_s_3: \n",
            "Mean : 6.568934661563412e-05, Standard deviation : 0.002421247964736364\n",
            "svd_v_s_4: \n",
            "Mean : 9.123722150377589e-05, Standard deviation : 0.00251095576984386\n",
            "svd_v_s_5: \n",
            "Mean : 8.386329863653715e-05, Standard deviation : 0.002218196032326049\n",
            "svd_v_s_6: \n",
            "Mean : 0.00013905752830745106, Standard deviation : 0.0028910158294473713\n",
            "svd_v_d_1: \n",
            "Mean : -7.622936118298057e-05, Standard deviation : 0.0025611969809661676\n",
            "svd_v_d_2: \n",
            "Mean : 0.0001551794162074575, Standard deviation : 0.0035775065654940637\n",
            "svd_v_d_3: \n",
            "Mean : 0.00014784945426025715, Standard deviation : 0.003831898010575655\n",
            "svd_v_d_4: \n",
            "Mean : 9.529309112357338e-05, Standard deviation : 0.0025854396886112554\n",
            "svd_v_d_5: \n",
            "Mean : 0.000102932525737395, Standard deviation : 0.0025348458742164783\n",
            "svd_v_d_6: \n",
            "Mean : 0.00015821841362922506, Standard deviation : 0.003151557434823596\n",
            "svd_dot_u: \n",
            "Mean : 3.0358595354938315e-05, Standard deviation : 0.0004103143278709034\n",
            "svd_dot_v: \n",
            "Mean : 3.0221273865876985e-05, Standard deviation : 0.00040496977645611504\n",
            "prefer_Attach_followers: \n",
            "Mean : 308.61588768224635, Standard deviation : 1835.1736291887453\n",
            "prefer_Attach_followees: \n",
            "Mean : 333.1835763284734, Standard deviation : 1907.7012485758826\n"
          ],
          "name": "stdout"
        }
      ]
    },
    {
      "cell_type": "code",
      "metadata": {
        "id": "5zfWw-c5Hg2U",
        "colab_type": "code",
        "outputId": "1e4a72c8-4f78-44ae-bbf2-7dc0d6009477",
        "colab": {
          "base_uri": "https://localhost:8080/",
          "height": 127
        }
      },
      "source": [
        "X_train.head(2)"
      ],
      "execution_count": 120,
      "outputs": [
        {
          "output_type": "execute_result",
          "data": {
            "text/html": [
              "<div>\n",
              "<style scoped>\n",
              "    .dataframe tbody tr th:only-of-type {\n",
              "        vertical-align: middle;\n",
              "    }\n",
              "\n",
              "    .dataframe tbody tr th {\n",
              "        vertical-align: top;\n",
              "    }\n",
              "\n",
              "    .dataframe thead th {\n",
              "        text-align: right;\n",
              "    }\n",
              "</style>\n",
              "<table border=\"1\" class=\"dataframe\">\n",
              "  <thead>\n",
              "    <tr style=\"text-align: right;\">\n",
              "      <th></th>\n",
              "      <th>jaccard_followers</th>\n",
              "      <th>jaccard_followees</th>\n",
              "      <th>cosine_followers</th>\n",
              "      <th>cosine_followees</th>\n",
              "      <th>num_followers_s</th>\n",
              "      <th>num_followees_s</th>\n",
              "      <th>num_followees_d</th>\n",
              "      <th>inter_followers</th>\n",
              "      <th>inter_followees</th>\n",
              "      <th>num_followers_d</th>\n",
              "      <th>adar_index</th>\n",
              "      <th>follows_back</th>\n",
              "      <th>same_comp</th>\n",
              "      <th>shortest_path</th>\n",
              "      <th>weight_in</th>\n",
              "      <th>weight_out</th>\n",
              "      <th>weight_f1</th>\n",
              "      <th>weight_f2</th>\n",
              "      <th>weight_f3</th>\n",
              "      <th>weight_f4</th>\n",
              "      <th>page_rank_s</th>\n",
              "      <th>page_rank_d</th>\n",
              "      <th>katz_s</th>\n",
              "      <th>katz_d</th>\n",
              "      <th>hubs_s</th>\n",
              "      <th>hubs_d</th>\n",
              "      <th>authorities_s</th>\n",
              "      <th>authorities_d</th>\n",
              "      <th>svd_u_s_1</th>\n",
              "      <th>svd_u_s_2</th>\n",
              "      <th>svd_u_s_3</th>\n",
              "      <th>svd_u_s_4</th>\n",
              "      <th>svd_u_s_5</th>\n",
              "      <th>svd_u_s_6</th>\n",
              "      <th>svd_u_d_1</th>\n",
              "      <th>svd_u_d_2</th>\n",
              "      <th>svd_u_d_3</th>\n",
              "      <th>svd_u_d_4</th>\n",
              "      <th>svd_u_d_5</th>\n",
              "      <th>svd_u_d_6</th>\n",
              "      <th>svd_v_s_1</th>\n",
              "      <th>svd_v_s_2</th>\n",
              "      <th>svd_v_s_3</th>\n",
              "      <th>svd_v_s_4</th>\n",
              "      <th>svd_v_s_5</th>\n",
              "      <th>svd_v_s_6</th>\n",
              "      <th>svd_v_d_1</th>\n",
              "      <th>svd_v_d_2</th>\n",
              "      <th>svd_v_d_3</th>\n",
              "      <th>svd_v_d_4</th>\n",
              "      <th>svd_v_d_5</th>\n",
              "      <th>svd_v_d_6</th>\n",
              "      <th>svd_dot_u</th>\n",
              "      <th>svd_dot_v</th>\n",
              "      <th>prefer_Attach_followers</th>\n",
              "      <th>prefer_Attach_followees</th>\n",
              "    </tr>\n",
              "  </thead>\n",
              "  <tbody>\n",
              "    <tr>\n",
              "      <th>0</th>\n",
              "      <td>0.0</td>\n",
              "      <td>-0.384940</td>\n",
              "      <td>-0.409280</td>\n",
              "      <td>-0.437516</td>\n",
              "      <td>0.063660</td>\n",
              "      <td>0.113567</td>\n",
              "      <td>-0.093795</td>\n",
              "      <td>-0.223071</td>\n",
              "      <td>-0.212347</td>\n",
              "      <td>-0.233104</td>\n",
              "      <td>-0.265575</td>\n",
              "      <td>-0.6204</td>\n",
              "      <td>0.411543</td>\n",
              "      <td>0.209502</td>\n",
              "      <td>-0.408577</td>\n",
              "      <td>-0.899865</td>\n",
              "      <td>-0.805212</td>\n",
              "      <td>-0.761922</td>\n",
              "      <td>-0.688199</td>\n",
              "      <td>-0.878142</td>\n",
              "      <td>1.458964</td>\n",
              "      <td>-0.585629</td>\n",
              "      <td>-0.024481</td>\n",
              "      <td>-0.206296</td>\n",
              "      <td>-0.052956</td>\n",
              "      <td>-0.047971</td>\n",
              "      <td>-0.0481</td>\n",
              "      <td>-0.050203</td>\n",
              "      <td>0.029326</td>\n",
              "      <td>-0.047262</td>\n",
              "      <td>-0.037191</td>\n",
              "      <td>-0.036485</td>\n",
              "      <td>-0.039057</td>\n",
              "      <td>-0.052956</td>\n",
              "      <td>0.029544</td>\n",
              "      <td>-0.042494</td>\n",
              "      <td>-0.035448</td>\n",
              "      <td>-0.029925</td>\n",
              "      <td>-0.030292</td>\n",
              "      <td>-0.047971</td>\n",
              "      <td>0.028982</td>\n",
              "      <td>-0.037481</td>\n",
              "      <td>-0.026311</td>\n",
              "      <td>-0.036336</td>\n",
              "      <td>-0.037807</td>\n",
              "      <td>-0.0481</td>\n",
              "      <td>0.029763</td>\n",
              "      <td>-0.043376</td>\n",
              "      <td>-0.038289</td>\n",
              "      <td>-0.036858</td>\n",
              "      <td>-0.040607</td>\n",
              "      <td>-0.050203</td>\n",
              "      <td>-0.073989</td>\n",
              "      <td>-0.074626</td>\n",
              "      <td>-0.132203</td>\n",
              "      <td>-0.111749</td>\n",
              "    </tr>\n",
              "    <tr>\n",
              "      <th>1</th>\n",
              "      <td>0.0</td>\n",
              "      <td>1.412002</td>\n",
              "      <td>0.125759</td>\n",
              "      <td>1.807390</td>\n",
              "      <td>0.390755</td>\n",
              "      <td>1.864630</td>\n",
              "      <td>7.170968</td>\n",
              "      <td>1.153568</td>\n",
              "      <td>3.593025</td>\n",
              "      <td>3.795352</td>\n",
              "      <td>3.336620</td>\n",
              "      <td>-0.6204</td>\n",
              "      <td>0.411543</td>\n",
              "      <td>-0.302438</td>\n",
              "      <td>-1.525976</td>\n",
              "      <td>-1.377809</td>\n",
              "      <td>-1.770601</td>\n",
              "      <td>-1.155553</td>\n",
              "      <td>-1.759116</td>\n",
              "      <td>-1.690118</td>\n",
              "      <td>-0.690134</td>\n",
              "      <td>-0.256035</td>\n",
              "      <td>0.637346</td>\n",
              "      <td>4.233454</td>\n",
              "      <td>-0.052956</td>\n",
              "      <td>-0.047971</td>\n",
              "      <td>-0.0481</td>\n",
              "      <td>-0.050202</td>\n",
              "      <td>0.029326</td>\n",
              "      <td>-0.047262</td>\n",
              "      <td>-0.041595</td>\n",
              "      <td>11.505270</td>\n",
              "      <td>-0.039057</td>\n",
              "      <td>-0.052956</td>\n",
              "      <td>0.029544</td>\n",
              "      <td>-0.042495</td>\n",
              "      <td>-0.036011</td>\n",
              "      <td>35.235529</td>\n",
              "      <td>-0.030292</td>\n",
              "      <td>-0.047971</td>\n",
              "      <td>0.028982</td>\n",
              "      <td>-0.037481</td>\n",
              "      <td>-0.027130</td>\n",
              "      <td>5.323083</td>\n",
              "      <td>-0.037807</td>\n",
              "      <td>-0.0481</td>\n",
              "      <td>0.029763</td>\n",
              "      <td>-0.043376</td>\n",
              "      <td>-0.038584</td>\n",
              "      <td>26.027964</td>\n",
              "      <td>-0.040607</td>\n",
              "      <td>-0.050202</td>\n",
              "      <td>7.707393</td>\n",
              "      <td>2.164731</td>\n",
              "      <td>0.702595</td>\n",
              "      <td>4.365891</td>\n",
              "    </tr>\n",
              "  </tbody>\n",
              "</table>\n",
              "</div>"
            ],
            "text/plain": [
              "   jaccard_followers  ...  prefer_Attach_followees\n",
              "0                0.0  ...                -0.111749\n",
              "1                0.0  ...                 4.365891\n",
              "\n",
              "[2 rows x 56 columns]"
            ]
          },
          "metadata": {
            "tags": []
          },
          "execution_count": 120
        }
      ]
    },
    {
      "cell_type": "code",
      "metadata": {
        "id": "FOOwkhzIAo6I",
        "colab_type": "code",
        "outputId": "3d8d69da-ef29-4288-a68c-3f8a2bc7368a",
        "colab": {
          "base_uri": "https://localhost:8080/",
          "height": 127
        }
      },
      "source": [
        "X_test.head(2)"
      ],
      "execution_count": 121,
      "outputs": [
        {
          "output_type": "execute_result",
          "data": {
            "text/html": [
              "<div>\n",
              "<style scoped>\n",
              "    .dataframe tbody tr th:only-of-type {\n",
              "        vertical-align: middle;\n",
              "    }\n",
              "\n",
              "    .dataframe tbody tr th {\n",
              "        vertical-align: top;\n",
              "    }\n",
              "\n",
              "    .dataframe thead th {\n",
              "        text-align: right;\n",
              "    }\n",
              "</style>\n",
              "<table border=\"1\" class=\"dataframe\">\n",
              "  <thead>\n",
              "    <tr style=\"text-align: right;\">\n",
              "      <th></th>\n",
              "      <th>jaccard_followers</th>\n",
              "      <th>jaccard_followees</th>\n",
              "      <th>cosine_followers</th>\n",
              "      <th>cosine_followees</th>\n",
              "      <th>num_followers_s</th>\n",
              "      <th>num_followees_s</th>\n",
              "      <th>num_followees_d</th>\n",
              "      <th>inter_followers</th>\n",
              "      <th>inter_followees</th>\n",
              "      <th>num_followers_d</th>\n",
              "      <th>adar_index</th>\n",
              "      <th>follows_back</th>\n",
              "      <th>same_comp</th>\n",
              "      <th>shortest_path</th>\n",
              "      <th>weight_in</th>\n",
              "      <th>weight_out</th>\n",
              "      <th>weight_f1</th>\n",
              "      <th>weight_f2</th>\n",
              "      <th>weight_f3</th>\n",
              "      <th>weight_f4</th>\n",
              "      <th>page_rank_s</th>\n",
              "      <th>page_rank_d</th>\n",
              "      <th>katz_s</th>\n",
              "      <th>katz_d</th>\n",
              "      <th>hubs_s</th>\n",
              "      <th>hubs_d</th>\n",
              "      <th>authorities_s</th>\n",
              "      <th>authorities_d</th>\n",
              "      <th>prefer_Attach_followers</th>\n",
              "      <th>prefer_Attach_followees</th>\n",
              "      <th>svd_u_s_1</th>\n",
              "      <th>svd_u_s_2</th>\n",
              "      <th>svd_u_s_3</th>\n",
              "      <th>svd_u_s_4</th>\n",
              "      <th>svd_u_s_5</th>\n",
              "      <th>svd_u_s_6</th>\n",
              "      <th>svd_u_d_1</th>\n",
              "      <th>svd_u_d_2</th>\n",
              "      <th>svd_u_d_3</th>\n",
              "      <th>svd_u_d_4</th>\n",
              "      <th>svd_u_d_5</th>\n",
              "      <th>svd_u_d_6</th>\n",
              "      <th>svd_v_s_1</th>\n",
              "      <th>svd_v_s_2</th>\n",
              "      <th>svd_v_s_3</th>\n",
              "      <th>svd_v_s_4</th>\n",
              "      <th>svd_v_s_5</th>\n",
              "      <th>svd_v_s_6</th>\n",
              "      <th>svd_v_d_1</th>\n",
              "      <th>svd_v_d_2</th>\n",
              "      <th>svd_v_d_3</th>\n",
              "      <th>svd_v_d_4</th>\n",
              "      <th>svd_v_d_5</th>\n",
              "      <th>svd_v_d_6</th>\n",
              "      <th>svd_dot_u</th>\n",
              "      <th>svd_dot_v</th>\n",
              "    </tr>\n",
              "  </thead>\n",
              "  <tbody>\n",
              "    <tr>\n",
              "      <th>0</th>\n",
              "      <td>0.0</td>\n",
              "      <td>-0.38494</td>\n",
              "      <td>0.14044</td>\n",
              "      <td>-0.437516</td>\n",
              "      <td>-0.208920</td>\n",
              "      <td>-0.229033</td>\n",
              "      <td>-0.039581</td>\n",
              "      <td>-0.097922</td>\n",
              "      <td>-0.212347</td>\n",
              "      <td>0.133119</td>\n",
              "      <td>-0.265575</td>\n",
              "      <td>1.611862</td>\n",
              "      <td>0.411543</td>\n",
              "      <td>-0.302438</td>\n",
              "      <td>-0.894569</td>\n",
              "      <td>-0.402629</td>\n",
              "      <td>-0.785343</td>\n",
              "      <td>-0.746948</td>\n",
              "      <td>-0.865537</td>\n",
              "      <td>-0.666081</td>\n",
              "      <td>-0.190897</td>\n",
              "      <td>0.762145</td>\n",
              "      <td>-0.194850</td>\n",
              "      <td>0.030987</td>\n",
              "      <td>-0.052956</td>\n",
              "      <td>-0.047971</td>\n",
              "      <td>-0.0481</td>\n",
              "      <td>-0.050203</td>\n",
              "      <td>-0.122395</td>\n",
              "      <td>-0.146346</td>\n",
              "      <td>0.029326</td>\n",
              "      <td>-0.047262</td>\n",
              "      <td>-0.041595</td>\n",
              "      <td>-0.036485</td>\n",
              "      <td>-0.039057</td>\n",
              "      <td>-0.052956</td>\n",
              "      <td>0.029544</td>\n",
              "      <td>-0.042494</td>\n",
              "      <td>-0.036011</td>\n",
              "      <td>-0.029925</td>\n",
              "      <td>-0.030292</td>\n",
              "      <td>-0.047971</td>\n",
              "      <td>0.028982</td>\n",
              "      <td>-0.037481</td>\n",
              "      <td>-0.02713</td>\n",
              "      <td>-0.036336</td>\n",
              "      <td>-0.037807</td>\n",
              "      <td>-0.0481</td>\n",
              "      <td>0.029763</td>\n",
              "      <td>-0.043376</td>\n",
              "      <td>-0.038492</td>\n",
              "      <td>-0.036857</td>\n",
              "      <td>-0.040606</td>\n",
              "      <td>-0.050203</td>\n",
              "      <td>-0.073989</td>\n",
              "      <td>-0.074626</td>\n",
              "    </tr>\n",
              "    <tr>\n",
              "      <th>1</th>\n",
              "      <td>0.0</td>\n",
              "      <td>-0.38494</td>\n",
              "      <td>-0.40928</td>\n",
              "      <td>-0.437516</td>\n",
              "      <td>-0.426983</td>\n",
              "      <td>-0.419366</td>\n",
              "      <td>0.502566</td>\n",
              "      <td>-0.223071</td>\n",
              "      <td>-0.212347</td>\n",
              "      <td>0.270453</td>\n",
              "      <td>-0.265575</td>\n",
              "      <td>1.611862</td>\n",
              "      <td>0.411543</td>\n",
              "      <td>0.977413</td>\n",
              "      <td>-0.985857</td>\n",
              "      <td>0.876330</td>\n",
              "      <td>-0.042228</td>\n",
              "      <td>-0.413161</td>\n",
              "      <td>-0.413874</td>\n",
              "      <td>0.324095</td>\n",
              "      <td>-0.711673</td>\n",
              "      <td>0.305479</td>\n",
              "      <td>-0.335314</td>\n",
              "      <td>0.149655</td>\n",
              "      <td>-0.052956</td>\n",
              "      <td>-0.047971</td>\n",
              "      <td>-0.0481</td>\n",
              "      <td>-0.050203</td>\n",
              "      <td>-0.149640</td>\n",
              "      <td>-0.164692</td>\n",
              "      <td>0.029326</td>\n",
              "      <td>-0.047262</td>\n",
              "      <td>-0.041594</td>\n",
              "      <td>-0.036485</td>\n",
              "      <td>-0.039057</td>\n",
              "      <td>-0.052956</td>\n",
              "      <td>0.029544</td>\n",
              "      <td>-0.042494</td>\n",
              "      <td>-0.036001</td>\n",
              "      <td>-0.029925</td>\n",
              "      <td>-0.030292</td>\n",
              "      <td>-0.047971</td>\n",
              "      <td>0.028982</td>\n",
              "      <td>-0.037481</td>\n",
              "      <td>-0.02713</td>\n",
              "      <td>-0.036336</td>\n",
              "      <td>-0.037807</td>\n",
              "      <td>-0.0481</td>\n",
              "      <td>0.029763</td>\n",
              "      <td>-0.043376</td>\n",
              "      <td>-0.038572</td>\n",
              "      <td>-0.036858</td>\n",
              "      <td>-0.040607</td>\n",
              "      <td>-0.050203</td>\n",
              "      <td>-0.073989</td>\n",
              "      <td>-0.074626</td>\n",
              "    </tr>\n",
              "  </tbody>\n",
              "</table>\n",
              "</div>"
            ],
            "text/plain": [
              "   jaccard_followers  jaccard_followees  ...  svd_dot_u  svd_dot_v\n",
              "0                0.0           -0.38494  ...  -0.073989  -0.074626\n",
              "1                0.0           -0.38494  ...  -0.073989  -0.074626\n",
              "\n",
              "[2 rows x 56 columns]"
            ]
          },
          "metadata": {
            "tags": []
          },
          "execution_count": 121
        }
      ]
    },
    {
      "cell_type": "code",
      "metadata": {
        "id": "-2CvUFNazskT",
        "colab_type": "code",
        "colab": {}
      },
      "source": [
        "%matplotlib inline\n",
        "import warnings\n",
        "warnings.filterwarnings(\"ignore\")\n",
        "\n",
        "import sqlite3\n",
        "import pandas as pd\n",
        "import numpy as np\n",
        "import nltk\n",
        "import string\n",
        "import matplotlib.pyplot as plt\n",
        "import seaborn as sns\n",
        "from sklearn.feature_extraction.text import TfidfTransformer\n",
        "from sklearn.feature_extraction.text import TfidfVectorizer\n",
        "\n",
        "from sklearn.feature_extraction.text import CountVectorizer\n",
        "from sklearn.metrics import confusion_matrix\n",
        "from sklearn import metrics\n",
        "from sklearn.metrics import roc_curve, auc\n",
        "from nltk.stem.porter import PorterStemmer\n",
        "\n",
        "import re\n",
        "# Tutorial about Python regular expressions: https://pymotw.com/2/re/\n",
        "import string\n",
        "from nltk.corpus import stopwords\n",
        "from nltk.stem import PorterStemmer\n",
        "from nltk.stem.wordnet import WordNetLemmatizer\n",
        "\n",
        "from gensim.models import Word2Vec\n",
        "from gensim.models import KeyedVectors\n",
        "import pickle\n",
        "\n",
        "from tqdm import tqdm\n",
        "import os\n",
        "\n",
        "from collections import Counter"
      ],
      "execution_count": 0,
      "outputs": []
    },
    {
      "cell_type": "code",
      "metadata": {
        "id": "dTW1mm4VCzWX",
        "colab_type": "code",
        "outputId": "3610c299-629c-4c4f-fce8-0729cb154aa3",
        "colab": {
          "base_uri": "https://localhost:8080/",
          "height": 400
        }
      },
      "source": [
        "from xgboost import XGBClassifier\n",
        "from sklearn.metrics import roc_auc_score\n",
        "from sklearn.model_selection import GridSearchCV\n",
        "\n",
        "parameters = { 'n_estimators' : [100, 150, 200, 300, 500, 1000], 'max_depth' : [2, 3, 4, 5, 6, 7, 8, 9, 10]}\n",
        "train_auc = []\n",
        "cv_auc = []\n",
        "\n",
        "xgb = XGBClassifier(class_weight = 'balanced')\n",
        "clf = GridSearchCV(xgb, parameters, scoring='roc_auc', return_train_score = True, n_jobs = -1, verbose = 5)\n",
        "clf.fit(X_train, y_train)\n"
      ],
      "execution_count": 123,
      "outputs": [
        {
          "output_type": "stream",
          "text": [
            "Fitting 3 folds for each of 54 candidates, totalling 162 fits\n"
          ],
          "name": "stdout"
        },
        {
          "output_type": "stream",
          "text": [
            "[Parallel(n_jobs=-1)]: Using backend LokyBackend with 4 concurrent workers.\n",
            "[Parallel(n_jobs=-1)]: Done  10 tasks      | elapsed:  1.4min\n",
            "[Parallel(n_jobs=-1)]: Done  64 tasks      | elapsed: 19.9min\n",
            "[Parallel(n_jobs=-1)]: Done 154 tasks      | elapsed: 83.0min\n",
            "[Parallel(n_jobs=-1)]: Done 162 out of 162 | elapsed: 94.6min finished\n"
          ],
          "name": "stderr"
        },
        {
          "output_type": "execute_result",
          "data": {
            "text/plain": [
              "GridSearchCV(cv='warn', error_score='raise-deprecating',\n",
              "             estimator=XGBClassifier(base_score=0.5, booster='gbtree',\n",
              "                                     class_weight='balanced',\n",
              "                                     colsample_bylevel=1, colsample_bynode=1,\n",
              "                                     colsample_bytree=1, gamma=0,\n",
              "                                     learning_rate=0.1, max_delta_step=0,\n",
              "                                     max_depth=3, min_child_weight=1,\n",
              "                                     missing=None, n_estimators=100, n_jobs=1,\n",
              "                                     nthread=None, objective='binary:logistic',\n",
              "                                     random_state=0, reg_alpha=0, reg_lambda=1,\n",
              "                                     scale_pos_weight=1, seed=None, silent=None,\n",
              "                                     subsample=1, verbosity=1),\n",
              "             iid='warn', n_jobs=-1,\n",
              "             param_grid={'max_depth': [2, 3, 4, 5, 6, 7, 8, 9, 10],\n",
              "                         'n_estimators': [100, 150, 200, 300, 500, 1000]},\n",
              "             pre_dispatch='2*n_jobs', refit=True, return_train_score=True,\n",
              "             scoring='roc_auc', verbose=5)"
            ]
          },
          "metadata": {
            "tags": []
          },
          "execution_count": 123
        }
      ]
    },
    {
      "cell_type": "code",
      "metadata": {
        "id": "tLd8f-GqCzbf",
        "colab_type": "code",
        "outputId": "8ebc324d-a5b6-4f2e-99c2-00af5e4f305e",
        "colab": {
          "base_uri": "https://localhost:8080/",
          "height": 33
        }
      },
      "source": [
        "print(clf.best_params_)\n",
        "best_depth = clf.best_params_['max_depth']\n",
        "best_estimators = clf.best_params_['n_estimators']"
      ],
      "execution_count": 124,
      "outputs": [
        {
          "output_type": "stream",
          "text": [
            "{'max_depth': 10, 'n_estimators': 500}\n"
          ],
          "name": "stdout"
        }
      ]
    },
    {
      "cell_type": "code",
      "metadata": {
        "id": "20RFuPLADp6z",
        "colab_type": "code",
        "outputId": "06c58571-fcab-4ea8-d73d-adf7aec412e4",
        "colab": {
          "base_uri": "https://localhost:8080/",
          "height": 295
        }
      },
      "source": [
        "from sklearn.metrics import roc_auc_score\n",
        "from sklearn.metrics import roc_curve\n",
        "\n",
        "xgb = XGBClassifier(max_depth = best_depth, min_samples_split = best_estimators )\n",
        "xgb.fit(X_train, y_train)\n",
        "\n",
        "y_train_pred = xgb.predict_proba( X_train)[:, 1]     \n",
        "y_test_pred = xgb.predict_proba(X_test)[:, 1] \n",
        "\n",
        "train_fpr, train_tpr, tr_thresholds = roc_curve(y_train, y_train_pred)\n",
        "test_fpr, test_tpr, te_thresholds = roc_curve(y_test, y_test_pred)\n",
        "\n",
        "plt.plot(train_fpr, train_tpr, label=\"train AUC =\"+str(auc(train_fpr, train_tpr)))\n",
        "plt.plot(test_fpr, test_tpr, label=\"test AUC =\"+str(auc(test_fpr, test_tpr)))\n",
        "plt.legend()\n",
        "plt.xlabel(\"False Positive Rate\")\n",
        "plt.ylabel(\"True Positive Rate\")\n",
        "plt.title(\"FPR vs TPR\")\n",
        "plt.grid()\n",
        "plt.show()"
      ],
      "execution_count": 128,
      "outputs": [
        {
          "output_type": "display_data",
          "data": {
            "image/png": "[encoded data removed]",
            "text/plain": [
              "<Figure size 432x288 with 1 Axes>"
            ]
          },
          "metadata": {
            "tags": []
          }
        }
      ]
    },
    {
      "cell_type": "markdown",
      "metadata": {
        "id": "hK2nx3pYKC-v",
        "colab_type": "text"
      },
      "source": [
        ""
      ]
    },
    {
      "cell_type": "code",
      "metadata": {
        "id": "NW8naEOEEK2-",
        "colab_type": "code",
        "outputId": "951f9f81-d28f-4f21-badc-f333b528f7b6",
        "colab": {
          "base_uri": "https://localhost:8080/",
          "height": 50
        }
      },
      "source": [
        "from sklearn.metrics import f1_score\n",
        "print('Train f1 score',f1_score(y_train,y_train_pred.round()))\n",
        "print('Test f1 score',f1_score(y_test,y_test_pred.round()))"
      ],
      "execution_count": 129,
      "outputs": [
        {
          "output_type": "stream",
          "text": [
            "Train f1 score 0.9788043038589112\n",
            "Test f1 score 0.9286456015427977\n"
          ],
          "name": "stdout"
        }
      ]
    },
    {
      "cell_type": "code",
      "metadata": {
        "id": "cMlDNtd4Bsyq",
        "colab_type": "code",
        "colab": {}
      },
      "source": [
        "from sklearn.metrics import confusion_matrix\n",
        "def plot_confusion_matrix(y_test, predict_y):\n",
        "    C = confusion_matrix(y_test, predict_y)\n",
        "    \n",
        "    A =(((C.T)/(C.sum(axis=1))).T)\n",
        "    \n",
        "    B =(C/C.sum(axis=0))\n",
        "    plt.figure(figsize=(20,4))\n",
        "    \n",
        "    labels = [0,1]\n",
        "    # representing A in heatmap format\n",
        "    cmap=sns.light_palette(\"blue\")\n",
        "    plt.subplot(1, 3, 1)\n",
        "    sns.heatmap(C, annot=True, cmap=cmap, fmt=\".3f\", xticklabels=labels, yticklabels=labels)\n",
        "    plt.xlabel('Predicted Class')\n",
        "    plt.ylabel('Original Class')\n",
        "    plt.title(\"Confusion matrix\")\n",
        "    \n",
        "    plt.subplot(1, 3, 2)\n",
        "    sns.heatmap(B, annot=True, cmap=cmap, fmt=\".3f\", xticklabels=labels, yticklabels=labels)\n",
        "    plt.xlabel('Predicted Class')\n",
        "    plt.ylabel('Original Class')\n",
        "    plt.title(\"Precision matrix\")\n",
        "    \n",
        "    plt.subplot(1, 3, 3)\n",
        "    # representing B in heatmap format\n",
        "    sns.heatmap(A, annot=True, cmap=cmap, fmt=\".3f\", xticklabels=labels, yticklabels=labels)\n",
        "    plt.xlabel('Predicted Class')\n",
        "    plt.ylabel('Original Class')\n",
        "    plt.title(\"Recall matrix\")\n",
        "    \n",
        "    plt.show()"
      ],
      "execution_count": 0,
      "outputs": []
    },
    {
      "cell_type": "code",
      "metadata": {
        "id": "6Ph5llW1B8Xg",
        "colab_type": "code",
        "outputId": "fd2e1d66-83f2-4a58-d512-2ff088f9552f",
        "colab": {
          "base_uri": "https://localhost:8080/",
          "height": 607
        }
      },
      "source": [
        "print('Train confusion_matrix')\n",
        "plot_confusion_matrix(y_train,y_train_pred.round())\n",
        "print('Test confusion_matrix')\n",
        "plot_confusion_matrix(y_test,y_test_pred.round())"
      ],
      "execution_count": 131,
      "outputs": [
        {
          "output_type": "stream",
          "text": [
            "Train confusion_matrix\n"
          ],
          "name": "stdout"
        },
        {
          "output_type": "display_data",
          "data": {
            "image/png": "[encoded data removed]",
            "text/plain": [
              "<Figure size 1440x288 with 6 Axes>"
            ]
          },
          "metadata": {
            "tags": []
          }
        },
        {
          "output_type": "stream",
          "text": [
            "Test confusion_matrix\n"
          ],
          "name": "stdout"
        },
        {
          "output_type": "display_data",
          "data": {
            "image/png": "[encoded data removed]",
            "text/plain": [
              "<Figure size 1440x288 with 6 Axes>"
            ]
          },
          "metadata": {
            "tags": []
          }
        }
      ]
    },
    {
      "cell_type": "markdown",
      "metadata": {
        "id": "_QvtsJmtIr_H",
        "colab_type": "text"
      },
      "source": [
        "<h1>SUMMARY"
      ]
    },
    {
      "cell_type": "markdown",
      "metadata": {
        "id": "0zJmCfQaIy4i",
        "colab_type": "text"
      },
      "source": [
        "<h2>Train confusion matrix </h2>\n",
        "\n",
        "Here the Recall(TPR) = 0.967 i.e., out of total positive points 96.7% are correctly predicted.<br>\n",
        "\n",
        "Recall = TP/(TP + FN)<br>\n",
        "  \n",
        "Precision = 0.991 i.e., out of total points for which the model predicted as positive class 99.1% are true. <br>\n",
        "Precision = TP/(TP + FP) <br>\n",
        "  \n",
        "TNR = 0.968 which seems the model is performing well for the negative points.\n",
        "\n",
        "\n",
        "\n",
        "<h2>Test confusion matrix </h2>\n",
        "\n",
        "Here the Recall(TPR) = 0.878 i.e., out of total positive points 87.8% are correctly predicted.<br>\n",
        "\n",
        "Recall = TP/(TP + FN)<br>\n",
        "  \n",
        "Precision = 0.986 i.e., out of total points for which the model predicted as positive class 98.6% are true. <br>\n",
        "Precision = TP/(TP + FP) <br>\n",
        "  \n",
        "TNR = 0.890 which seems the model is performing well for the negative points."
      ]
    },
    {
      "cell_type": "code",
      "metadata": {
        "id": "zNIeEgTtEgB0",
        "colab_type": "code",
        "outputId": "0ba8788b-3824-4767-86c8-53d55a206ee9",
        "colab": {
          "base_uri": "https://localhost:8080/",
          "height": 295
        }
      },
      "source": [
        "from sklearn.metrics import roc_curve, auc\n",
        "fpr,tpr,ths = roc_curve(y_test,y_test_pred)\n",
        "auc_sc = auc(fpr, tpr)\n",
        "plt.plot(fpr, tpr, color='navy',label='ROC curve (area = %0.2f)' % auc_sc)\n",
        "plt.xlabel('False Positive Rate')\n",
        "plt.ylabel('True Positive Rate')\n",
        "plt.title('Receiver operating characteristic with test data')\n",
        "plt.legend()\n",
        "plt.show()"
      ],
      "execution_count": 132,
      "outputs": [
        {
          "output_type": "display_data",
          "data": {
            "image/png": "[encoded data removed]",
            "text/plain": [
              "<Figure size 432x288 with 1 Axes>"
            ]
          },
          "metadata": {
            "tags": []
          }
        }
      ]
    },
    {
      "cell_type": "code",
      "metadata": {
        "id": "tTuq7UwUbioq",
        "colab_type": "code",
        "outputId": "2b28f774-2b7e-4c70-c929-e72c65d8070e",
        "colab": {
          "base_uri": "https://localhost:8080/",
          "height": 730
        }
      },
      "source": [
        "features = X_train.columns\n",
        "importances = xgb.feature_importances_\n",
        "indices = (np.argsort(importances))[-25:]\n",
        "plt.figure(figsize=(10,12))\n",
        "plt.title('Feature Importances')\n",
        "plt.barh(range(len(indices)), importances[indices], color='r', align='center')\n",
        "plt.yticks(range(len(indices)), [features[i] for i in indices])\n",
        "plt.xlabel('Relative Importance')\n",
        "plt.show()"
      ],
      "execution_count": 133,
      "outputs": [
        {
          "output_type": "display_data",
          "data": {
            "image/png": "[encoded data removed]",
            "text/plain": [
              "<Figure size 720x864 with 1 Axes>"
            ]
          },
          "metadata": {
            "tags": []
          }
        }
      ]
    },
    {
      "cell_type": "markdown",
      "metadata": {
        "id": "fx-RUKnYLVwN",
        "colab_type": "text"
      },
      "source": [
        "<b> Here in the above picture relative importance of the features is represented. \"follows_back\" and \"cosine_followers\" are the most important features."
      ]
    },
    {
      "cell_type": "code",
      "metadata": {
        "id": "7XTJiTZx2yaj",
        "colab_type": "code",
        "colab": {}
      },
      "source": [
        ""
      ],
      "execution_count": 0,
      "outputs": []
    }
  ]
}